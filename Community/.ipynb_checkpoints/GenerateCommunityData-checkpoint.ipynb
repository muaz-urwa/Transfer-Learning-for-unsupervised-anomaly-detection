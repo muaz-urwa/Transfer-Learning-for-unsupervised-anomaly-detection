{
 "cells": [
  {
   "cell_type": "code",
   "execution_count": 25,
   "metadata": {},
   "outputs": [],
   "source": [
    "import pandas as pd\n",
    "import numpy as np\n",
    "import torch\n",
    "from torch_geometric.data import Data\n",
    "\n",
    "import torch\n",
    "import torch.nn.functional as F\n",
    "import torch.nn as nn\n",
    "from torch_geometric.nn import GCNConv\n",
    "import torch.utils.data\n",
    "\n",
    "from sklearn.mixture import GaussianMixture \n",
    "\n",
    "import networkx as nx\n",
    "import os\n",
    "\n",
    "import matplotlib.pyplot as plt\n",
    "%matplotlib inline"
   ]
  },
  {
   "cell_type": "code",
   "execution_count": 2,
   "metadata": {},
   "outputs": [],
   "source": [
    "def loadData(file):\n",
    "    data = pd.read_csv(file)\n",
    "    print('Raw shape: ',data.shape)\n",
    "    data['date'] = pd.to_datetime(data.date)\n",
    "    print('Days: ',len(set(data.date)))\n",
    "    return data"
   ]
  },
  {
   "cell_type": "code",
   "execution_count": 3,
   "metadata": {},
   "outputs": [],
   "source": [
    "def getTimeSeries(df):\n",
    "    table = pd.pivot_table(df, values='amount', index=['date'],\n",
    "                    columns=['start_id','end_id'], aggfunc=np.sum, fill_value=0)\n",
    "    return table,table.index.values"
   ]
  },
  {
   "cell_type": "code",
   "execution_count": 9,
   "metadata": {},
   "outputs": [],
   "source": [
    "def getMatrixData():\n",
    "    file = dataDir + dataFile\n",
    "    dataRaw = loadData(file)\n",
    "    dataTs,dates = getTimeSeries(dataRaw)\n",
    "    #print(dataTs.columns)\n",
    "    matrix = dataTs.values\n",
    "    print('Matrix Shape: ',matrix.shape)\n",
    "    return matrix,dates"
   ]
  },
  {
   "cell_type": "code",
   "execution_count": 21,
   "metadata": {},
   "outputs": [],
   "source": [
    "def getComboPartition(G,maxcom,comboDir):\n",
    "    #save network in net format\n",
    "    nodes={}\n",
    "    nodenum={}\n",
    "    i=0\n",
    "    #create a dictionary transforming nodes to unique numbers\n",
    "    for n in list(G.nodes()):\n",
    "        nodenum[n]=i\n",
    "        nodes[i]=n\n",
    "        i+=1\n",
    "    tempNetFile = comboDir+'temp/temp.net'\n",
    "    f = open(tempNetFile, 'w')\n",
    "    f.write('*Arcs\\n')\n",
    "    print(\"Nodes: \",len(G.nodes()))\n",
    "    print(\"Edges: \",len(G.edges()))\n",
    "    for e in G.edges(data=True):\n",
    "        f.write('{0} {1} {2}\\n'.format(nodenum[e[0]],nodenum[e[1]],e[2]['weight']))\n",
    "    f.close()\n",
    "    \n",
    "    #run combo\n",
    "    command=comboDir+'comboCPP '+tempNetFile\n",
    "    if maxcom<np.inf:\n",
    "        command=command+' {0}'.format(maxcom) \n",
    "    os.system(command)\n",
    "    \n",
    "    #read resulting partition\n",
    "    partitionFile = \"\".join(tempNetFile.split('.')[:-1]) + '_comm_comboC++.txt'\n",
    "    f = open(partitionFile, 'r')\n",
    "    i=0\n",
    "    partition={}\n",
    "    for line in f:\n",
    "        partition[nodes[i]]=int(line)\n",
    "        i+=1\n",
    "    f.close()\n",
    "    print(\"Communities: \",len(set(partition.values())))\n",
    "    return partition    "
   ]
  },
  {
   "cell_type": "code",
   "execution_count": 22,
   "metadata": {},
   "outputs": [],
   "source": [
    "def makeGraphfromDf(df):\n",
    "    G=nx.DiGraph()\n",
    "    nx.set_edge_attributes(G,'weight', 0)\n",
    "    for k in df.index:\n",
    "        G.add_edge(df['start_id'][k],df['end_id'][k],weight=df['amount'][k])\n",
    "    return G"
   ]
  },
  {
   "cell_type": "code",
   "execution_count": 19,
   "metadata": {},
   "outputs": [],
   "source": [
    "def getCommunityPartition(aggregatedData,maxcom):\n",
    "    Graph = makeGraphfromDf(aggregatedData)\n",
    "    partition = getComboPartition(Graph,maxcom,comboDir)\n",
    "    return partition"
   ]
  },
  {
   "cell_type": "code",
   "execution_count": null,
   "metadata": {},
   "outputs": [],
   "source": []
  },
  {
   "cell_type": "code",
   "execution_count": 10,
   "metadata": {},
   "outputs": [],
   "source": [
    "dataDir = '/home/urwa/Documents/Projects/AnomalyDetection/Pipeline/data/'\n",
    "dataFile = '20190402_TaipeiEdgesDatewise.csv'\n",
    "events_data =dataDir+'TaipeiEvents.csv'"
   ]
  },
  {
   "cell_type": "code",
   "execution_count": 11,
   "metadata": {},
   "outputs": [
    {
     "name": "stdout",
     "output_type": "stream",
     "text": [
      "Raw shape:  (7374816, 5)\n",
      "Days:  638\n",
      "Matrix Shape:  (638, 11664)\n"
     ]
    },
    {
     "data": {
      "text/plain": [
       "(638, 11664)"
      ]
     },
     "execution_count": 11,
     "metadata": {},
     "output_type": "execute_result"
    }
   ],
   "source": [
    "#matrix = np.stack((dataOut.values, dataIn.values),-1)\n",
    "matrix,dates = getMatrixData()\n",
    "matrix = matrix.astype(float)\n",
    "matrix.shape"
   ]
  },
  {
   "cell_type": "code",
   "execution_count": 12,
   "metadata": {},
   "outputs": [
    {
     "data": {
      "text/html": [
       "<div>\n",
       "<style scoped>\n",
       "    .dataframe tbody tr th:only-of-type {\n",
       "        vertical-align: middle;\n",
       "    }\n",
       "\n",
       "    .dataframe tbody tr th {\n",
       "        vertical-align: top;\n",
       "    }\n",
       "\n",
       "    .dataframe thead th {\n",
       "        text-align: right;\n",
       "    }\n",
       "</style>\n",
       "<table border=\"1\" class=\"dataframe\">\n",
       "  <thead>\n",
       "    <tr style=\"text-align: right;\">\n",
       "      <th></th>\n",
       "      <th>start_id</th>\n",
       "      <th>end_id</th>\n",
       "      <th>amount</th>\n",
       "    </tr>\n",
       "  </thead>\n",
       "  <tbody>\n",
       "    <tr>\n",
       "      <th>0</th>\n",
       "      <td>BL01</td>\n",
       "      <td>BL01</td>\n",
       "      <td>26603.0</td>\n",
       "    </tr>\n",
       "    <tr>\n",
       "      <th>1</th>\n",
       "      <td>BL01</td>\n",
       "      <td>BL02</td>\n",
       "      <td>110416.0</td>\n",
       "    </tr>\n",
       "    <tr>\n",
       "      <th>2</th>\n",
       "      <td>BL01</td>\n",
       "      <td>BL03</td>\n",
       "      <td>90774.0</td>\n",
       "    </tr>\n",
       "  </tbody>\n",
       "</table>\n",
       "</div>"
      ],
      "text/plain": [
       "  start_id end_id    amount\n",
       "0     BL01   BL01   26603.0\n",
       "1     BL01   BL02  110416.0\n",
       "2     BL01   BL03   90774.0"
      ]
     },
     "execution_count": 12,
     "metadata": {},
     "output_type": "execute_result"
    }
   ],
   "source": [
    "columnInfo = pd.read_csv('../columnInfo.csv')\n",
    "columnInfo['amount']=np.sum(matrix, axis=0)\n",
    "columnInfo = columnInfo[['start_id','end_id','amount']]\n",
    "columnInfo.head(3)"
   ]
  },
  {
   "cell_type": "code",
   "execution_count": 17,
   "metadata": {},
   "outputs": [],
   "source": [
    "maxcom = np.inf\n",
    "comboDir = '/home/urwa/Documents/Projects/AnomalyDetection/Pipeline/combo/'"
   ]
  },
  {
   "cell_type": "code",
   "execution_count": 26,
   "metadata": {},
   "outputs": [
    {
     "name": "stdout",
     "output_type": "stream",
     "text": [
      "Nodes:  108\n",
      "Edges:  11664\n",
      "Communities:  4\n"
     ]
    }
   ],
   "source": [
    "partition = getCommunityPartition(columnInfo,maxcom)"
   ]
  },
  {
   "cell_type": "code",
   "execution_count": 27,
   "metadata": {},
   "outputs": [
    {
     "data": {
      "text/html": [
       "<div>\n",
       "<style scoped>\n",
       "    .dataframe tbody tr th:only-of-type {\n",
       "        vertical-align: middle;\n",
       "    }\n",
       "\n",
       "    .dataframe tbody tr th {\n",
       "        vertical-align: top;\n",
       "    }\n",
       "\n",
       "    .dataframe thead th {\n",
       "        text-align: right;\n",
       "    }\n",
       "</style>\n",
       "<table border=\"1\" class=\"dataframe\">\n",
       "  <thead>\n",
       "    <tr style=\"text-align: right;\">\n",
       "      <th></th>\n",
       "      <th>start_id</th>\n",
       "      <th>end_id</th>\n",
       "      <th>amount</th>\n",
       "      <th>start_community</th>\n",
       "      <th>end_community</th>\n",
       "    </tr>\n",
       "  </thead>\n",
       "  <tbody>\n",
       "    <tr>\n",
       "      <th>0</th>\n",
       "      <td>BL01</td>\n",
       "      <td>BL01</td>\n",
       "      <td>26603.0</td>\n",
       "      <td>3</td>\n",
       "      <td>3</td>\n",
       "    </tr>\n",
       "    <tr>\n",
       "      <th>1</th>\n",
       "      <td>BL01</td>\n",
       "      <td>BL02</td>\n",
       "      <td>110416.0</td>\n",
       "      <td>3</td>\n",
       "      <td>3</td>\n",
       "    </tr>\n",
       "    <tr>\n",
       "      <th>2</th>\n",
       "      <td>BL01</td>\n",
       "      <td>BL03</td>\n",
       "      <td>90774.0</td>\n",
       "      <td>3</td>\n",
       "      <td>3</td>\n",
       "    </tr>\n",
       "  </tbody>\n",
       "</table>\n",
       "</div>"
      ],
      "text/plain": [
       "  start_id end_id    amount  start_community  end_community\n",
       "0     BL01   BL01   26603.0                3              3\n",
       "1     BL01   BL02  110416.0                3              3\n",
       "2     BL01   BL03   90774.0                3              3"
      ]
     },
     "execution_count": 27,
     "metadata": {},
     "output_type": "execute_result"
    }
   ],
   "source": [
    "columnInfo['start_community'] = columnInfo['start_id'].apply(lambda x: partition[x])\n",
    "columnInfo['end_community'] = columnInfo['end_id'].apply(lambda x: partition[x])\n",
    "columnInfo.head(3)"
   ]
  },
  {
   "cell_type": "code",
   "execution_count": null,
   "metadata": {},
   "outputs": [],
   "source": []
  },
  {
   "cell_type": "code",
   "execution_count": 28,
   "metadata": {},
   "outputs": [
    {
     "data": {
      "text/plain": [
       "[0, 1, 2, 3]"
      ]
     },
     "execution_count": 28,
     "metadata": {},
     "output_type": "execute_result"
    }
   ],
   "source": [
    "communities = list(set(partition.values()))\n",
    "communities"
   ]
  },
  {
   "cell_type": "code",
   "execution_count": 29,
   "metadata": {},
   "outputs": [
    {
     "name": "stdout",
     "output_type": "stream",
     "text": [
      "Nodes:  25\n",
      "Edges:  625\n",
      "Communities:  2\n",
      "Nodes:  22\n",
      "Edges:  484\n",
      "Communities:  2\n",
      "Nodes:  39\n",
      "Edges:  1521\n",
      "Communities:  4\n",
      "Nodes:  22\n",
      "Edges:  484\n",
      "Communities:  2\n"
     ]
    }
   ],
   "source": [
    "pList = []\n",
    "for c in communities:\n",
    "    d = columnInfo[(columnInfo.start_community == c) & (columnInfo.end_community == c)]\n",
    "    graph = makeGraphfromDf(d)\n",
    "    p = getComboPartition(graph,maxcom,comboDir)\n",
    "    pList.append(p)"
   ]
  },
  {
   "cell_type": "code",
   "execution_count": 30,
   "metadata": {},
   "outputs": [
    {
     "data": {
      "text/plain": [
       "[0, 2, 4, 8]"
      ]
     },
     "execution_count": 30,
     "metadata": {},
     "output_type": "execute_result"
    }
   ],
   "source": [
    "add = [0]\n",
    "v =0\n",
    "for i in range(len(pList)-1):\n",
    "    v += max(pList[i].values())+1\n",
    "    add.append(v)\n",
    "add"
   ]
  },
  {
   "cell_type": "code",
   "execution_count": 31,
   "metadata": {},
   "outputs": [],
   "source": [
    "for i in range(len(pList)):\n",
    "    for k in list(pList[i].keys()):\n",
    "        pList[i][k] += add[i]\n",
    "        \n",
    "nestedPartition = {}\n",
    "for p in pList:\n",
    "    for k in list(p.keys()):\n",
    "        nestedPartition[k]= p[k]"
   ]
  },
  {
   "cell_type": "code",
   "execution_count": 32,
   "metadata": {},
   "outputs": [
    {
     "data": {
      "text/html": [
       "<div>\n",
       "<style scoped>\n",
       "    .dataframe tbody tr th:only-of-type {\n",
       "        vertical-align: middle;\n",
       "    }\n",
       "\n",
       "    .dataframe tbody tr th {\n",
       "        vertical-align: top;\n",
       "    }\n",
       "\n",
       "    .dataframe thead th {\n",
       "        text-align: right;\n",
       "    }\n",
       "</style>\n",
       "<table border=\"1\" class=\"dataframe\">\n",
       "  <thead>\n",
       "    <tr style=\"text-align: right;\">\n",
       "      <th></th>\n",
       "      <th>start_id</th>\n",
       "      <th>end_id</th>\n",
       "      <th>amount</th>\n",
       "      <th>start_community</th>\n",
       "      <th>end_community</th>\n",
       "    </tr>\n",
       "  </thead>\n",
       "  <tbody>\n",
       "    <tr>\n",
       "      <th>0</th>\n",
       "      <td>BL01</td>\n",
       "      <td>BL01</td>\n",
       "      <td>26603.0</td>\n",
       "      <td>8</td>\n",
       "      <td>8</td>\n",
       "    </tr>\n",
       "    <tr>\n",
       "      <th>1</th>\n",
       "      <td>BL01</td>\n",
       "      <td>BL02</td>\n",
       "      <td>110416.0</td>\n",
       "      <td>8</td>\n",
       "      <td>8</td>\n",
       "    </tr>\n",
       "    <tr>\n",
       "      <th>2</th>\n",
       "      <td>BL01</td>\n",
       "      <td>BL03</td>\n",
       "      <td>90774.0</td>\n",
       "      <td>8</td>\n",
       "      <td>8</td>\n",
       "    </tr>\n",
       "  </tbody>\n",
       "</table>\n",
       "</div>"
      ],
      "text/plain": [
       "  start_id end_id    amount  start_community  end_community\n",
       "0     BL01   BL01   26603.0                8              8\n",
       "1     BL01   BL02  110416.0                8              8\n",
       "2     BL01   BL03   90774.0                8              8"
      ]
     },
     "execution_count": 32,
     "metadata": {},
     "output_type": "execute_result"
    }
   ],
   "source": [
    "columnInfo['start_community'] = columnInfo['start_id'].apply(lambda x: nestedPartition[x])\n",
    "columnInfo['end_community'] = columnInfo['end_id'].apply(lambda x: nestedPartition[x])\n",
    "columnInfo.head(3)"
   ]
  },
  {
   "cell_type": "code",
   "execution_count": 33,
   "metadata": {},
   "outputs": [
    {
     "data": {
      "text/plain": [
       "(638, 100)"
      ]
     },
     "execution_count": 33,
     "metadata": {},
     "output_type": "execute_result"
    }
   ],
   "source": [
    "n_com = len(set(columnInfo.start_community))\n",
    "newmatrix = np.zeros((matrix.shape[0],n_com**2))\n",
    "for i in range(columnInfo.shape[0]):\n",
    "    s_com = columnInfo.iloc[i]['start_community']\n",
    "    e_com = columnInfo.iloc[i]['end_community']\n",
    "    col = n_com * s_com + e_com\n",
    "    newmatrix[:,col] += matrix[:,i]\n",
    "    \n",
    "newmatrix.shape"
   ]
  },
  {
   "cell_type": "code",
   "execution_count": 35,
   "metadata": {},
   "outputs": [],
   "source": [
    "np.save('communityAggregatedMatrix',newmatrix)"
   ]
  }
 ],
 "metadata": {
  "kernelspec": {
   "display_name": "Python 3",
   "language": "python",
   "name": "python3"
  },
  "language_info": {
   "codemirror_mode": {
    "name": "ipython",
    "version": 3
   },
   "file_extension": ".py",
   "mimetype": "text/x-python",
   "name": "python",
   "nbconvert_exporter": "python",
   "pygments_lexer": "ipython3",
   "version": "3.7.3"
  }
 },
 "nbformat": 4,
 "nbformat_minor": 2
}
