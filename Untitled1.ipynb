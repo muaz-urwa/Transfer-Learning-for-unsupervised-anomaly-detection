{
 "cells": [
  {
   "cell_type": "code",
   "execution_count": 1,
   "metadata": {},
   "outputs": [],
   "source": [
    "import pandas as pd\n",
    "import numpy as np\n",
    "import torch\n",
    "from torch_geometric.data import Data"
   ]
  },
  {
   "cell_type": "code",
   "execution_count": 2,
   "metadata": {},
   "outputs": [],
   "source": [
    "def loadData(file):\n",
    "    data = pd.read_csv(file)\n",
    "    print('Raw shape: ',data.shape)\n",
    "    data['date'] = pd.to_datetime(data.date)\n",
    "    print('Days: ',len(set(data.date)))\n",
    "    return data"
   ]
  },
  {
   "cell_type": "code",
   "execution_count": 3,
   "metadata": {},
   "outputs": [],
   "source": [
    "def getTimeSeries(df):\n",
    "    table = pd.pivot_table(df, values='amount', index=['date'],\n",
    "                    columns=['start_id','end_id'], aggfunc=np.sum, fill_value=0)\n",
    "    return table"
   ]
  },
  {
   "cell_type": "code",
   "execution_count": 4,
   "metadata": {},
   "outputs": [],
   "source": [
    "dataDir = '/home/urwa/Documents/Projects/AnomalyDetection/Pipeline/data/'\n",
    "comboDir = 'combo/'\n",
    "dataFile = '20190402_TaipeiEdgesDatewise.csv'\n",
    "events_data =dataDir+'TaipeiEvents.csv'"
   ]
  },
  {
   "cell_type": "code",
   "execution_count": 5,
   "metadata": {},
   "outputs": [
    {
     "name": "stdout",
     "output_type": "stream",
     "text": [
      "Raw shape:  (7374816, 5)\n",
      "Days:  638\n"
     ]
    }
   ],
   "source": [
    "file = dataDir + dataFile\n",
    "data = loadData(file)"
   ]
  },
  {
   "cell_type": "code",
   "execution_count": 6,
   "metadata": {},
   "outputs": [],
   "source": [
    "dataTs = getTimeSeries(data)"
   ]
  },
  {
   "cell_type": "code",
   "execution_count": 7,
   "metadata": {},
   "outputs": [
    {
     "data": {
      "text/html": [
       "<div>\n",
       "<style scoped>\n",
       "    .dataframe tbody tr th:only-of-type {\n",
       "        vertical-align: middle;\n",
       "    }\n",
       "\n",
       "    .dataframe tbody tr th {\n",
       "        vertical-align: top;\n",
       "    }\n",
       "\n",
       "    .dataframe thead tr th {\n",
       "        text-align: left;\n",
       "    }\n",
       "\n",
       "    .dataframe thead tr:last-of-type th {\n",
       "        text-align: right;\n",
       "    }\n",
       "</style>\n",
       "<table border=\"1\" class=\"dataframe\">\n",
       "  <thead>\n",
       "    <tr>\n",
       "      <th>start_id</th>\n",
       "      <th colspan=\"10\" halign=\"left\">BL01</th>\n",
       "      <th>...</th>\n",
       "      <th colspan=\"10\" halign=\"left\">R28</th>\n",
       "    </tr>\n",
       "    <tr>\n",
       "      <th>end_id</th>\n",
       "      <th>BL01</th>\n",
       "      <th>BL02</th>\n",
       "      <th>BL03</th>\n",
       "      <th>BL04</th>\n",
       "      <th>BL05</th>\n",
       "      <th>BL06</th>\n",
       "      <th>BL07</th>\n",
       "      <th>BL08</th>\n",
       "      <th>BL09</th>\n",
       "      <th>BL10</th>\n",
       "      <th>...</th>\n",
       "      <th>R20</th>\n",
       "      <th>R21</th>\n",
       "      <th>R22</th>\n",
       "      <th>R22A</th>\n",
       "      <th>R23</th>\n",
       "      <th>R24</th>\n",
       "      <th>R25</th>\n",
       "      <th>R26</th>\n",
       "      <th>R27</th>\n",
       "      <th>R28</th>\n",
       "    </tr>\n",
       "    <tr>\n",
       "      <th>date</th>\n",
       "      <th></th>\n",
       "      <th></th>\n",
       "      <th></th>\n",
       "      <th></th>\n",
       "      <th></th>\n",
       "      <th></th>\n",
       "      <th></th>\n",
       "      <th></th>\n",
       "      <th></th>\n",
       "      <th></th>\n",
       "      <th></th>\n",
       "      <th></th>\n",
       "      <th></th>\n",
       "      <th></th>\n",
       "      <th></th>\n",
       "      <th></th>\n",
       "      <th></th>\n",
       "      <th></th>\n",
       "      <th></th>\n",
       "      <th></th>\n",
       "      <th></th>\n",
       "    </tr>\n",
       "  </thead>\n",
       "  <tbody>\n",
       "    <tr>\n",
       "      <th>2017-01-01</th>\n",
       "      <td>70</td>\n",
       "      <td>111</td>\n",
       "      <td>97</td>\n",
       "      <td>174</td>\n",
       "      <td>147</td>\n",
       "      <td>420</td>\n",
       "      <td>991</td>\n",
       "      <td>249</td>\n",
       "      <td>96</td>\n",
       "      <td>213</td>\n",
       "      <td>...</td>\n",
       "      <td>559</td>\n",
       "      <td>510</td>\n",
       "      <td>1610</td>\n",
       "      <td>1143</td>\n",
       "      <td>532</td>\n",
       "      <td>469</td>\n",
       "      <td>1729</td>\n",
       "      <td>2019</td>\n",
       "      <td>1577</td>\n",
       "      <td>811</td>\n",
       "    </tr>\n",
       "    <tr>\n",
       "      <th>2017-01-02</th>\n",
       "      <td>40</td>\n",
       "      <td>125</td>\n",
       "      <td>91</td>\n",
       "      <td>180</td>\n",
       "      <td>227</td>\n",
       "      <td>344</td>\n",
       "      <td>838</td>\n",
       "      <td>232</td>\n",
       "      <td>76</td>\n",
       "      <td>191</td>\n",
       "      <td>...</td>\n",
       "      <td>331</td>\n",
       "      <td>398</td>\n",
       "      <td>1242</td>\n",
       "      <td>733</td>\n",
       "      <td>309</td>\n",
       "      <td>360</td>\n",
       "      <td>1233</td>\n",
       "      <td>1270</td>\n",
       "      <td>705</td>\n",
       "      <td>440</td>\n",
       "    </tr>\n",
       "    <tr>\n",
       "      <th>2017-01-03</th>\n",
       "      <td>49</td>\n",
       "      <td>140</td>\n",
       "      <td>134</td>\n",
       "      <td>436</td>\n",
       "      <td>334</td>\n",
       "      <td>388</td>\n",
       "      <td>610</td>\n",
       "      <td>480</td>\n",
       "      <td>159</td>\n",
       "      <td>214</td>\n",
       "      <td>...</td>\n",
       "      <td>299</td>\n",
       "      <td>481</td>\n",
       "      <td>1408</td>\n",
       "      <td>502</td>\n",
       "      <td>210</td>\n",
       "      <td>219</td>\n",
       "      <td>1499</td>\n",
       "      <td>947</td>\n",
       "      <td>396</td>\n",
       "      <td>244</td>\n",
       "    </tr>\n",
       "    <tr>\n",
       "      <th>2017-01-04</th>\n",
       "      <td>32</td>\n",
       "      <td>159</td>\n",
       "      <td>150</td>\n",
       "      <td>454</td>\n",
       "      <td>351</td>\n",
       "      <td>393</td>\n",
       "      <td>592</td>\n",
       "      <td>436</td>\n",
       "      <td>155</td>\n",
       "      <td>230</td>\n",
       "      <td>...</td>\n",
       "      <td>343</td>\n",
       "      <td>516</td>\n",
       "      <td>1448</td>\n",
       "      <td>492</td>\n",
       "      <td>277</td>\n",
       "      <td>223</td>\n",
       "      <td>1563</td>\n",
       "      <td>1011</td>\n",
       "      <td>380</td>\n",
       "      <td>205</td>\n",
       "    </tr>\n",
       "    <tr>\n",
       "      <th>2017-01-05</th>\n",
       "      <td>37</td>\n",
       "      <td>138</td>\n",
       "      <td>175</td>\n",
       "      <td>420</td>\n",
       "      <td>303</td>\n",
       "      <td>395</td>\n",
       "      <td>593</td>\n",
       "      <td>431</td>\n",
       "      <td>159</td>\n",
       "      <td>203</td>\n",
       "      <td>...</td>\n",
       "      <td>311</td>\n",
       "      <td>508</td>\n",
       "      <td>1380</td>\n",
       "      <td>522</td>\n",
       "      <td>241</td>\n",
       "      <td>226</td>\n",
       "      <td>1569</td>\n",
       "      <td>992</td>\n",
       "      <td>406</td>\n",
       "      <td>195</td>\n",
       "    </tr>\n",
       "  </tbody>\n",
       "</table>\n",
       "<p>5 rows × 11664 columns</p>\n",
       "</div>"
      ],
      "text/plain": [
       "start_id   BL01                                               ...  R28       \\\n",
       "end_id     BL01 BL02 BL03 BL04 BL05 BL06 BL07 BL08 BL09 BL10  ...  R20  R21   \n",
       "date                                                          ...             \n",
       "2017-01-01   70  111   97  174  147  420  991  249   96  213  ...  559  510   \n",
       "2017-01-02   40  125   91  180  227  344  838  232   76  191  ...  331  398   \n",
       "2017-01-03   49  140  134  436  334  388  610  480  159  214  ...  299  481   \n",
       "2017-01-04   32  159  150  454  351  393  592  436  155  230  ...  343  516   \n",
       "2017-01-05   37  138  175  420  303  395  593  431  159  203  ...  311  508   \n",
       "\n",
       "start_id                                                 \n",
       "end_id       R22  R22A  R23  R24   R25   R26   R27  R28  \n",
       "date                                                     \n",
       "2017-01-01  1610  1143  532  469  1729  2019  1577  811  \n",
       "2017-01-02  1242   733  309  360  1233  1270   705  440  \n",
       "2017-01-03  1408   502  210  219  1499   947   396  244  \n",
       "2017-01-04  1448   492  277  223  1563  1011   380  205  \n",
       "2017-01-05  1380   522  241  226  1569   992   406  195  \n",
       "\n",
       "[5 rows x 11664 columns]"
      ]
     },
     "execution_count": 7,
     "metadata": {},
     "output_type": "execute_result"
    }
   ],
   "source": [
    "dataTs.head()"
   ]
  },
  {
   "cell_type": "code",
   "execution_count": 8,
   "metadata": {},
   "outputs": [
    {
     "data": {
      "text/html": [
       "<div>\n",
       "<style scoped>\n",
       "    .dataframe tbody tr th:only-of-type {\n",
       "        vertical-align: middle;\n",
       "    }\n",
       "\n",
       "    .dataframe tbody tr th {\n",
       "        vertical-align: top;\n",
       "    }\n",
       "\n",
       "    .dataframe thead th {\n",
       "        text-align: right;\n",
       "    }\n",
       "</style>\n",
       "<table border=\"1\" class=\"dataframe\">\n",
       "  <thead>\n",
       "    <tr style=\"text-align: right;\">\n",
       "      <th></th>\n",
       "      <th>Unnamed: 0</th>\n",
       "      <th>start_id</th>\n",
       "      <th>end_id</th>\n",
       "      <th>date</th>\n",
       "      <th>amount</th>\n",
       "    </tr>\n",
       "  </thead>\n",
       "  <tbody>\n",
       "    <tr>\n",
       "      <th>0</th>\n",
       "      <td>0</td>\n",
       "      <td>BL01</td>\n",
       "      <td>BL01</td>\n",
       "      <td>2017-01-01</td>\n",
       "      <td>70.0</td>\n",
       "    </tr>\n",
       "    <tr>\n",
       "      <th>1</th>\n",
       "      <td>1</td>\n",
       "      <td>BL01</td>\n",
       "      <td>BL01</td>\n",
       "      <td>2017-01-02</td>\n",
       "      <td>40.0</td>\n",
       "    </tr>\n",
       "    <tr>\n",
       "      <th>2</th>\n",
       "      <td>2</td>\n",
       "      <td>BL01</td>\n",
       "      <td>BL01</td>\n",
       "      <td>2017-01-03</td>\n",
       "      <td>49.0</td>\n",
       "    </tr>\n",
       "    <tr>\n",
       "      <th>3</th>\n",
       "      <td>3</td>\n",
       "      <td>BL01</td>\n",
       "      <td>BL01</td>\n",
       "      <td>2017-01-04</td>\n",
       "      <td>32.0</td>\n",
       "    </tr>\n",
       "    <tr>\n",
       "      <th>4</th>\n",
       "      <td>4</td>\n",
       "      <td>BL01</td>\n",
       "      <td>BL01</td>\n",
       "      <td>2017-01-05</td>\n",
       "      <td>37.0</td>\n",
       "    </tr>\n",
       "  </tbody>\n",
       "</table>\n",
       "</div>"
      ],
      "text/plain": [
       "   Unnamed: 0 start_id end_id       date  amount\n",
       "0           0     BL01   BL01 2017-01-01    70.0\n",
       "1           1     BL01   BL01 2017-01-02    40.0\n",
       "2           2     BL01   BL01 2017-01-03    49.0\n",
       "3           3     BL01   BL01 2017-01-04    32.0\n",
       "4           4     BL01   BL01 2017-01-05    37.0"
      ]
     },
     "execution_count": 8,
     "metadata": {},
     "output_type": "execute_result"
    }
   ],
   "source": [
    "data.head()"
   ]
  },
  {
   "cell_type": "code",
   "execution_count": 9,
   "metadata": {},
   "outputs": [],
   "source": [
    "dates = list(set(dataTs.index))\n",
    "DOW = list(pd.to_datetime(dataTs.index.values).dayofweek)"
   ]
  },
  {
   "cell_type": "code",
   "execution_count": 10,
   "metadata": {},
   "outputs": [],
   "source": [
    "stations = list(set(data.start_id))"
   ]
  },
  {
   "cell_type": "code",
   "execution_count": 11,
   "metadata": {},
   "outputs": [],
   "source": [
    "stationToIdx = dict(zip(stations,list(range(len(stations))))) "
   ]
  },
  {
   "cell_type": "code",
   "execution_count": 12,
   "metadata": {},
   "outputs": [],
   "source": [
    "n= len(stations)\n",
    "edge_index = [[a//n,a%n] for a in range(n*n)]\n",
    "edge_index = torch.tensor(edge_index, dtype=torch.long)"
   ]
  },
  {
   "cell_type": "code",
   "execution_count": 44,
   "metadata": {},
   "outputs": [],
   "source": [
    "dataList = []\n",
    "\n",
    "x = torch.tensor(np.ones((n,2)), dtype=torch.float)\n",
    "y = torch.tensor(np.array([0]), dtype=torch.long)\n",
    "data = Data(x=x, edge_index=edge_index.t().contiguous(),y=y)\n",
    "dataList.append(data)\n",
    "\n",
    "x = torch.tensor(np.zeros((n,2)), dtype=torch.float)\n",
    "y = torch.tensor(np.array([1]), dtype=torch.long)\n",
    "data = Data(x=x, edge_index=edge_index.t().contiguous(),y=y)\n",
    "dataList.append(data)\n",
    "\n",
    "data"
   ]
  },
  {
   "cell_type": "code",
   "execution_count": 46,
   "metadata": {},
   "outputs": [
    {
     "data": {
      "text/plain": [
       "(108, 11664, 2)"
      ]
     },
     "execution_count": 46,
     "metadata": {},
     "output_type": "execute_result"
    }
   ],
   "source": [
    "data.num_nodes, data.num_edges, data.num_node_features"
   ]
  },
  {
   "cell_type": "code",
   "execution_count": 47,
   "metadata": {},
   "outputs": [],
   "source": [
    "import torch\n",
    "import torch.nn.functional as F\n",
    "import torch.nn as nn\n",
    "from torch_geometric.nn import GCNConv"
   ]
  },
  {
   "cell_type": "code",
   "execution_count": 51,
   "metadata": {},
   "outputs": [],
   "source": [
    "class Net(torch.nn.Module):\n",
    "    def __init__(self):\n",
    "        super(Net, self).__init__()\n",
    "        self.conv1 = GCNConv(2, 16)\n",
    "        self.conv2 = GCNConv(16, 2)\n",
    "        self.linear1 = nn.Linear(108*2,2)\n",
    "\n",
    "    def forward(self, data):\n",
    "        x, edge_index = data.x, data.edge_index\n",
    "        x = self.conv1(x, edge_index)\n",
    "        x = F.relu(x)\n",
    "        x = F.dropout(x, training=self.training)\n",
    "        x = self.conv2(x, edge_index)\n",
    "        x = x.view(-1,108*2)\n",
    "        x = self.linear1(x)\n",
    "        return F.log_softmax(x, dim=1)"
   ]
  },
  {
   "cell_type": "code",
   "execution_count": 52,
   "metadata": {},
   "outputs": [],
   "source": [
    "device = torch.device('cuda' if torch.cuda.is_available() else 'cpu')\n",
    "model = Net().to(device)\n",
    "#data = dataset[0].to(device)\n",
    "optimizer = torch.optim.Adam(model.parameters(), lr=0.01, weight_decay=5e-4)\n",
    "criterion = nn.CrossEntropyLoss()"
   ]
  },
  {
   "cell_type": "code",
   "execution_count": 53,
   "metadata": {},
   "outputs": [],
   "source": [
    "model.train()\n",
    "for epoch in range(200):\n",
    "    for data in dataList:\n",
    "        #data.view(1,-1,-1)\n",
    "        data = data.to(device)\n",
    "        optimizer.zero_grad()\n",
    "        out = model(data)\n",
    "        loss = criterion(out, data.y)\n",
    "        loss.backward()\n",
    "        optimizer.step()\n",
    "        # ===================log========================\n",
    "    print('epoch [{}/{}], loss:{:.4f}, Accuracy:{:.4f}'\n",
    "        .format(epoch + 1, num_epochs, loss.item(), MSE_loss.item()))   "
   ]
  },
  {
   "cell_type": "code",
   "execution_count": null,
   "metadata": {},
   "outputs": [],
   "source": []
  }
 ],
 "metadata": {
  "kernelspec": {
   "display_name": "Python 3",
   "language": "python",
   "name": "python3"
  },
  "language_info": {
   "codemirror_mode": {
    "name": "ipython",
    "version": 3
   },
   "file_extension": ".py",
   "mimetype": "text/x-python",
   "name": "python",
   "nbconvert_exporter": "python",
   "pygments_lexer": "ipython3",
   "version": "3.7.3"
  }
 },
 "nbformat": 4,
 "nbformat_minor": 2
}
