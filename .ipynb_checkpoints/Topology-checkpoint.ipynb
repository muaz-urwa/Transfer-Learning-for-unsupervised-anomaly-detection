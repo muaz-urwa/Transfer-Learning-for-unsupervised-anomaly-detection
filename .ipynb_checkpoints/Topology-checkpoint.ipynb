{
 "cells": [
  {
   "cell_type": "code",
   "execution_count": 1,
   "metadata": {},
   "outputs": [],
   "source": [
    "import pandas as pd\n",
    "import numpy as np\n",
    "\n",
    "import re\n",
    "\n",
    "import matplotlib.pyplot as plt\n",
    "%matplotlib inline"
   ]
  },
  {
   "cell_type": "code",
   "execution_count": 77,
   "metadata": {},
   "outputs": [],
   "source": [
    "#https://english.metro.taipei/cp.aspx?n=1BE0AF76C79F9A38"
   ]
  },
  {
   "cell_type": "code",
   "execution_count": 2,
   "metadata": {},
   "outputs": [],
   "source": [
    "def loadData(file):\n",
    "    data = pd.read_csv(file)\n",
    "    print('Raw shape: ',data.shape)\n",
    "    data['date'] = pd.to_datetime(data.date)\n",
    "    print('Days: ',len(set(data.date)))\n",
    "    return data"
   ]
  },
  {
   "cell_type": "code",
   "execution_count": 3,
   "metadata": {},
   "outputs": [],
   "source": [
    "dataDir = '/home/urwa/Documents/Projects/AnomalyDetection/Pipeline/data/'\n",
    "dataFile = '20190402_TaipeiEdgesDatewise.csv'\n",
    "events_data =dataDir+'TaipeiEvents.csv'"
   ]
  },
  {
   "cell_type": "code",
   "execution_count": 4,
   "metadata": {},
   "outputs": [
    {
     "name": "stdout",
     "output_type": "stream",
     "text": [
      "Raw shape:  (7374816, 5)\n",
      "Days:  638\n"
     ]
    }
   ],
   "source": [
    "file = dataDir + dataFile\n",
    "dataRaw = loadData(file)"
   ]
  },
  {
   "cell_type": "code",
   "execution_count": 5,
   "metadata": {},
   "outputs": [
    {
     "data": {
      "text/html": [
       "<div>\n",
       "<style scoped>\n",
       "    .dataframe tbody tr th:only-of-type {\n",
       "        vertical-align: middle;\n",
       "    }\n",
       "\n",
       "    .dataframe tbody tr th {\n",
       "        vertical-align: top;\n",
       "    }\n",
       "\n",
       "    .dataframe thead th {\n",
       "        text-align: right;\n",
       "    }\n",
       "</style>\n",
       "<table border=\"1\" class=\"dataframe\">\n",
       "  <thead>\n",
       "    <tr style=\"text-align: right;\">\n",
       "      <th>end_id</th>\n",
       "      <th>BL01</th>\n",
       "      <th>BL02</th>\n",
       "      <th>BL03</th>\n",
       "      <th>BL04</th>\n",
       "      <th>BL05</th>\n",
       "      <th>BL06</th>\n",
       "      <th>BL07</th>\n",
       "      <th>BL08</th>\n",
       "      <th>BL09</th>\n",
       "      <th>BL10</th>\n",
       "      <th>...</th>\n",
       "      <th>R20</th>\n",
       "      <th>R21</th>\n",
       "      <th>R22</th>\n",
       "      <th>R22A</th>\n",
       "      <th>R23</th>\n",
       "      <th>R24</th>\n",
       "      <th>R25</th>\n",
       "      <th>R26</th>\n",
       "      <th>R27</th>\n",
       "      <th>R28</th>\n",
       "    </tr>\n",
       "    <tr>\n",
       "      <th>date</th>\n",
       "      <th></th>\n",
       "      <th></th>\n",
       "      <th></th>\n",
       "      <th></th>\n",
       "      <th></th>\n",
       "      <th></th>\n",
       "      <th></th>\n",
       "      <th></th>\n",
       "      <th></th>\n",
       "      <th></th>\n",
       "      <th></th>\n",
       "      <th></th>\n",
       "      <th></th>\n",
       "      <th></th>\n",
       "      <th></th>\n",
       "      <th></th>\n",
       "      <th></th>\n",
       "      <th></th>\n",
       "      <th></th>\n",
       "      <th></th>\n",
       "      <th></th>\n",
       "    </tr>\n",
       "  </thead>\n",
       "  <tbody>\n",
       "    <tr>\n",
       "      <th>2017-01-01</th>\n",
       "      <td>6326</td>\n",
       "      <td>11444</td>\n",
       "      <td>5696</td>\n",
       "      <td>16834</td>\n",
       "      <td>12256</td>\n",
       "      <td>25559</td>\n",
       "      <td>45609</td>\n",
       "      <td>27781</td>\n",
       "      <td>18745</td>\n",
       "      <td>33240</td>\n",
       "      <td>...</td>\n",
       "      <td>5597</td>\n",
       "      <td>5937</td>\n",
       "      <td>15733</td>\n",
       "      <td>12194</td>\n",
       "      <td>2972</td>\n",
       "      <td>2067</td>\n",
       "      <td>9518</td>\n",
       "      <td>8439</td>\n",
       "      <td>6473</td>\n",
       "      <td>73538</td>\n",
       "    </tr>\n",
       "  </tbody>\n",
       "</table>\n",
       "<p>1 rows × 108 columns</p>\n",
       "</div>"
      ],
      "text/plain": [
       "end_id      BL01   BL02  BL03   BL04   BL05   BL06   BL07   BL08   BL09  \\\n",
       "date                                                                      \n",
       "2017-01-01  6326  11444  5696  16834  12256  25559  45609  27781  18745   \n",
       "\n",
       "end_id       BL10  ...   R20   R21    R22   R22A   R23   R24   R25   R26  \\\n",
       "date               ...                                                     \n",
       "2017-01-01  33240  ...  5597  5937  15733  12194  2972  2067  9518  8439   \n",
       "\n",
       "end_id       R27    R28  \n",
       "date                     \n",
       "2017-01-01  6473  73538  \n",
       "\n",
       "[1 rows x 108 columns]"
      ]
     },
     "execution_count": 5,
     "metadata": {},
     "output_type": "execute_result"
    }
   ],
   "source": [
    "dataIn =  pd.pivot_table(dataRaw, values='amount', index=['date'],\n",
    "                    columns=['end_id'], aggfunc=np.sum, fill_value=0)\n",
    "dataIn.head(1)"
   ]
  },
  {
   "cell_type": "code",
   "execution_count": 10,
   "metadata": {},
   "outputs": [
    {
     "data": {
      "text/plain": [
       "array(['BL01', 'BL02'], dtype=object)"
      ]
     },
     "execution_count": 10,
     "metadata": {},
     "output_type": "execute_result"
    }
   ],
   "source": [
    "allstations = dataIn.columns.values\n",
    "allstations[:2]"
   ]
  },
  {
   "cell_type": "code",
   "execution_count": 11,
   "metadata": {},
   "outputs": [],
   "source": [
    "lines = ['BR','BL','R','O','G']"
   ]
  },
  {
   "cell_type": "code",
   "execution_count": null,
   "metadata": {},
   "outputs": [],
   "source": [
    "## Brown \n",
    "## should be 24\n",
    "## missing: 10,24 : BL15,BL23"
   ]
  },
  {
   "cell_type": "code",
   "execution_count": 20,
   "metadata": {},
   "outputs": [
    {
     "data": {
      "text/plain": [
       "22"
      ]
     },
     "execution_count": 20,
     "metadata": {},
     "output_type": "execute_result"
    }
   ],
   "source": [
    "BrStations = [s for s in allstations if re.search(\"^\"+'BR'+\"\\d\",s)]\n",
    "len(BrStations)"
   ]
  },
  {
   "cell_type": "code",
   "execution_count": 21,
   "metadata": {},
   "outputs": [
    {
     "data": {
      "text/plain": [
       "24"
      ]
     },
     "execution_count": 21,
     "metadata": {},
     "output_type": "execute_result"
    }
   ],
   "source": [
    "BrStations = BrStations[:9]+['BL15']+BrStations[9:]+['BL23']\n",
    "len(BrStations)"
   ]
  },
  {
   "cell_type": "code",
   "execution_count": 22,
   "metadata": {},
   "outputs": [
    {
     "data": {
      "text/plain": [
       "46"
      ]
     },
     "execution_count": 22,
     "metadata": {},
     "output_type": "execute_result"
    }
   ],
   "source": [
    "BR_edges = []\n",
    "for i,y in enumerate(BrStations):\n",
    "    if i>0:\n",
    "        BR_edges.append([BrStations[i-1],y])\n",
    "    if i < len(BrStations)-1:\n",
    "        BR_edges.append([BrStations[i+1],y])\n",
    "len(BR_edges)"
   ]
  },
  {
   "cell_type": "code",
   "execution_count": null,
   "metadata": {},
   "outputs": [],
   "source": [
    "## Blue BL \n",
    "## should be 23\n",
    "## missing: "
   ]
  },
  {
   "cell_type": "code",
   "execution_count": 23,
   "metadata": {},
   "outputs": [
    {
     "data": {
      "text/plain": [
       "23"
      ]
     },
     "execution_count": 23,
     "metadata": {},
     "output_type": "execute_result"
    }
   ],
   "source": [
    "BlStations = [s for s in allstations if re.search(\"^\"+'BL'+\"\\d\",s)]\n",
    "len(BlStations)"
   ]
  },
  {
   "cell_type": "code",
   "execution_count": 25,
   "metadata": {},
   "outputs": [
    {
     "data": {
      "text/plain": [
       "44"
      ]
     },
     "execution_count": 25,
     "metadata": {},
     "output_type": "execute_result"
    }
   ],
   "source": [
    "BL_edges = []\n",
    "for i,y in enumerate(BlStations):\n",
    "    if i>0:\n",
    "        BL_edges.append([BlStations[i-1],y])\n",
    "    if i < len(BlStations)-1:\n",
    "        BL_edges.append([BlStations[i+1],y])\n",
    "len(BL_edges)"
   ]
  },
  {
   "cell_type": "code",
   "execution_count": null,
   "metadata": {},
   "outputs": [],
   "source": [
    "## Red\n",
    "## should be 28\n",
    "## missing: 5,7,8,10,11,13 : BR09,O06,G10,BL12,G14,O11\n",
    "## R22A connected only to R22"
   ]
  },
  {
   "cell_type": "code",
   "execution_count": 42,
   "metadata": {},
   "outputs": [
    {
     "data": {
      "text/plain": [
       "22"
      ]
     },
     "execution_count": 42,
     "metadata": {},
     "output_type": "execute_result"
    }
   ],
   "source": [
    "RStations = [s for s in allstations if re.search(\"^\"+'R'+\"\\d\",s)]\n",
    "len(RStations)"
   ]
  },
  {
   "cell_type": "code",
   "execution_count": 45,
   "metadata": {},
   "outputs": [
    {
     "data": {
      "text/plain": [
       "'R22A'"
      ]
     },
     "execution_count": 45,
     "metadata": {},
     "output_type": "execute_result"
    }
   ],
   "source": [
    "RStations[15]"
   ]
  },
  {
   "cell_type": "code",
   "execution_count": 46,
   "metadata": {},
   "outputs": [
    {
     "data": {
      "text/plain": [
       "27"
      ]
     },
     "execution_count": 46,
     "metadata": {},
     "output_type": "execute_result"
    }
   ],
   "source": [
    "RStations =RStations[:3]+['BR09']+RStations[3:4]+['O06','G10']+RStations[4:5]+['BL12','G14']+\\\n",
    "            RStations[5:6]+['O11']+RStations[6:15]+ RStations[16:]\n",
    "len(RStations)"
   ]
  },
  {
   "cell_type": "code",
   "execution_count": 48,
   "metadata": {},
   "outputs": [
    {
     "data": {
      "text/plain": [
       "52"
      ]
     },
     "execution_count": 48,
     "metadata": {},
     "output_type": "execute_result"
    }
   ],
   "source": [
    "R_edges = []\n",
    "for i,y in enumerate(RStations):\n",
    "    if i>0:\n",
    "        R_edges.append([RStations[i-1],y])\n",
    "    if i < len(RStations)-1:\n",
    "        R_edges.append([RStations[i+1],y])\n",
    "len(R_edges)"
   ]
  },
  {
   "cell_type": "code",
   "execution_count": 49,
   "metadata": {},
   "outputs": [
    {
     "data": {
      "text/plain": [
       "54"
      ]
     },
     "execution_count": 49,
     "metadata": {},
     "output_type": "execute_result"
    }
   ],
   "source": [
    "R_edges.append(['R22A','R22'])\n",
    "R_edges.append(['R22','R22A'])\n",
    "len(R_edges)"
   ]
  },
  {
   "cell_type": "code",
   "execution_count": null,
   "metadata": {},
   "outputs": [],
   "source": [
    "## Orange\n",
    "## should be 21\n",
    "## missing: 5,7,8 : G09, BL14, G15\n",
    "## Orange extention 0050-0054   0050 connected to O12"
   ]
  },
  {
   "cell_type": "code",
   "execution_count": 52,
   "metadata": {},
   "outputs": [
    {
     "data": {
      "text/plain": [
       "18"
      ]
     },
     "execution_count": 52,
     "metadata": {},
     "output_type": "execute_result"
    }
   ],
   "source": [
    "OStations = [s for s in allstations if re.search(\"^\"+'O'+\"\\d\",s)]\n",
    "len(OStations)"
   ]
  },
  {
   "cell_type": "code",
   "execution_count": 57,
   "metadata": {},
   "outputs": [
    {
     "data": {
      "text/plain": [
       "21"
      ]
     },
     "execution_count": 57,
     "metadata": {},
     "output_type": "execute_result"
    }
   ],
   "source": [
    "OStations = OStations[:4]+['G09']+OStations[4:5]+['BL14', 'G15']+OStations[5:]\n",
    "len(OStations)"
   ]
  },
  {
   "cell_type": "code",
   "execution_count": 61,
   "metadata": {},
   "outputs": [
    {
     "data": {
      "text/plain": [
       "40"
      ]
     },
     "execution_count": 61,
     "metadata": {},
     "output_type": "execute_result"
    }
   ],
   "source": [
    "O_edges = []\n",
    "for i,y in enumerate(OStations):\n",
    "    if i>0:\n",
    "        O_edges.append([OStations[i-1],y])\n",
    "    if i < len(OStations)-1:\n",
    "        O_edges.append([OStations[i+1],y])\n",
    "len(O_edges)"
   ]
  },
  {
   "cell_type": "code",
   "execution_count": 62,
   "metadata": {},
   "outputs": [
    {
     "data": {
      "text/plain": [
       "50"
      ]
     },
     "execution_count": 62,
     "metadata": {},
     "output_type": "execute_result"
    }
   ],
   "source": [
    "O_edges.append(['O12','OO50'])\n",
    "O_edges.append(['OO50','O12'])\n",
    "\n",
    "O_edges.append(['OO50','OO51'])\n",
    "O_edges.append(['OO51','OO50'])\n",
    "\n",
    "O_edges.append(['OO51','OO52'])\n",
    "O_edges.append(['OO52','OO51'])\n",
    "\n",
    "O_edges.append(['OO52','OO53'])\n",
    "O_edges.append(['OO53','OO52'])\n",
    "\n",
    "O_edges.append(['OO53','OO54'])\n",
    "O_edges.append(['OO54','OO53'])\n",
    "\n",
    "len(O_edges)"
   ]
  },
  {
   "cell_type": "code",
   "execution_count": null,
   "metadata": {},
   "outputs": [],
   "source": [
    "## Green\n",
    "## should be 20\n",
    "## missing: 12,16 :  BL11,BR11\n",
    "## G03A connected only to G03"
   ]
  },
  {
   "cell_type": "code",
   "execution_count": 63,
   "metadata": {},
   "outputs": [
    {
     "data": {
      "text/plain": [
       "18"
      ]
     },
     "execution_count": 63,
     "metadata": {},
     "output_type": "execute_result"
    }
   ],
   "source": [
    "GStations = [s for s in allstations if re.search(\"^\"+'G'+\"\\d\",s)]\n",
    "len(GStations)"
   ]
  },
  {
   "cell_type": "code",
   "execution_count": 75,
   "metadata": {},
   "outputs": [
    {
     "data": {
      "text/plain": [
       "19"
      ]
     },
     "execution_count": 75,
     "metadata": {},
     "output_type": "execute_result"
    }
   ],
   "source": [
    "GStations = GStations[:3]+GStations[4:12]+['BL11']+GStations[12:15]+['BR11']+GStations[15:]\n",
    "len(GStations)"
   ]
  },
  {
   "cell_type": "code",
   "execution_count": 76,
   "metadata": {},
   "outputs": [
    {
     "data": {
      "text/plain": [
       "36"
      ]
     },
     "execution_count": 76,
     "metadata": {},
     "output_type": "execute_result"
    }
   ],
   "source": [
    "G_edges = []\n",
    "for i,y in enumerate(GStations):\n",
    "    if i>0:\n",
    "        G_edges.append([GStations[i-1],y])\n",
    "    if i < len(GStations)-1:\n",
    "        G_edges.append([GStations[i+1],y])\n",
    "len(G_edges)"
   ]
  },
  {
   "cell_type": "code",
   "execution_count": 78,
   "metadata": {},
   "outputs": [
    {
     "data": {
      "text/plain": [
       "38"
      ]
     },
     "execution_count": 78,
     "metadata": {},
     "output_type": "execute_result"
    }
   ],
   "source": [
    "G_edges.append(['G03A','G03'])\n",
    "G_edges.append(['G03','G03A'])\n",
    "len(G_edges)"
   ]
  },
  {
   "cell_type": "code",
   "execution_count": 79,
   "metadata": {},
   "outputs": [
    {
     "data": {
      "text/plain": [
       "232"
      ]
     },
     "execution_count": 79,
     "metadata": {},
     "output_type": "execute_result"
    }
   ],
   "source": [
    "allEdges = BR_edges + BL_edges + R_edges + O_edges + G_edges\n",
    "len(allEdges)"
   ]
  },
  {
   "cell_type": "code",
   "execution_count": 81,
   "metadata": {},
   "outputs": [],
   "source": [
    "import json\n",
    "with open('topology.json', 'w') as outfile:\n",
    "    json.dump(allEdges, outfile)"
   ]
  },
  {
   "cell_type": "code",
   "execution_count": 80,
   "metadata": {},
   "outputs": [
    {
     "data": {
      "text/plain": [
       "[['BR02', 'BR01'],\n",
       " ['BR01', 'BR02'],\n",
       " ['BR03', 'BR02'],\n",
       " ['BR02', 'BR03'],\n",
       " ['BR04', 'BR03'],\n",
       " ['BR03', 'BR04'],\n",
       " ['BR05', 'BR04'],\n",
       " ['BR04', 'BR05'],\n",
       " ['BR06', 'BR05'],\n",
       " ['BR05', 'BR06'],\n",
       " ['BR07', 'BR06'],\n",
       " ['BR06', 'BR07'],\n",
       " ['BR08', 'BR07'],\n",
       " ['BR07', 'BR08'],\n",
       " ['BR09', 'BR08'],\n",
       " ['BR08', 'BR09'],\n",
       " ['BL15', 'BR09'],\n",
       " ['BR09', 'BL15'],\n",
       " ['BR11', 'BL15'],\n",
       " ['BL15', 'BR11'],\n",
       " ['BR12', 'BR11'],\n",
       " ['BR11', 'BR12'],\n",
       " ['BR13', 'BR12'],\n",
       " ['BR12', 'BR13'],\n",
       " ['BR14', 'BR13'],\n",
       " ['BR13', 'BR14'],\n",
       " ['BR15', 'BR14'],\n",
       " ['BR14', 'BR15'],\n",
       " ['BR16', 'BR15'],\n",
       " ['BR15', 'BR16'],\n",
       " ['BR17', 'BR16'],\n",
       " ['BR16', 'BR17'],\n",
       " ['BR18', 'BR17'],\n",
       " ['BR17', 'BR18'],\n",
       " ['BR19', 'BR18'],\n",
       " ['BR18', 'BR19'],\n",
       " ['BR20', 'BR19'],\n",
       " ['BR19', 'BR20'],\n",
       " ['BR21', 'BR20'],\n",
       " ['BR20', 'BR21'],\n",
       " ['BR22', 'BR21'],\n",
       " ['BR21', 'BR22'],\n",
       " ['BR23', 'BR22'],\n",
       " ['BR22', 'BR23'],\n",
       " ['BL23', 'BR23'],\n",
       " ['BR23', 'BL23'],\n",
       " ['BL02', 'BL01'],\n",
       " ['BL01', 'BL02'],\n",
       " ['BL03', 'BL02'],\n",
       " ['BL02', 'BL03'],\n",
       " ['BL04', 'BL03'],\n",
       " ['BL03', 'BL04'],\n",
       " ['BL05', 'BL04'],\n",
       " ['BL04', 'BL05'],\n",
       " ['BL06', 'BL05'],\n",
       " ['BL05', 'BL06'],\n",
       " ['BL07', 'BL06'],\n",
       " ['BL06', 'BL07'],\n",
       " ['BL08', 'BL07'],\n",
       " ['BL07', 'BL08'],\n",
       " ['BL09', 'BL08'],\n",
       " ['BL08', 'BL09'],\n",
       " ['BL10', 'BL09'],\n",
       " ['BL09', 'BL10'],\n",
       " ['BL11', 'BL10'],\n",
       " ['BL10', 'BL11'],\n",
       " ['BL12', 'BL11'],\n",
       " ['BL11', 'BL12'],\n",
       " ['BL13', 'BL12'],\n",
       " ['BL12', 'BL13'],\n",
       " ['BL14', 'BL13'],\n",
       " ['BL13', 'BL14'],\n",
       " ['BL15', 'BL14'],\n",
       " ['BL14', 'BL15'],\n",
       " ['BL16', 'BL15'],\n",
       " ['BL15', 'BL16'],\n",
       " ['BL17', 'BL16'],\n",
       " ['BL16', 'BL17'],\n",
       " ['BL18', 'BL17'],\n",
       " ['BL17', 'BL18'],\n",
       " ['BL19', 'BL18'],\n",
       " ['BL18', 'BL19'],\n",
       " ['BL20', 'BL19'],\n",
       " ['BL19', 'BL20'],\n",
       " ['BL21', 'BL20'],\n",
       " ['BL20', 'BL21'],\n",
       " ['BL22', 'BL21'],\n",
       " ['BL21', 'BL22'],\n",
       " ['BL23', 'BL22'],\n",
       " ['BL22', 'BL23'],\n",
       " ['R03', 'R02'],\n",
       " ['R02', 'R03'],\n",
       " ['R04', 'R03'],\n",
       " ['R03', 'R04'],\n",
       " ['BR09', 'R04'],\n",
       " ['R04', 'BR09'],\n",
       " ['R06', 'BR09'],\n",
       " ['BR09', 'R06'],\n",
       " ['O06', 'R06'],\n",
       " ['R06', 'O06'],\n",
       " ['G10', 'O06'],\n",
       " ['O06', 'G10'],\n",
       " ['R09', 'G10'],\n",
       " ['G10', 'R09'],\n",
       " ['BL12', 'R09'],\n",
       " ['R09', 'BL12'],\n",
       " ['G14', 'BL12'],\n",
       " ['BL12', 'G14'],\n",
       " ['R12', 'G14'],\n",
       " ['G14', 'R12'],\n",
       " ['O11', 'R12'],\n",
       " ['R12', 'O11'],\n",
       " ['R14', 'O11'],\n",
       " ['O11', 'R14'],\n",
       " ['R15', 'R14'],\n",
       " ['R14', 'R15'],\n",
       " ['R16', 'R15'],\n",
       " ['R15', 'R16'],\n",
       " ['R17', 'R16'],\n",
       " ['R16', 'R17'],\n",
       " ['R18', 'R17'],\n",
       " ['R17', 'R18'],\n",
       " ['R19', 'R18'],\n",
       " ['R18', 'R19'],\n",
       " ['R20', 'R19'],\n",
       " ['R19', 'R20'],\n",
       " ['R21', 'R20'],\n",
       " ['R20', 'R21'],\n",
       " ['R22', 'R21'],\n",
       " ['R21', 'R22'],\n",
       " ['R23', 'R22'],\n",
       " ['R22', 'R23'],\n",
       " ['R24', 'R23'],\n",
       " ['R23', 'R24'],\n",
       " ['R25', 'R24'],\n",
       " ['R24', 'R25'],\n",
       " ['R26', 'R25'],\n",
       " ['R25', 'R26'],\n",
       " ['R27', 'R26'],\n",
       " ['R26', 'R27'],\n",
       " ['R28', 'R27'],\n",
       " ['R27', 'R28'],\n",
       " ['R22A', 'R22'],\n",
       " ['R22', 'R22A'],\n",
       " ['O02', 'O01'],\n",
       " ['O01', 'O02'],\n",
       " ['O03', 'O02'],\n",
       " ['O02', 'O03'],\n",
       " ['O04', 'O03'],\n",
       " ['O03', 'O04'],\n",
       " ['G09', 'O04'],\n",
       " ['O04', 'G09'],\n",
       " ['O06', 'G09'],\n",
       " ['G09', 'O06'],\n",
       " ['BL14', 'O06'],\n",
       " ['O06', 'BL14'],\n",
       " ['G15', 'BL14'],\n",
       " ['BL14', 'G15'],\n",
       " ['O09', 'G15'],\n",
       " ['G15', 'O09'],\n",
       " ['O10', 'O09'],\n",
       " ['O09', 'O10'],\n",
       " ['O11', 'O10'],\n",
       " ['O10', 'O11'],\n",
       " ['O12', 'O11'],\n",
       " ['O11', 'O12'],\n",
       " ['O13', 'O12'],\n",
       " ['O12', 'O13'],\n",
       " ['O14', 'O13'],\n",
       " ['O13', 'O14'],\n",
       " ['O15', 'O14'],\n",
       " ['O14', 'O15'],\n",
       " ['O16', 'O15'],\n",
       " ['O15', 'O16'],\n",
       " ['O17', 'O16'],\n",
       " ['O16', 'O17'],\n",
       " ['O18', 'O17'],\n",
       " ['O17', 'O18'],\n",
       " ['O19', 'O18'],\n",
       " ['O18', 'O19'],\n",
       " ['O20', 'O19'],\n",
       " ['O19', 'O20'],\n",
       " ['O21', 'O20'],\n",
       " ['O20', 'O21'],\n",
       " ['O12', 'OO50'],\n",
       " ['OO50', 'O12'],\n",
       " ['OO50', 'OO51'],\n",
       " ['OO51', 'OO50'],\n",
       " ['OO51', 'OO52'],\n",
       " ['OO52', 'OO51'],\n",
       " ['OO52', 'OO53'],\n",
       " ['OO53', 'OO52'],\n",
       " ['OO53', 'OO54'],\n",
       " ['OO54', 'OO53'],\n",
       " ['G02', 'G01'],\n",
       " ['G01', 'G02'],\n",
       " ['G03', 'G02'],\n",
       " ['G02', 'G03'],\n",
       " ['G04', 'G03'],\n",
       " ['G03', 'G04'],\n",
       " ['G05', 'G04'],\n",
       " ['G04', 'G05'],\n",
       " ['G06', 'G05'],\n",
       " ['G05', 'G06'],\n",
       " ['G07', 'G06'],\n",
       " ['G06', 'G07'],\n",
       " ['G08', 'G07'],\n",
       " ['G07', 'G08'],\n",
       " ['G09', 'G08'],\n",
       " ['G08', 'G09'],\n",
       " ['G10', 'G09'],\n",
       " ['G09', 'G10'],\n",
       " ['G11', 'G10'],\n",
       " ['G10', 'G11'],\n",
       " ['BL11', 'G11'],\n",
       " ['G11', 'BL11'],\n",
       " ['G13', 'BL11'],\n",
       " ['BL11', 'G13'],\n",
       " ['G14', 'G13'],\n",
       " ['G13', 'G14'],\n",
       " ['G15', 'G14'],\n",
       " ['G14', 'G15'],\n",
       " ['BR11', 'G15'],\n",
       " ['G15', 'BR11'],\n",
       " ['G17', 'BR11'],\n",
       " ['BR11', 'G17'],\n",
       " ['G18', 'G17'],\n",
       " ['G17', 'G18'],\n",
       " ['G19', 'G18'],\n",
       " ['G18', 'G19'],\n",
       " ['G03A', 'G03'],\n",
       " ['G03', 'G03A']]"
      ]
     },
     "execution_count": 80,
     "metadata": {},
     "output_type": "execute_result"
    }
   ],
   "source": [
    "allEdges"
   ]
  },
  {
   "cell_type": "code",
   "execution_count": null,
   "metadata": {},
   "outputs": [],
   "source": [
    "lines = ['BR','BL','R','O','G']\n",
    "\n",
    "for \n",
    "abc = 0\n",
    "stat = []\n",
    "for line in lines:\n",
    "    stations = [s for s in allstations if re.search(\"^\"+line+\"\\d\",s)]\n",
    "    abc+=len(stations)\n",
    "    stat += stations\n",
    "    print(len(stations))\n",
    "abc"
   ]
  }
 ],
 "metadata": {
  "kernelspec": {
   "display_name": "Python 3",
   "language": "python",
   "name": "python3"
  },
  "language_info": {
   "codemirror_mode": {
    "name": "ipython",
    "version": 3
   },
   "file_extension": ".py",
   "mimetype": "text/x-python",
   "name": "python",
   "nbconvert_exporter": "python",
   "pygments_lexer": "ipython3",
   "version": "3.7.3"
  }
 },
 "nbformat": 4,
 "nbformat_minor": 2
}
