{
 "cells": [
  {
   "cell_type": "code",
   "execution_count": 37,
   "metadata": {},
   "outputs": [],
   "source": [
    "import pandas as pd\n",
    "import numpy as np\n",
    "import torch\n",
    "from torch_geometric.data import Data\n",
    "\n",
    "import torch\n",
    "import torch.nn.functional as F\n",
    "import torch.nn as nn\n",
    "from torch_geometric.nn import GCNConv\n",
    "from torch_geometric.nn import SAGPooling\n",
    "from torch_geometric.nn import TopKPooling\n",
    "\n",
    "from torch.optim.lr_scheduler import LambdaLR\n",
    "\n",
    "from sklearn.mixture import GaussianMixture \n",
    "import json\n",
    "\n",
    "import math\n",
    "import matplotlib.pyplot as plt\n",
    "%matplotlib inline"
   ]
  },
  {
   "cell_type": "code",
   "execution_count": 38,
   "metadata": {},
   "outputs": [],
   "source": [
    "def loadData(file):\n",
    "    data = pd.read_csv(file)\n",
    "    print('Raw shape: ',data.shape)\n",
    "    data['date'] = pd.to_datetime(data.date)\n",
    "    print('Days: ',len(set(data.date)))\n",
    "    return data"
   ]
  },
  {
   "cell_type": "code",
   "execution_count": 39,
   "metadata": {},
   "outputs": [],
   "source": [
    "def getTimeSeries(df):\n",
    "    table = pd.pivot_table(df, values='amount', index=['date'],\n",
    "                    columns=['start_id','end_id'], aggfunc=np.sum, fill_value=0)\n",
    "    return table"
   ]
  },
  {
   "cell_type": "code",
   "execution_count": 40,
   "metadata": {},
   "outputs": [],
   "source": [
    "dataDir = '/home/urwa/Documents/Projects/AnomalyDetection/Pipeline/data/'\n",
    "dataFile = '20190402_TaipeiEdgesDatewise.csv'\n",
    "events_data =dataDir+'TaipeiEvents.csv'"
   ]
  },
  {
   "cell_type": "code",
   "execution_count": 41,
   "metadata": {},
   "outputs": [
    {
     "name": "stdout",
     "output_type": "stream",
     "text": [
      "Raw shape:  (7374816, 5)\n",
      "Days:  638\n"
     ]
    }
   ],
   "source": [
    "file = dataDir + dataFile\n",
    "dataRaw = loadData(file)"
   ]
  },
  {
   "cell_type": "code",
   "execution_count": 42,
   "metadata": {},
   "outputs": [
    {
     "data": {
      "text/html": [
       "<div>\n",
       "<style scoped>\n",
       "    .dataframe tbody tr th:only-of-type {\n",
       "        vertical-align: middle;\n",
       "    }\n",
       "\n",
       "    .dataframe tbody tr th {\n",
       "        vertical-align: top;\n",
       "    }\n",
       "\n",
       "    .dataframe thead th {\n",
       "        text-align: right;\n",
       "    }\n",
       "</style>\n",
       "<table border=\"1\" class=\"dataframe\">\n",
       "  <thead>\n",
       "    <tr style=\"text-align: right;\">\n",
       "      <th>end_id</th>\n",
       "      <th>BL01</th>\n",
       "      <th>BL02</th>\n",
       "      <th>BL03</th>\n",
       "      <th>BL04</th>\n",
       "      <th>BL05</th>\n",
       "      <th>BL06</th>\n",
       "      <th>BL07</th>\n",
       "      <th>BL08</th>\n",
       "      <th>BL09</th>\n",
       "      <th>BL10</th>\n",
       "      <th>...</th>\n",
       "      <th>R20</th>\n",
       "      <th>R21</th>\n",
       "      <th>R22</th>\n",
       "      <th>R22A</th>\n",
       "      <th>R23</th>\n",
       "      <th>R24</th>\n",
       "      <th>R25</th>\n",
       "      <th>R26</th>\n",
       "      <th>R27</th>\n",
       "      <th>R28</th>\n",
       "    </tr>\n",
       "    <tr>\n",
       "      <th>date</th>\n",
       "      <th></th>\n",
       "      <th></th>\n",
       "      <th></th>\n",
       "      <th></th>\n",
       "      <th></th>\n",
       "      <th></th>\n",
       "      <th></th>\n",
       "      <th></th>\n",
       "      <th></th>\n",
       "      <th></th>\n",
       "      <th></th>\n",
       "      <th></th>\n",
       "      <th></th>\n",
       "      <th></th>\n",
       "      <th></th>\n",
       "      <th></th>\n",
       "      <th></th>\n",
       "      <th></th>\n",
       "      <th></th>\n",
       "      <th></th>\n",
       "      <th></th>\n",
       "    </tr>\n",
       "  </thead>\n",
       "  <tbody>\n",
       "    <tr>\n",
       "      <th>2017-01-01</th>\n",
       "      <td>6326</td>\n",
       "      <td>11444</td>\n",
       "      <td>5696</td>\n",
       "      <td>16834</td>\n",
       "      <td>12256</td>\n",
       "      <td>25559</td>\n",
       "      <td>45609</td>\n",
       "      <td>27781</td>\n",
       "      <td>18745</td>\n",
       "      <td>33240</td>\n",
       "      <td>...</td>\n",
       "      <td>5597</td>\n",
       "      <td>5937</td>\n",
       "      <td>15733</td>\n",
       "      <td>12194</td>\n",
       "      <td>2972</td>\n",
       "      <td>2067</td>\n",
       "      <td>9518</td>\n",
       "      <td>8439</td>\n",
       "      <td>6473</td>\n",
       "      <td>73538</td>\n",
       "    </tr>\n",
       "  </tbody>\n",
       "</table>\n",
       "<p>1 rows × 108 columns</p>\n",
       "</div>"
      ],
      "text/plain": [
       "end_id      BL01   BL02  BL03   BL04   BL05   BL06   BL07   BL08   BL09  \\\n",
       "date                                                                      \n",
       "2017-01-01  6326  11444  5696  16834  12256  25559  45609  27781  18745   \n",
       "\n",
       "end_id       BL10  ...   R20   R21    R22   R22A   R23   R24   R25   R26  \\\n",
       "date               ...                                                     \n",
       "2017-01-01  33240  ...  5597  5937  15733  12194  2972  2067  9518  8439   \n",
       "\n",
       "end_id       R27    R28  \n",
       "date                     \n",
       "2017-01-01  6473  73538  \n",
       "\n",
       "[1 rows x 108 columns]"
      ]
     },
     "execution_count": 42,
     "metadata": {},
     "output_type": "execute_result"
    }
   ],
   "source": [
    "dataIn =  pd.pivot_table(dataRaw, values='amount', index=['date'],\n",
    "                    columns=['end_id'], aggfunc=np.sum, fill_value=0)\n",
    "dataIn.head(1)"
   ]
  },
  {
   "cell_type": "code",
   "execution_count": 43,
   "metadata": {},
   "outputs": [
    {
     "data": {
      "text/html": [
       "<div>\n",
       "<style scoped>\n",
       "    .dataframe tbody tr th:only-of-type {\n",
       "        vertical-align: middle;\n",
       "    }\n",
       "\n",
       "    .dataframe tbody tr th {\n",
       "        vertical-align: top;\n",
       "    }\n",
       "\n",
       "    .dataframe thead th {\n",
       "        text-align: right;\n",
       "    }\n",
       "</style>\n",
       "<table border=\"1\" class=\"dataframe\">\n",
       "  <thead>\n",
       "    <tr style=\"text-align: right;\">\n",
       "      <th>start_id</th>\n",
       "      <th>BL01</th>\n",
       "      <th>BL02</th>\n",
       "      <th>BL03</th>\n",
       "      <th>BL04</th>\n",
       "      <th>BL05</th>\n",
       "      <th>BL06</th>\n",
       "      <th>BL07</th>\n",
       "      <th>BL08</th>\n",
       "      <th>BL09</th>\n",
       "      <th>BL10</th>\n",
       "      <th>...</th>\n",
       "      <th>R20</th>\n",
       "      <th>R21</th>\n",
       "      <th>R22</th>\n",
       "      <th>R22A</th>\n",
       "      <th>R23</th>\n",
       "      <th>R24</th>\n",
       "      <th>R25</th>\n",
       "      <th>R26</th>\n",
       "      <th>R27</th>\n",
       "      <th>R28</th>\n",
       "    </tr>\n",
       "    <tr>\n",
       "      <th>date</th>\n",
       "      <th></th>\n",
       "      <th></th>\n",
       "      <th></th>\n",
       "      <th></th>\n",
       "      <th></th>\n",
       "      <th></th>\n",
       "      <th></th>\n",
       "      <th></th>\n",
       "      <th></th>\n",
       "      <th></th>\n",
       "      <th></th>\n",
       "      <th></th>\n",
       "      <th></th>\n",
       "      <th></th>\n",
       "      <th></th>\n",
       "      <th></th>\n",
       "      <th></th>\n",
       "      <th></th>\n",
       "      <th></th>\n",
       "      <th></th>\n",
       "      <th></th>\n",
       "    </tr>\n",
       "  </thead>\n",
       "  <tbody>\n",
       "    <tr>\n",
       "      <th>2017-01-01</th>\n",
       "      <td>6292</td>\n",
       "      <td>10268</td>\n",
       "      <td>5591</td>\n",
       "      <td>15834</td>\n",
       "      <td>12955</td>\n",
       "      <td>26456</td>\n",
       "      <td>42135</td>\n",
       "      <td>29606</td>\n",
       "      <td>18572</td>\n",
       "      <td>34387</td>\n",
       "      <td>...</td>\n",
       "      <td>5734</td>\n",
       "      <td>6801</td>\n",
       "      <td>14919</td>\n",
       "      <td>12373</td>\n",
       "      <td>2943</td>\n",
       "      <td>1957</td>\n",
       "      <td>8887</td>\n",
       "      <td>8603</td>\n",
       "      <td>6870</td>\n",
       "      <td>76751</td>\n",
       "    </tr>\n",
       "  </tbody>\n",
       "</table>\n",
       "<p>1 rows × 108 columns</p>\n",
       "</div>"
      ],
      "text/plain": [
       "start_id    BL01   BL02  BL03   BL04   BL05   BL06   BL07   BL08   BL09  \\\n",
       "date                                                                      \n",
       "2017-01-01  6292  10268  5591  15834  12955  26456  42135  29606  18572   \n",
       "\n",
       "start_id     BL10  ...   R20   R21    R22   R22A   R23   R24   R25   R26  \\\n",
       "date               ...                                                     \n",
       "2017-01-01  34387  ...  5734  6801  14919  12373  2943  1957  8887  8603   \n",
       "\n",
       "start_id     R27    R28  \n",
       "date                     \n",
       "2017-01-01  6870  76751  \n",
       "\n",
       "[1 rows x 108 columns]"
      ]
     },
     "execution_count": 43,
     "metadata": {},
     "output_type": "execute_result"
    }
   ],
   "source": [
    "dataOut =  pd.pivot_table(dataRaw, values='amount', index=['date'],\n",
    "                    columns=['start_id'], aggfunc=np.sum, fill_value=0)\n",
    "dataOut.head(1)"
   ]
  },
  {
   "cell_type": "code",
   "execution_count": 44,
   "metadata": {},
   "outputs": [
    {
     "data": {
      "text/plain": [
       "(638, 108, 2)"
      ]
     },
     "execution_count": 44,
     "metadata": {},
     "output_type": "execute_result"
    }
   ],
   "source": [
    "matrix = np.stack((dataOut.values, dataIn.values),-1)\n",
    "matrix = matrix.astype(float)\n",
    "matrix.shape"
   ]
  },
  {
   "cell_type": "code",
   "execution_count": 45,
   "metadata": {},
   "outputs": [],
   "source": [
    "# for i in range(matrix.shape[1]):\n",
    "#     for j in range(matrix.shape[2]):\n",
    "#         matrix[:, i,j] = (matrix[:, i,j] - np.mean(matrix[:, i,j])) / (np.std(matrix[:, i,j]))"
   ]
  },
  {
   "cell_type": "code",
   "execution_count": 46,
   "metadata": {},
   "outputs": [],
   "source": [
    "for i in range(matrix.shape[0]):\n",
    "    for j in range(matrix.shape[2]):\n",
    "        matrix[i,:,j] = (matrix[i,:,j] - np.mean(matrix[i,:,j])) / (np.std(matrix[i,:,j]))"
   ]
  },
  {
   "cell_type": "code",
   "execution_count": 47,
   "metadata": {},
   "outputs": [],
   "source": [
    "with open('topology.json') as json_file:\n",
    "    topology = json.load(json_file)"
   ]
  },
  {
   "cell_type": "code",
   "execution_count": 48,
   "metadata": {},
   "outputs": [],
   "source": [
    "stationToIdx = dict(zip(dataOut.columns.values,range(len(dataOut.columns.values))))"
   ]
  },
  {
   "cell_type": "code",
   "execution_count": 49,
   "metadata": {},
   "outputs": [],
   "source": [
    "edge_index = []\n",
    "for t in topology:\n",
    "    edge_index.append([stationToIdx[t[0]], stationToIdx[t[1]]])"
   ]
  },
  {
   "cell_type": "code",
   "execution_count": 50,
   "metadata": {},
   "outputs": [],
   "source": [
    "stations = list(set(dataRaw.start_id))\n",
    "n= len(stations)\n",
    "#edge_index = [[a//n,a%n] for a in range(n*n)]\n",
    "edge_index = torch.tensor(edge_index, dtype=torch.long)"
   ]
  },
  {
   "cell_type": "code",
   "execution_count": 51,
   "metadata": {},
   "outputs": [
    {
     "data": {
      "text/plain": [
       "array([1, 0, 0, 0, 0, 0, 1, 1, 0, 0])"
      ]
     },
     "execution_count": 51,
     "metadata": {},
     "output_type": "execute_result"
    }
   ],
   "source": [
    "dates = list(dataOut.index)\n",
    "DOW = list(pd.to_datetime(dataOut.index.values).dayofweek)\n",
    "DOW = ((np.array(DOW) == 5) | (np.array(DOW) == 6)).astype(int)\n",
    "DOW[:10]"
   ]
  },
  {
   "cell_type": "code",
   "execution_count": 52,
   "metadata": {},
   "outputs": [
    {
     "data": {
      "text/plain": [
       "Data(edge_index=[2, 232], x=[108, 2], y=[1])"
      ]
     },
     "execution_count": 52,
     "metadata": {},
     "output_type": "execute_result"
    }
   ],
   "source": [
    "dataList = []\n",
    "\n",
    "for i in range(len(DOW)):\n",
    "    x = torch.tensor(matrix[i], dtype=torch.float)\n",
    "    y = torch.tensor(np.array([DOW[i]]), dtype=torch.long)\n",
    "    data = Data(x=x, edge_index=edge_index.t().contiguous(),y=y)\n",
    "    dataList.append(data)\n",
    "\n",
    "dataList[0]"
   ]
  },
  {
   "cell_type": "code",
   "execution_count": 53,
   "metadata": {},
   "outputs": [],
   "source": [
    "n_classes = 2\n",
    "featureDim = 2\n",
    "hiddenDim = [20,1,20]\n",
    "poolingRatio= 0.4\n",
    "viewDim = math.ceil(0.4 * n)"
   ]
  },
  {
   "cell_type": "code",
   "execution_count": 54,
   "metadata": {},
   "outputs": [],
   "source": [
    "class Net(torch.nn.Module):\n",
    "    def __init__(self):\n",
    "        super(Net, self).__init__()\n",
    "        self.conv1 = GCNConv(featureDim, hiddenDim[0])\n",
    "        self.conv2 = GCNConv(hiddenDim[0], hiddenDim[1])\n",
    "        self.pool1 = SAGPooling(hiddenDim[1], ratio=poolingRatio, gnn='GCN')\n",
    "        #self.pool1 = TopKPooling(hiddenDim[1], ratio=poolingRatio)\n",
    "        self.linear1 = nn.Linear(viewDim, hiddenDim[2])\n",
    "        self.linear2 = nn.Linear(hiddenDim[2], n_classes)\n",
    "\n",
    "        self.init_weights(self.linear1)\n",
    "        self.init_weights(self.linear2)\n",
    "        \n",
    "    def forward(self, data):\n",
    "        x, edge_index = data.x, data.edge_index\n",
    "        x = self.conv1(x, edge_index)\n",
    "        x = F.relu(x)\n",
    "        #print(x.shape)\n",
    "        x = F.dropout(x, training=self.training)\n",
    "        x = self.conv2(x, edge_index)\n",
    "        x = F.relu(x)\n",
    "        #print(x.shape)\n",
    "        z = self.pool1(x, edge_index)\n",
    "        x, edge_index = z[0], z[1]\n",
    "        #print(x.shape)\n",
    "        x = x.view(-1,viewDim)\n",
    "        x = self.linear1(x)\n",
    "        x = F.relu(x)\n",
    "        x = F.dropout(x, training=self.training)\n",
    "        x = self.linear2(x)\n",
    "        return F.log_softmax(x, dim=1)\n",
    "        \n",
    "    def init_weights(self,m):\n",
    "        if type(m) == nn.Linear:\n",
    "            nn.init.xavier_uniform_(m.weight)\n",
    "            m.bias.data.fill_(0.01)\n",
    "    \n",
    "    def nodeRepresentation(self, x):\n",
    "        x, edge_index = data.x, data.edge_index\n",
    "        x = self.conv1(x, edge_index)\n",
    "        x = F.relu(x)\n",
    "        x = F.dropout(x, training=self.training)\n",
    "        x = self.conv2(x, edge_index)\n",
    "        x = F.relu(x)\n",
    "        z = self.pool1(x, edge_index)\n",
    "        x, edge_index = z[0], z[1]\n",
    "        return x\n",
    "    "
   ]
  },
  {
   "cell_type": "code",
   "execution_count": 55,
   "metadata": {},
   "outputs": [],
   "source": [
    "device = torch.device('cuda' if torch.cuda.is_available() else 'cpu')\n",
    "#device = torch.device('cpu')\n",
    "model = Net().to(device)\n",
    "#data = dataset[0].to(device)\n",
    "optimizer = torch.optim.Adam(model.parameters(), lr=0.0001, weight_decay=5e-4)\n",
    "#lambda1 = lambda epoch: 0.95 ** epoch\n",
    "#scheduler = LambdaLR(optimizer, lr_lambda=lambda1)\n",
    "criterion = nn.CrossEntropyLoss()"
   ]
  },
  {
   "cell_type": "code",
   "execution_count": 56,
   "metadata": {},
   "outputs": [
    {
     "data": {
      "text/plain": [
       "device(type='cuda')"
      ]
     },
     "execution_count": 56,
     "metadata": {},
     "output_type": "execute_result"
    }
   ],
   "source": [
    "device"
   ]
  },
  {
   "cell_type": "code",
   "execution_count": 57,
   "metadata": {},
   "outputs": [],
   "source": [
    "#optimizer = torch.optim.Adam(model.parameters(), lr=0.000001, weight_decay=5e-4)\n",
    "num_epochs = 100"
   ]
  },
  {
   "cell_type": "code",
   "execution_count": 58,
   "metadata": {
    "scrolled": true
   },
   "outputs": [
    {
     "name": "stdout",
     "output_type": "stream",
     "text": [
      "epoch [1/100], loss:435.4681\n",
      "epoch [2/100], loss:420.7648\n",
      "epoch [3/100], loss:413.0564\n",
      "epoch [4/100], loss:403.8638\n",
      "epoch [5/100], loss:399.2929\n",
      "epoch [6/100], loss:394.4417\n",
      "epoch [7/100], loss:391.5916\n",
      "epoch [8/100], loss:390.6196\n",
      "epoch [9/100], loss:386.2043\n",
      "epoch [10/100], loss:388.6095\n",
      "epoch [11/100], loss:383.7925\n",
      "epoch [12/100], loss:386.5532\n",
      "epoch [13/100], loss:382.8591\n",
      "epoch [14/100], loss:382.9174\n",
      "epoch [15/100], loss:377.9371\n",
      "epoch [16/100], loss:379.3211\n",
      "epoch [17/100], loss:382.4608\n",
      "epoch [18/100], loss:378.5219\n",
      "epoch [19/100], loss:381.0330\n",
      "epoch [20/100], loss:381.9929\n",
      "epoch [21/100], loss:374.6030\n",
      "epoch [22/100], loss:378.6011\n",
      "epoch [23/100], loss:375.5596\n",
      "epoch [24/100], loss:371.3869\n",
      "epoch [25/100], loss:375.7138\n",
      "epoch [26/100], loss:367.4384\n",
      "epoch [27/100], loss:368.4948\n",
      "epoch [28/100], loss:373.6587\n",
      "epoch [29/100], loss:370.2087\n",
      "epoch [30/100], loss:367.0232\n",
      "epoch [31/100], loss:364.2914\n",
      "epoch [32/100], loss:365.4538\n",
      "epoch [33/100], loss:361.7958\n",
      "epoch [34/100], loss:362.9528\n",
      "epoch [35/100], loss:365.1787\n",
      "epoch [36/100], loss:356.6155\n",
      "epoch [37/100], loss:361.9404\n",
      "epoch [38/100], loss:358.8522\n",
      "epoch [39/100], loss:364.6309\n",
      "epoch [40/100], loss:360.6140\n",
      "epoch [41/100], loss:355.5032\n",
      "epoch [42/100], loss:351.0745\n",
      "epoch [43/100], loss:347.0422\n",
      "epoch [44/100], loss:353.4095\n",
      "epoch [45/100], loss:352.1095\n",
      "epoch [46/100], loss:352.1926\n",
      "epoch [47/100], loss:350.2381\n",
      "epoch [48/100], loss:349.7749\n",
      "epoch [49/100], loss:350.3300\n",
      "epoch [50/100], loss:343.4674\n",
      "epoch [51/100], loss:345.0744\n",
      "epoch [52/100], loss:335.2578\n",
      "epoch [53/100], loss:348.3355\n",
      "epoch [54/100], loss:335.0592\n",
      "epoch [55/100], loss:333.6772\n",
      "epoch [56/100], loss:333.5499\n",
      "epoch [57/100], loss:330.0124\n",
      "epoch [58/100], loss:329.4063\n",
      "epoch [59/100], loss:335.3542\n",
      "epoch [60/100], loss:323.4753\n",
      "epoch [61/100], loss:329.4894\n",
      "epoch [62/100], loss:321.0961\n",
      "epoch [63/100], loss:329.0366\n",
      "epoch [64/100], loss:309.7804\n",
      "epoch [65/100], loss:320.7815\n",
      "epoch [66/100], loss:314.6811\n",
      "epoch [67/100], loss:320.8879\n",
      "epoch [68/100], loss:315.4781\n",
      "epoch [69/100], loss:307.4335\n",
      "epoch [70/100], loss:296.1458\n",
      "epoch [71/100], loss:311.8325\n",
      "epoch [72/100], loss:305.0434\n",
      "epoch [73/100], loss:300.7497\n",
      "epoch [74/100], loss:302.2069\n",
      "epoch [75/100], loss:300.8179\n",
      "epoch [76/100], loss:301.2481\n",
      "epoch [77/100], loss:308.7837\n",
      "epoch [78/100], loss:297.9433\n",
      "epoch [79/100], loss:300.3018\n",
      "epoch [80/100], loss:299.5108\n",
      "epoch [81/100], loss:281.9177\n",
      "epoch [82/100], loss:293.0617\n",
      "epoch [83/100], loss:288.5882\n",
      "epoch [84/100], loss:281.1630\n",
      "epoch [85/100], loss:291.3531\n",
      "epoch [86/100], loss:295.4296\n",
      "epoch [87/100], loss:279.5216\n",
      "epoch [88/100], loss:277.9776\n",
      "epoch [89/100], loss:277.2928\n",
      "epoch [90/100], loss:280.9187\n",
      "epoch [91/100], loss:276.1233\n",
      "epoch [92/100], loss:272.1836\n",
      "epoch [93/100], loss:273.7296\n",
      "epoch [94/100], loss:269.6856\n",
      "epoch [95/100], loss:268.2969\n",
      "epoch [96/100], loss:267.2474\n",
      "epoch [97/100], loss:270.1849\n",
      "epoch [98/100], loss:259.1347\n",
      "epoch [99/100], loss:262.8732\n",
      "epoch [100/100], loss:269.8325\n"
     ]
    }
   ],
   "source": [
    "model.train()\n",
    "\n",
    "for epoch in range(num_epochs):\n",
    "    epochLoss = 0\n",
    "    for data in dataList:\n",
    "        #data.view(1,-1,-1)\n",
    "        data = data.to(device)\n",
    "        optimizer.zero_grad()\n",
    "        out = model(data)\n",
    "#         print(out.shape)\n",
    "#         print(data.y.shape)\n",
    "        loss = criterion(out, data.y)\n",
    "        loss.backward()\n",
    "        optimizer.step()\n",
    "        \n",
    "        epochLoss += loss.item()\n",
    "    \n",
    "#     if epoch == 500:\n",
    "#         optimizer = torch.optim.Adam(model.parameters(), lr=0.00001, weight_decay=5e-4)\n",
    "    #scheduler.step()\n",
    "    print('epoch [{}/{}], loss:{:.4f}'\n",
    "    .format(epoch + 1, num_epochs, epochLoss))"
   ]
  },
  {
   "cell_type": "code",
   "execution_count": 59,
   "metadata": {},
   "outputs": [
    {
     "name": "stdout",
     "output_type": "stream",
     "text": [
      "Accuracy: 0.7085\n"
     ]
    }
   ],
   "source": [
    "model.eval()\n",
    "with torch.no_grad():\n",
    "    y = DOW\n",
    "    predList = []\n",
    "    for data in dataList:\n",
    "        data = data.to(device)\n",
    "        pred = model(data).cpu().numpy()\n",
    "        predList.append(np.argmax(pred))\n",
    "    \n",
    "    print('Accuracy: {:.4f}'.format( np.sum(np.array(predList) == np.array(y)) / len(predList) ))"
   ]
  },
  {
   "cell_type": "code",
   "execution_count": 60,
   "metadata": {},
   "outputs": [],
   "source": [
    "representation = np.empty((matrix.shape[0],viewDim))\n",
    "model.eval()\n",
    "with torch.no_grad():\n",
    "    for i,data in enumerate(dataList):\n",
    "        data = data.to(device)\n",
    "        x = model.nodeRepresentation(data).cpu().numpy()\n",
    "        representation[i] = x.reshape(viewDim)\n",
    "        predList.append(np.argmax(pred))"
   ]
  },
  {
   "cell_type": "code",
   "execution_count": 61,
   "metadata": {},
   "outputs": [
    {
     "data": {
      "text/plain": [
       "(638, 44)"
      ]
     },
     "execution_count": 61,
     "metadata": {},
     "output_type": "execute_result"
    }
   ],
   "source": [
    "representation.shape"
   ]
  },
  {
   "cell_type": "code",
   "execution_count": 62,
   "metadata": {},
   "outputs": [],
   "source": [
    "# import events data\n",
    "events_data =dataDir+'TaipeiEvents.csv'\n",
    "df_events = pd.read_csv(events_data, encoding = \"ISO-8859-1\", parse_dates=['Date'], infer_datetime_format=True)\n"
   ]
  },
  {
   "cell_type": "code",
   "execution_count": 63,
   "metadata": {},
   "outputs": [
    {
     "data": {
      "text/html": [
       "<div>\n",
       "<style scoped>\n",
       "    .dataframe tbody tr th:only-of-type {\n",
       "        vertical-align: middle;\n",
       "    }\n",
       "\n",
       "    .dataframe tbody tr th {\n",
       "        vertical-align: top;\n",
       "    }\n",
       "\n",
       "    .dataframe thead th {\n",
       "        text-align: right;\n",
       "    }\n",
       "</style>\n",
       "<table border=\"1\" class=\"dataframe\">\n",
       "  <thead>\n",
       "    <tr style=\"text-align: right;\">\n",
       "      <th></th>\n",
       "      <th>Type</th>\n",
       "      <th>Name</th>\n",
       "      <th>Date</th>\n",
       "    </tr>\n",
       "  </thead>\n",
       "  <tbody>\n",
       "    <tr>\n",
       "      <th>0</th>\n",
       "      <td>National holiday</td>\n",
       "      <td>Republic Day/New Year's Day observed</td>\n",
       "      <td>2017-01-02</td>\n",
       "    </tr>\n",
       "    <tr>\n",
       "      <th>1</th>\n",
       "      <td>National holiday</td>\n",
       "      <td>Chinese New Year's Eve</td>\n",
       "      <td>2017-01-27</td>\n",
       "    </tr>\n",
       "    <tr>\n",
       "      <th>2</th>\n",
       "      <td>National holiday</td>\n",
       "      <td>Chinese New Year's Day</td>\n",
       "      <td>2017-01-28</td>\n",
       "    </tr>\n",
       "    <tr>\n",
       "      <th>3</th>\n",
       "      <td>National holiday</td>\n",
       "      <td>Chinese New Year Holiday 1</td>\n",
       "      <td>2017-01-29</td>\n",
       "    </tr>\n",
       "    <tr>\n",
       "      <th>4</th>\n",
       "      <td>National holiday</td>\n",
       "      <td>Chinese New Year Holiday 2</td>\n",
       "      <td>2017-01-30</td>\n",
       "    </tr>\n",
       "  </tbody>\n",
       "</table>\n",
       "</div>"
      ],
      "text/plain": [
       "               Type                                  Name       Date\n",
       "0  National holiday  Republic Day/New Year's Day observed 2017-01-02\n",
       "1  National holiday                Chinese New Year's Eve 2017-01-27\n",
       "2  National holiday                Chinese New Year's Day 2017-01-28\n",
       "3  National holiday            Chinese New Year Holiday 1 2017-01-29\n",
       "4  National holiday            Chinese New Year Holiday 2 2017-01-30"
      ]
     },
     "execution_count": 63,
     "metadata": {},
     "output_type": "execute_result"
    }
   ],
   "source": [
    "df_events.head()"
   ]
  },
  {
   "cell_type": "code",
   "execution_count": 64,
   "metadata": {},
   "outputs": [],
   "source": [
    "holidayDates = df_events[df_events.Type == 'National holiday'].Date"
   ]
  },
  {
   "cell_type": "code",
   "execution_count": 65,
   "metadata": {},
   "outputs": [],
   "source": [
    "holidayDates = [str(d.date()) for d in holidayDates]\n",
    "dates = [str(d.date()) for d in dates]"
   ]
  },
  {
   "cell_type": "code",
   "execution_count": 66,
   "metadata": {},
   "outputs": [],
   "source": [
    "anomalyIndex = [i for i,d in enumerate(dates) if d in holidayDates]\n",
    "len(anomalyIndex)\n",
    "indexBool = np.array([i in anomalyIndex for i in list(range(matrix.shape[0]))])"
   ]
  },
  {
   "cell_type": "code",
   "execution_count": 67,
   "metadata": {},
   "outputs": [],
   "source": [
    "def anomalyDetection(y,pval = 0.2,iterN=5,n_com=1):\n",
    "    #index of regular (non-outlier points)\n",
    "    #rind=y[:,0]>-10 \n",
    "    rind = np.array(range(y.shape[0]))\n",
    "    \n",
    "    #clustering model\n",
    "    gm=GaussianMixture(n_components=n_com, n_init=100, max_iter=1000,random_state=0) \n",
    "    for i in range(iterN): #iterate\n",
    "        print('Iteration {}'.format(i+1))  \n",
    "        clustering=gm.fit(y[rind,:]) #fit EM clustering model excluding outliers\n",
    "        l=clustering.score_samples(y) #estimate likelihood for each point\n",
    "        Lthres=sorted(l)[int(len(l)*pval)] #anomaly threshold\n",
    "        rind0=0+rind\n",
    "        rind=l>Lthres #non-anomalous points\n",
    "        if(sum(rind)==0):\n",
    "            print('All anomalies in {} iterations'.format(i+1))\n",
    "            break\n",
    "        if all(rind==rind0):\n",
    "            print('Convergence in {} iterations'.format(i+1))\n",
    "            break\n",
    "    return l < Lthres"
   ]
  },
  {
   "cell_type": "code",
   "execution_count": 68,
   "metadata": {},
   "outputs": [],
   "source": [
    "def getResults(reducedMatrix,threshHolds,iterN=5,n_com=1):\n",
    "    results = []\n",
    "    for th in threshHolds:\n",
    "        #th = thres/100\n",
    "        print(\"Threshhold: \",th)\n",
    "        outliers = anomalyDetection(reducedMatrix,th,iterN,n_com)\n",
    "\n",
    "        tpr = sum(outliers & indexBool)/sum(indexBool)\n",
    "        fpr = sum(outliers & ~indexBool)/sum(~indexBool)\n",
    "        precision = sum(outliers & indexBool)/sum(outliers)\n",
    "\n",
    "        F1 = 2 * (precision * tpr) / (precision + tpr)\n",
    "\n",
    "        res = {'Cat':'Global', 'th':th, 'TPR':tpr, 'FPR':fpr, 'F1':F1, 'Precision':precision}\n",
    "        results.append(res)\n",
    "\n",
    "    resDf = pd.DataFrame(results)    \n",
    "    return resDf"
   ]
  },
  {
   "cell_type": "code",
   "execution_count": 69,
   "metadata": {},
   "outputs": [],
   "source": [
    "threshHolds = [0.01, 0.03, 0.04, 0.05, 0.06, 0.07, 0.08, 0.1, 0.2, 0.3, 0.4, 0.5, 0.6, 0.7, 0.8, 0.9]"
   ]
  },
  {
   "cell_type": "code",
   "execution_count": 70,
   "metadata": {
    "scrolled": true
   },
   "outputs": [
    {
     "name": "stdout",
     "output_type": "stream",
     "text": [
      "Threshhold:  0.01\n",
      "Iteration 1\n",
      "Iteration 2\n",
      "Convergence in 2 iterations\n",
      "Threshhold:  0.03\n",
      "Iteration 1\n"
     ]
    },
    {
     "name": "stderr",
     "output_type": "stream",
     "text": [
      "/home/urwa/miniconda3/envs/gcn/lib/python3.7/site-packages/ipykernel_launcher.py:12: RuntimeWarning: invalid value encountered in double_scalars\n",
      "  if sys.path[0] == '':\n"
     ]
    },
    {
     "name": "stdout",
     "output_type": "stream",
     "text": [
      "Iteration 2\n",
      "Iteration 3\n",
      "Convergence in 3 iterations\n",
      "Threshhold:  0.04\n",
      "Iteration 1\n",
      "Iteration 2\n",
      "Iteration 3\n",
      "Convergence in 3 iterations\n",
      "Threshhold:  0.05\n",
      "Iteration 1\n",
      "Iteration 2\n",
      "Convergence in 2 iterations\n",
      "Threshhold:  0.06\n",
      "Iteration 1\n",
      "Iteration 2\n",
      "Convergence in 2 iterations\n",
      "Threshhold:  0.07\n",
      "Iteration 1\n",
      "Iteration 2\n",
      "Convergence in 2 iterations\n",
      "Threshhold:  0.08\n",
      "Iteration 1\n",
      "Iteration 2\n",
      "Convergence in 2 iterations\n",
      "Threshhold:  0.1\n",
      "Iteration 1\n",
      "Iteration 2\n",
      "Iteration 3\n",
      "Convergence in 3 iterations\n",
      "Threshhold:  0.2\n",
      "Iteration 1\n",
      "Iteration 2\n",
      "Iteration 3\n",
      "Iteration 4\n",
      "Convergence in 4 iterations\n",
      "Threshhold:  0.3\n",
      "Iteration 1\n",
      "Iteration 2\n",
      "Iteration 3\n",
      "Iteration 4\n",
      "Iteration 5\n",
      "Convergence in 5 iterations\n",
      "Threshhold:  0.4\n",
      "Iteration 1\n",
      "Iteration 2\n",
      "Iteration 3\n",
      "Iteration 4\n",
      "Iteration 5\n",
      "Threshhold:  0.5\n",
      "Iteration 1\n",
      "Iteration 2\n",
      "Iteration 3\n",
      "Iteration 4\n",
      "Iteration 5\n",
      "Threshhold:  0.6\n",
      "Iteration 1\n",
      "Iteration 2\n",
      "Iteration 3\n",
      "Iteration 4\n",
      "Iteration 5\n",
      "Threshhold:  0.7\n",
      "Iteration 1\n",
      "Iteration 2\n",
      "Iteration 3\n",
      "Iteration 4\n",
      "Iteration 5\n",
      "Threshhold:  0.8\n",
      "Iteration 1\n",
      "Iteration 2\n",
      "Iteration 3\n",
      "Iteration 4\n",
      "Convergence in 4 iterations\n",
      "Threshhold:  0.9\n",
      "Iteration 1\n",
      "Iteration 2\n",
      "Convergence in 2 iterations\n"
     ]
    }
   ],
   "source": [
    "PCARec = getResults(representation,threshHolds,iterN=5,n_com=1)"
   ]
  },
  {
   "cell_type": "code",
   "execution_count": 71,
   "metadata": {},
   "outputs": [
    {
     "data": {
      "text/html": [
       "<div>\n",
       "<style scoped>\n",
       "    .dataframe tbody tr th:only-of-type {\n",
       "        vertical-align: middle;\n",
       "    }\n",
       "\n",
       "    .dataframe tbody tr th {\n",
       "        vertical-align: top;\n",
       "    }\n",
       "\n",
       "    .dataframe thead th {\n",
       "        text-align: right;\n",
       "    }\n",
       "</style>\n",
       "<table border=\"1\" class=\"dataframe\">\n",
       "  <thead>\n",
       "    <tr style=\"text-align: right;\">\n",
       "      <th></th>\n",
       "      <th>Cat</th>\n",
       "      <th>F1</th>\n",
       "      <th>FPR</th>\n",
       "      <th>Precision</th>\n",
       "      <th>TPR</th>\n",
       "      <th>th</th>\n",
       "    </tr>\n",
       "  </thead>\n",
       "  <tbody>\n",
       "    <tr>\n",
       "      <th>0</th>\n",
       "      <td>Global</td>\n",
       "      <td>NaN</td>\n",
       "      <td>0.009852</td>\n",
       "      <td>0.000000</td>\n",
       "      <td>0.000000</td>\n",
       "      <td>0.01</td>\n",
       "    </tr>\n",
       "    <tr>\n",
       "      <th>1</th>\n",
       "      <td>Global</td>\n",
       "      <td>0.041667</td>\n",
       "      <td>0.029557</td>\n",
       "      <td>0.052632</td>\n",
       "      <td>0.034483</td>\n",
       "      <td>0.03</td>\n",
       "    </tr>\n",
       "    <tr>\n",
       "      <th>2</th>\n",
       "      <td>Global</td>\n",
       "      <td>0.037037</td>\n",
       "      <td>0.039409</td>\n",
       "      <td>0.040000</td>\n",
       "      <td>0.034483</td>\n",
       "      <td>0.04</td>\n",
       "    </tr>\n",
       "    <tr>\n",
       "      <th>3</th>\n",
       "      <td>Global</td>\n",
       "      <td>0.033333</td>\n",
       "      <td>0.049261</td>\n",
       "      <td>0.032258</td>\n",
       "      <td>0.034483</td>\n",
       "      <td>0.05</td>\n",
       "    </tr>\n",
       "    <tr>\n",
       "      <th>4</th>\n",
       "      <td>Global</td>\n",
       "      <td>0.059701</td>\n",
       "      <td>0.059113</td>\n",
       "      <td>0.052632</td>\n",
       "      <td>0.068966</td>\n",
       "      <td>0.06</td>\n",
       "    </tr>\n",
       "    <tr>\n",
       "      <th>5</th>\n",
       "      <td>Global</td>\n",
       "      <td>0.054795</td>\n",
       "      <td>0.068966</td>\n",
       "      <td>0.045455</td>\n",
       "      <td>0.068966</td>\n",
       "      <td>0.07</td>\n",
       "    </tr>\n",
       "    <tr>\n",
       "      <th>6</th>\n",
       "      <td>Global</td>\n",
       "      <td>0.050000</td>\n",
       "      <td>0.080460</td>\n",
       "      <td>0.039216</td>\n",
       "      <td>0.068966</td>\n",
       "      <td>0.08</td>\n",
       "    </tr>\n",
       "    <tr>\n",
       "      <th>7</th>\n",
       "      <td>Global</td>\n",
       "      <td>0.043478</td>\n",
       "      <td>0.100164</td>\n",
       "      <td>0.031746</td>\n",
       "      <td>0.068966</td>\n",
       "      <td>0.10</td>\n",
       "    </tr>\n",
       "    <tr>\n",
       "      <th>8</th>\n",
       "      <td>Global</td>\n",
       "      <td>0.051282</td>\n",
       "      <td>0.201970</td>\n",
       "      <td>0.031496</td>\n",
       "      <td>0.137931</td>\n",
       "      <td>0.20</td>\n",
       "    </tr>\n",
       "    <tr>\n",
       "      <th>9</th>\n",
       "      <td>Global</td>\n",
       "      <td>0.054545</td>\n",
       "      <td>0.303777</td>\n",
       "      <td>0.031414</td>\n",
       "      <td>0.206897</td>\n",
       "      <td>0.30</td>\n",
       "    </tr>\n",
       "    <tr>\n",
       "      <th>10</th>\n",
       "      <td>Global</td>\n",
       "      <td>0.084507</td>\n",
       "      <td>0.399015</td>\n",
       "      <td>0.047059</td>\n",
       "      <td>0.413793</td>\n",
       "      <td>0.40</td>\n",
       "    </tr>\n",
       "    <tr>\n",
       "      <th>11</th>\n",
       "      <td>Global</td>\n",
       "      <td>0.097701</td>\n",
       "      <td>0.495895</td>\n",
       "      <td>0.053292</td>\n",
       "      <td>0.586207</td>\n",
       "      <td>0.50</td>\n",
       "    </tr>\n",
       "    <tr>\n",
       "      <th>12</th>\n",
       "      <td>Global</td>\n",
       "      <td>0.072993</td>\n",
       "      <td>0.602627</td>\n",
       "      <td>0.039267</td>\n",
       "      <td>0.517241</td>\n",
       "      <td>0.60</td>\n",
       "    </tr>\n",
       "    <tr>\n",
       "      <th>13</th>\n",
       "      <td>Global</td>\n",
       "      <td>0.109474</td>\n",
       "      <td>0.689655</td>\n",
       "      <td>0.058296</td>\n",
       "      <td>0.896552</td>\n",
       "      <td>0.70</td>\n",
       "    </tr>\n",
       "    <tr>\n",
       "      <th>14</th>\n",
       "      <td>Global</td>\n",
       "      <td>0.096475</td>\n",
       "      <td>0.794745</td>\n",
       "      <td>0.050980</td>\n",
       "      <td>0.896552</td>\n",
       "      <td>0.80</td>\n",
       "    </tr>\n",
       "    <tr>\n",
       "      <th>15</th>\n",
       "      <td>Global</td>\n",
       "      <td>0.082919</td>\n",
       "      <td>0.901478</td>\n",
       "      <td>0.043554</td>\n",
       "      <td>0.862069</td>\n",
       "      <td>0.90</td>\n",
       "    </tr>\n",
       "  </tbody>\n",
       "</table>\n",
       "</div>"
      ],
      "text/plain": [
       "       Cat        F1       FPR  Precision       TPR    th\n",
       "0   Global       NaN  0.009852   0.000000  0.000000  0.01\n",
       "1   Global  0.041667  0.029557   0.052632  0.034483  0.03\n",
       "2   Global  0.037037  0.039409   0.040000  0.034483  0.04\n",
       "3   Global  0.033333  0.049261   0.032258  0.034483  0.05\n",
       "4   Global  0.059701  0.059113   0.052632  0.068966  0.06\n",
       "5   Global  0.054795  0.068966   0.045455  0.068966  0.07\n",
       "6   Global  0.050000  0.080460   0.039216  0.068966  0.08\n",
       "7   Global  0.043478  0.100164   0.031746  0.068966  0.10\n",
       "8   Global  0.051282  0.201970   0.031496  0.137931  0.20\n",
       "9   Global  0.054545  0.303777   0.031414  0.206897  0.30\n",
       "10  Global  0.084507  0.399015   0.047059  0.413793  0.40\n",
       "11  Global  0.097701  0.495895   0.053292  0.586207  0.50\n",
       "12  Global  0.072993  0.602627   0.039267  0.517241  0.60\n",
       "13  Global  0.109474  0.689655   0.058296  0.896552  0.70\n",
       "14  Global  0.096475  0.794745   0.050980  0.896552  0.80\n",
       "15  Global  0.082919  0.901478   0.043554  0.862069  0.90"
      ]
     },
     "execution_count": 71,
     "metadata": {},
     "output_type": "execute_result"
    }
   ],
   "source": [
    "PCARec"
   ]
  },
  {
   "cell_type": "code",
   "execution_count": null,
   "metadata": {},
   "outputs": [],
   "source": []
  }
 ],
 "metadata": {
  "kernelspec": {
   "display_name": "Python 3",
   "language": "python",
   "name": "python3"
  },
  "language_info": {
   "codemirror_mode": {
    "name": "ipython",
    "version": 3
   },
   "file_extension": ".py",
   "mimetype": "text/x-python",
   "name": "python",
   "nbconvert_exporter": "python",
   "pygments_lexer": "ipython3",
   "version": "3.7.3"
  }
 },
 "nbformat": 4,
 "nbformat_minor": 2
}
