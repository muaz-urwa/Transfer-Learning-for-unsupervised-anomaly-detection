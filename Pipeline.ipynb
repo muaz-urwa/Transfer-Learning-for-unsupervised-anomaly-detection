{
 "cells": [
  {
   "cell_type": "code",
   "execution_count": 2,
   "metadata": {},
   "outputs": [
    {
     "name": "stdout",
     "output_type": "stream",
     "text": [
      "Populating the interactive namespace from numpy and matplotlib\n"
     ]
    }
   ],
   "source": [
    "#add necessary libraries\n",
    "import networkx as nx #library supporting networks\n",
    "import matplotlib.pyplot as plt #plotting\n",
    "import pandas as pd\n",
    "import numpy as np\n",
    "import scipy.stats as stat\n",
    "from scipy import optimize\n",
    "#make sure plots are embedded into the notebook\n",
    "%pylab inline \n",
    "#import statsmodels.formula.api as smf\n",
    "#import shapefile as shp\n",
    "#from shapely.geometry.polygon import Polygon\n",
    "#from descartes import PolygonPatch\n",
    "import os\n",
    "from networkx.algorithms import community\n",
    "from sklearn.mixture import GaussianMixture \n",
    "import json\n",
    "\n",
    "\n",
    "#from tensorflow import set_random_seed\n",
    "\n",
    "import torch\n",
    "import torch.nn as nn\n",
    "import torch.utils.data"
   ]
  },
  {
   "cell_type": "code",
   "execution_count": 55,
   "metadata": {},
   "outputs": [],
   "source": [
    "dataDir = 'data/' \n",
    "resultDir = 'results/'\n",
    "comboDir = 'Combo/'\n",
    "dataFile = dataDir+AnomalyType+'.npy'\n",
    "events_data =dataDir+AnomalyType+'Index.json'"
   ]
  },
  {
   "cell_type": "code",
   "execution_count": 56,
   "metadata": {},
   "outputs": [],
   "source": [
    "maxcom = inf"
   ]
  },
  {
   "cell_type": "code",
   "execution_count": 57,
   "metadata": {},
   "outputs": [],
   "source": [
    "np.random.seed(112)\n",
    "set_random_seed(22)\n",
    "\n",
    "encoding_dim = [500,100,15]\n",
    "\n",
    "learning_rate=0.001\n",
    "batch_size = 100\n",
    "num_epochs = 100"
   ]
  },
  {
   "cell_type": "code",
   "execution_count": 58,
   "metadata": {},
   "outputs": [],
   "source": [
    "threshHolds = [0.01, 0.03, 0.04, 0.05, 0.06, 0.07, 0.08, 0.1, 0.2, 0.3, 0.4, 0.5, 0.6, 0.7, 0.8, 0.9]"
   ]
  },
  {
   "cell_type": "code",
   "execution_count": null,
   "metadata": {},
   "outputs": [],
   "source": []
  },
  {
   "cell_type": "code",
   "execution_count": 59,
   "metadata": {},
   "outputs": [],
   "source": [
    "class autoencoder(nn.Module):\n",
    "    def __init__(self,inputD,encoding_dim):\n",
    "        super(autoencoder, self).__init__()\n",
    "        \n",
    "        self.encoder = nn.Sequential()\n",
    "        \n",
    "        self.encoder.add_module(\"enc_0\", nn.Linear(inputD,encoding_dim[0]))\n",
    "        self.encoder.add_module(\"relu_0\", nn.ReLU())\n",
    "          \n",
    "        for l in range(1,len(encoding_dim)):\n",
    "            self.encoder.add_module(\"enc_\"+str(l), nn.Linear(encoding_dim[l-1],encoding_dim[l]))\n",
    "            self.encoder.add_module(\"encrelu_\"+str(l), nn.ReLU())\n",
    "                                    \n",
    "        self.decoder = nn.Sequential()\n",
    "        \n",
    "        for l in range(len(encoding_dim)-1,0,-1):\n",
    "            self.decoder.add_module(\"dec_\"+str(l), nn.Linear(encoding_dim[l],encoding_dim[l-1]))\n",
    "            self.decoder.add_module(\"decrelu_\"+str(l), nn.ReLU())\n",
    "            \n",
    "        self.decoder.add_module(\"dec_0\", nn.Linear(encoding_dim[0],inputD))\n",
    "        self.decoder.add_module(\"decrelu_0\", nn.Sigmoid())\n",
    "        \n",
    "        self.encoder.apply(self.init_weights)\n",
    "        self.decoder.apply(self.init_weights)\n",
    "\n",
    "    def forward(self, x):\n",
    "        x = self.encoder(x)\n",
    "        x = self.decoder(x)\n",
    "        return x\n",
    "    \n",
    "    def init_weights(self,m):\n",
    "        if type(m) == nn.Linear:\n",
    "            nn.init.xavier_uniform_(m.weight)\n",
    "            m.bias.data.fill_(0.01)\n",
    "    \n",
    "    def representation(self, x):\n",
    "        x = self.encoder(x)\n",
    "        return x"
   ]
  },
  {
   "cell_type": "code",
   "execution_count": 60,
   "metadata": {},
   "outputs": [],
   "source": [
    "def getComboPartition(G,maxcom,comboDir):\n",
    "    #save network in net format\n",
    "    nodes={}\n",
    "    nodenum={}\n",
    "    i=0\n",
    "    #create a dictionary transforming nodes to unique numbers\n",
    "    for n in list(G.nodes()):\n",
    "        nodenum[n]=i\n",
    "        nodes[i]=n\n",
    "        i+=1\n",
    "    tempNetFile = comboDir+'temp/temp.net'\n",
    "    f = open(tempNetFile, 'w')\n",
    "    f.write('*Arcs\\n')\n",
    "    print(\"Nodes: \",len(G.nodes()))\n",
    "    print(\"Edges: \",len(G.edges()))\n",
    "    for e in G.edges(data=True):\n",
    "        f.write('{0} {1} {2}\\n'.format(nodenum[e[0]],nodenum[e[1]],e[2]['weight']))\n",
    "    f.close()\n",
    "    \n",
    "    #run combo\n",
    "    command=comboDir+'comboCPP '+tempNetFile\n",
    "    if maxcom<Inf:\n",
    "        command=command+' {0}'.format(maxcom) \n",
    "    os.system(command)\n",
    "    \n",
    "    #read resulting partition\n",
    "    partitionFile = \"\".join(tempNetFile.split('.')[:-1]) + '_comm_comboC++.txt'\n",
    "    f = open(partitionFile, 'r')\n",
    "    i=0\n",
    "    partition={}\n",
    "    for line in f:\n",
    "        partition[nodes[i]]=int(line)\n",
    "        i+=1\n",
    "    f.close()\n",
    "    print(\"Communities: \",len(set(partition.values())))\n",
    "    return partition    "
   ]
  },
  {
   "cell_type": "code",
   "execution_count": 61,
   "metadata": {},
   "outputs": [],
   "source": [
    "def makeGraphfromDf(df):\n",
    "    G=nx.DiGraph()\n",
    "    nx.set_edge_attributes(G,'weight', 0)\n",
    "    for k in df.index:\n",
    "        G.add_edge(df['start_id'][k],df['end_id'][k],weight=df['amount'][k])\n",
    "    return G"
   ]
  },
  {
   "cell_type": "code",
   "execution_count": 62,
   "metadata": {},
   "outputs": [],
   "source": [
    "def getCommunityPartition(aggregatedData,maxcom):\n",
    "    Graph = makeGraphfromDf(aggregatedData)\n",
    "    partition = getComboPartition(Graph,maxcom,comboDir)\n",
    "    return partition"
   ]
  },
  {
   "cell_type": "code",
   "execution_count": 63,
   "metadata": {},
   "outputs": [],
   "source": [
    "def aggregateByCommunities(file,maxcom):\n",
    "    data = pd.read_csv(file)\n",
    "    print('Raw shape: ',data.shape)\n",
    "    data.columns = [c.lower() for c in data.columns]\n",
    "    data['date'] = pd.to_datetime(data.date)\n",
    "    print('Days: ',len(set(data.date)))\n",
    "    aggregatedData = data[['start_id','end_id','amount']].groupby(['start_id','end_id']).sum().reset_index()\n",
    "    print('aggeregated shape: ',aggregatedData.shape)\n",
    "    print('Avg Edge: ',sum(aggregatedData.amount)/len(aggregatedData))\n",
    "\n",
    "    Graph = makeGraphfromDf(aggregatedData)\n",
    "    partition = getComboPartition(Graph,maxcom,comboDir)\n",
    "\n",
    "    data['start_community'] = data['start_id'].apply(lambda x: partition[x])\n",
    "    data['end_community'] = data['end_id'].apply(lambda x: partition[x])\n",
    "\n",
    "    communityData = data[['start_community','end_community','date','amount']]\n",
    "    communityData = communityData.groupby(['start_community','end_community','date']).sum().reset_index()\n",
    "    communityData.columns = ['start_id', 'end_id', 'date', 'amount']\n",
    "    print('Community Aggregated Shape: ',communityData.shape)\n",
    "\n",
    "    return communityData"
   ]
  },
  {
   "cell_type": "code",
   "execution_count": 64,
   "metadata": {},
   "outputs": [],
   "source": [
    "def getTimeSeries(df):\n",
    "    table = pd.pivot_table(df, values='amount', index=['date'],\n",
    "                    columns=['start_id','end_id'], aggfunc=np.sum, fill_value=0)\n",
    "    return table"
   ]
  },
  {
   "cell_type": "code",
   "execution_count": 65,
   "metadata": {},
   "outputs": [],
   "source": [
    "def loadData(file):\n",
    "    data = pd.read_csv('data/20190402_TaipeiEdgesDatewise.csv')\n",
    "    print('Raw shape: ',data.shape)\n",
    "    data['date'] = pd.to_datetime(data.date)\n",
    "    print('Days: ',len(set(data.date)))\n",
    "    return data"
   ]
  },
  {
   "cell_type": "code",
   "execution_count": 66,
   "metadata": {},
   "outputs": [],
   "source": [
    "def anomalyDetection(y,pval = 0.2,iterN=5,n_com=1):\n",
    "    #index of regular (non-outlier points)\n",
    "    #rind=y[:,0]>-10 \n",
    "    rind = np.array(range(y.shape[0]))\n",
    "    \n",
    "    #clustering model\n",
    "    gm=GaussianMixture(n_components=n_com, n_init=100, max_iter=1000,random_state=0) \n",
    "    for i in range(iterN): #iterate\n",
    "        print('Iteration {}'.format(i+1))  \n",
    "        clustering=gm.fit(y[rind,:]) #fit EM clustering model excluding outliers\n",
    "        l=clustering.score_samples(y) #estimate likelihood for each point\n",
    "        Lthres=sorted(l)[int(len(l)*pval)] #anomaly threshold\n",
    "        rind0=0+rind\n",
    "        rind=l>Lthres #non-anomalous points\n",
    "        if all(rind==rind0):\n",
    "            print('Convergence in {} iterations'.format(i+1))\n",
    "            break\n",
    "    return l < Lthres"
   ]
  },
  {
   "cell_type": "code",
   "execution_count": 67,
   "metadata": {},
   "outputs": [],
   "source": [
    "def getResults(reducedMatrix,threshHolds,iterN=5,n_com=1):\n",
    "    results = []\n",
    "    for th in threshHolds:\n",
    "        #th = thres/100\n",
    "        print(\"Threshhold: \",th)\n",
    "        outliers = anomalyDetection(reducedMatrix,th,iterN,n_com)\n",
    "\n",
    "        tpr = sum(outliers & indexBool)/sum(indexBool)\n",
    "        fpr = sum(outliers & ~indexBool)/sum(~indexBool)\n",
    "        precision = sum(outliers & indexBool)/sum(outliers)\n",
    "\n",
    "        F1 = 2 * (precision * tpr) / (precision + tpr)\n",
    "\n",
    "        res = {'Cat':'Global', 'th':th, 'TPR':tpr, 'FPR':fpr, 'F1':F1, 'Precision':precision}\n",
    "        results.append(res)\n",
    "\n",
    "    resDf = pd.DataFrame(results)    \n",
    "    return resDf"
   ]
  },
  {
   "cell_type": "code",
   "execution_count": 68,
   "metadata": {},
   "outputs": [],
   "source": [
    "# dataDir = 'data/' \n",
    "# comboDir = 'combo/'\n",
    "# dataFile = 'ChicagoEdgeDatewiseAggregated.csv'\n",
    "# events_data =dataDir+'ChicagoEvents.csv'"
   ]
  },
  {
   "cell_type": "markdown",
   "metadata": {},
   "source": [
    "### Events data"
   ]
  },
  {
   "cell_type": "code",
   "execution_count": 69,
   "metadata": {},
   "outputs": [],
   "source": [
    "with open(events_data, 'r') as f:\n",
    "        anomalyIndex = json.load(f)"
   ]
  },
  {
   "cell_type": "markdown",
   "metadata": {},
   "source": [
    "### Preprocess Network Data"
   ]
  },
  {
   "cell_type": "code",
   "execution_count": 70,
   "metadata": {},
   "outputs": [],
   "source": [
    "\n",
    "file = dataDir + dataFile"
   ]
  },
  {
   "cell_type": "code",
   "execution_count": 71,
   "metadata": {},
   "outputs": [
    {
     "name": "stdout",
     "output_type": "stream",
     "text": [
      "Matrix Shape:  (10000, 11664)\n"
     ]
    }
   ],
   "source": [
    "matrix = np.load(dataFile)\n",
    "print('Matrix Shape: ',matrix.shape)"
   ]
  },
  {
   "cell_type": "code",
   "execution_count": 72,
   "metadata": {},
   "outputs": [],
   "source": [
    "indexBool = np.array([i in anomalyIndex for i in list(range(matrix.shape[0]))])"
   ]
  },
  {
   "cell_type": "code",
   "execution_count": 73,
   "metadata": {},
   "outputs": [
    {
     "data": {
      "text/html": [
       "<div>\n",
       "<style scoped>\n",
       "    .dataframe tbody tr th:only-of-type {\n",
       "        vertical-align: middle;\n",
       "    }\n",
       "\n",
       "    .dataframe tbody tr th {\n",
       "        vertical-align: top;\n",
       "    }\n",
       "\n",
       "    .dataframe thead th {\n",
       "        text-align: right;\n",
       "    }\n",
       "</style>\n",
       "<table border=\"1\" class=\"dataframe\">\n",
       "  <thead>\n",
       "    <tr style=\"text-align: right;\">\n",
       "      <th></th>\n",
       "      <th>start_id</th>\n",
       "      <th>end_id</th>\n",
       "      <th>amount</th>\n",
       "    </tr>\n",
       "  </thead>\n",
       "  <tbody>\n",
       "    <tr>\n",
       "      <th>0</th>\n",
       "      <td>BL01</td>\n",
       "      <td>BL01</td>\n",
       "      <td>4.156861e+05</td>\n",
       "    </tr>\n",
       "    <tr>\n",
       "      <th>1</th>\n",
       "      <td>BL01</td>\n",
       "      <td>BL02</td>\n",
       "      <td>1.731516e+06</td>\n",
       "    </tr>\n",
       "    <tr>\n",
       "      <th>2</th>\n",
       "      <td>BL01</td>\n",
       "      <td>BL03</td>\n",
       "      <td>1.426638e+06</td>\n",
       "    </tr>\n",
       "  </tbody>\n",
       "</table>\n",
       "</div>"
      ],
      "text/plain": [
       "  start_id end_id        amount\n",
       "0     BL01   BL01  4.156861e+05\n",
       "1     BL01   BL02  1.731516e+06\n",
       "2     BL01   BL03  1.426638e+06"
      ]
     },
     "execution_count": 73,
     "metadata": {},
     "output_type": "execute_result"
    }
   ],
   "source": [
    "columnInfo = pd.read_csv('columnInfo.csv')\n",
    "columnInfo['amount']=np.sum(matrix, axis=0)\n",
    "columnInfo = columnInfo[['start_id','end_id','amount']]\n",
    "columnInfo.head(3)"
   ]
  },
  {
   "cell_type": "code",
   "execution_count": 74,
   "metadata": {},
   "outputs": [
    {
     "name": "stdout",
     "output_type": "stream",
     "text": [
      "Nodes:  108\n",
      "Edges:  11664\n",
      "Communities:  4\n"
     ]
    }
   ],
   "source": [
    "partition = getCommunityPartition(columnInfo,maxcom)"
   ]
  },
  {
   "cell_type": "code",
   "execution_count": 75,
   "metadata": {},
   "outputs": [
    {
     "data": {
      "text/html": [
       "<div>\n",
       "<style scoped>\n",
       "    .dataframe tbody tr th:only-of-type {\n",
       "        vertical-align: middle;\n",
       "    }\n",
       "\n",
       "    .dataframe tbody tr th {\n",
       "        vertical-align: top;\n",
       "    }\n",
       "\n",
       "    .dataframe thead th {\n",
       "        text-align: right;\n",
       "    }\n",
       "</style>\n",
       "<table border=\"1\" class=\"dataframe\">\n",
       "  <thead>\n",
       "    <tr style=\"text-align: right;\">\n",
       "      <th></th>\n",
       "      <th>start_id</th>\n",
       "      <th>end_id</th>\n",
       "      <th>amount</th>\n",
       "      <th>start_community</th>\n",
       "      <th>end_community</th>\n",
       "    </tr>\n",
       "  </thead>\n",
       "  <tbody>\n",
       "    <tr>\n",
       "      <th>0</th>\n",
       "      <td>BL01</td>\n",
       "      <td>BL01</td>\n",
       "      <td>4.156861e+05</td>\n",
       "      <td>1</td>\n",
       "      <td>1</td>\n",
       "    </tr>\n",
       "    <tr>\n",
       "      <th>1</th>\n",
       "      <td>BL01</td>\n",
       "      <td>BL02</td>\n",
       "      <td>1.731516e+06</td>\n",
       "      <td>1</td>\n",
       "      <td>1</td>\n",
       "    </tr>\n",
       "    <tr>\n",
       "      <th>2</th>\n",
       "      <td>BL01</td>\n",
       "      <td>BL03</td>\n",
       "      <td>1.426638e+06</td>\n",
       "      <td>1</td>\n",
       "      <td>1</td>\n",
       "    </tr>\n",
       "  </tbody>\n",
       "</table>\n",
       "</div>"
      ],
      "text/plain": [
       "  start_id end_id        amount  start_community  end_community\n",
       "0     BL01   BL01  4.156861e+05                1              1\n",
       "1     BL01   BL02  1.731516e+06                1              1\n",
       "2     BL01   BL03  1.426638e+06                1              1"
      ]
     },
     "execution_count": 75,
     "metadata": {},
     "output_type": "execute_result"
    }
   ],
   "source": [
    "columnInfo['start_community'] = columnInfo['start_id'].apply(lambda x: partition[x])\n",
    "columnInfo['end_community'] = columnInfo['end_id'].apply(lambda x: partition[x])\n",
    "columnInfo.head(3)"
   ]
  },
  {
   "cell_type": "markdown",
   "metadata": {},
   "source": [
    "### Nested"
   ]
  },
  {
   "cell_type": "code",
   "execution_count": 76,
   "metadata": {},
   "outputs": [
    {
     "data": {
      "text/plain": [
       "[0, 1, 2, 3]"
      ]
     },
     "execution_count": 76,
     "metadata": {},
     "output_type": "execute_result"
    }
   ],
   "source": [
    "communities = list(set(partition.values()))\n",
    "communities"
   ]
  },
  {
   "cell_type": "code",
   "execution_count": 77,
   "metadata": {},
   "outputs": [
    {
     "name": "stdout",
     "output_type": "stream",
     "text": [
      "Nodes:  25\n",
      "Edges:  625\n",
      "Communities:  2\n",
      "Nodes:  22\n",
      "Edges:  484\n",
      "Communities:  2\n",
      "Nodes:  39\n",
      "Edges:  1521\n",
      "Communities:  4\n",
      "Nodes:  22\n",
      "Edges:  484\n",
      "Communities:  2\n"
     ]
    }
   ],
   "source": [
    "pList = []\n",
    "for c in communities:\n",
    "    d = columnInfo[(columnInfo.start_community == c) & (columnInfo.end_community == c)]\n",
    "    graph = makeGraphfromDf(d)\n",
    "    p = getComboPartition(graph,maxcom,comboDir)\n",
    "    pList.append(p)"
   ]
  },
  {
   "cell_type": "code",
   "execution_count": 78,
   "metadata": {},
   "outputs": [
    {
     "data": {
      "text/plain": [
       "[0, 2, 4, 8]"
      ]
     },
     "execution_count": 78,
     "metadata": {},
     "output_type": "execute_result"
    }
   ],
   "source": [
    "add = [0]\n",
    "v =0\n",
    "for i in range(len(pList)-1):\n",
    "    v += max(pList[i].values())+1\n",
    "    add.append(v)\n",
    "add"
   ]
  },
  {
   "cell_type": "code",
   "execution_count": 79,
   "metadata": {},
   "outputs": [],
   "source": [
    "for i in range(len(pList)):\n",
    "    for k in list(pList[i].keys()):\n",
    "        pList[i][k] += add[i]\n",
    "        \n",
    "nestedPartition = {}\n",
    "for p in pList:\n",
    "    for k in list(p.keys()):\n",
    "        nestedPartition[k]= p[k]"
   ]
  },
  {
   "cell_type": "code",
   "execution_count": 80,
   "metadata": {},
   "outputs": [
    {
     "data": {
      "text/html": [
       "<div>\n",
       "<style scoped>\n",
       "    .dataframe tbody tr th:only-of-type {\n",
       "        vertical-align: middle;\n",
       "    }\n",
       "\n",
       "    .dataframe tbody tr th {\n",
       "        vertical-align: top;\n",
       "    }\n",
       "\n",
       "    .dataframe thead th {\n",
       "        text-align: right;\n",
       "    }\n",
       "</style>\n",
       "<table border=\"1\" class=\"dataframe\">\n",
       "  <thead>\n",
       "    <tr style=\"text-align: right;\">\n",
       "      <th></th>\n",
       "      <th>start_id</th>\n",
       "      <th>end_id</th>\n",
       "      <th>amount</th>\n",
       "      <th>start_community</th>\n",
       "      <th>end_community</th>\n",
       "    </tr>\n",
       "  </thead>\n",
       "  <tbody>\n",
       "    <tr>\n",
       "      <th>0</th>\n",
       "      <td>BL01</td>\n",
       "      <td>BL01</td>\n",
       "      <td>4.156861e+05</td>\n",
       "      <td>3</td>\n",
       "      <td>3</td>\n",
       "    </tr>\n",
       "    <tr>\n",
       "      <th>1</th>\n",
       "      <td>BL01</td>\n",
       "      <td>BL02</td>\n",
       "      <td>1.731516e+06</td>\n",
       "      <td>3</td>\n",
       "      <td>3</td>\n",
       "    </tr>\n",
       "    <tr>\n",
       "      <th>2</th>\n",
       "      <td>BL01</td>\n",
       "      <td>BL03</td>\n",
       "      <td>1.426638e+06</td>\n",
       "      <td>3</td>\n",
       "      <td>3</td>\n",
       "    </tr>\n",
       "  </tbody>\n",
       "</table>\n",
       "</div>"
      ],
      "text/plain": [
       "  start_id end_id        amount  start_community  end_community\n",
       "0     BL01   BL01  4.156861e+05                3              3\n",
       "1     BL01   BL02  1.731516e+06                3              3\n",
       "2     BL01   BL03  1.426638e+06                3              3"
      ]
     },
     "execution_count": 80,
     "metadata": {},
     "output_type": "execute_result"
    }
   ],
   "source": [
    "columnInfo['start_community'] = columnInfo['start_id'].apply(lambda x: nestedPartition[x])\n",
    "columnInfo['end_community'] = columnInfo['end_id'].apply(lambda x: nestedPartition[x])\n",
    "columnInfo.head(3)"
   ]
  },
  {
   "cell_type": "code",
   "execution_count": 81,
   "metadata": {},
   "outputs": [
    {
     "data": {
      "text/plain": [
       "(10000, 100)"
      ]
     },
     "execution_count": 81,
     "metadata": {},
     "output_type": "execute_result"
    }
   ],
   "source": [
    "n_com = len(set(columnInfo.start_community))\n",
    "newmatrix = np.zeros((matrix.shape[0],n_com**2))\n",
    "for i in range(columnInfo.shape[0]):\n",
    "    s_com = columnInfo.iloc[i]['start_community']\n",
    "    e_com = columnInfo.iloc[i]['end_community']\n",
    "    col = n_com * s_com + e_com\n",
    "    newmatrix[:,col] += matrix[:,i]\n",
    "    \n",
    "newmatrix.shape"
   ]
  },
  {
   "cell_type": "code",
   "execution_count": 82,
   "metadata": {},
   "outputs": [],
   "source": [
    "matrix = newmatrix"
   ]
  },
  {
   "cell_type": "code",
   "execution_count": 83,
   "metadata": {},
   "outputs": [],
   "source": [
    "matrix[matrix<0]=0\n",
    "matrix = np.log(matrix+1)\n",
    "for i in range(matrix.shape[1]):\n",
    "    matrix[:, i] = (matrix[:, i] - matrix[:, i].min()) / (matrix[:, i].max() - matrix[:, i].min())"
   ]
  },
  {
   "cell_type": "markdown",
   "metadata": {},
   "source": [
    "## AE"
   ]
  },
  {
   "cell_type": "code",
   "execution_count": 84,
   "metadata": {},
   "outputs": [],
   "source": [
    "input_dim = matrix.shape[1]"
   ]
  },
  {
   "cell_type": "code",
   "execution_count": 85,
   "metadata": {},
   "outputs": [],
   "source": [
    "matrixtensor = torch.tensor(matrix).float()"
   ]
  },
  {
   "cell_type": "code",
   "execution_count": 86,
   "metadata": {},
   "outputs": [],
   "source": [
    "model = autoencoder(input_dim,encoding_dim).cuda()\n",
    "criterion = nn.BCELoss()\n",
    "optimizer = torch.optim.Adam(model.parameters(), lr=learning_rate, weight_decay=1e-5)"
   ]
  },
  {
   "cell_type": "code",
   "execution_count": 87,
   "metadata": {},
   "outputs": [],
   "source": [
    "data_tensor = torch.utils.data.TensorDataset(matrixtensor, matrixtensor) \n",
    "dataloader = torch.utils.data.DataLoader(dataset = data_tensor, batch_size = batch_size, shuffle = True)"
   ]
  },
  {
   "cell_type": "code",
   "execution_count": 88,
   "metadata": {
    "scrolled": true
   },
   "outputs": [
    {
     "name": "stdout",
     "output_type": "stream",
     "text": [
      "epoch [1/100], loss:0.6058, MSE_loss:0.0016\n",
      "epoch [2/100], loss:0.5967, MSE_loss:0.0007\n",
      "epoch [3/100], loss:0.5988, MSE_loss:0.0007\n",
      "epoch [4/100], loss:0.6017, MSE_loss:0.0007\n",
      "epoch [5/100], loss:0.5957, MSE_loss:0.0006\n",
      "epoch [6/100], loss:0.5926, MSE_loss:0.0010\n",
      "epoch [7/100], loss:0.6010, MSE_loss:0.0004\n",
      "epoch [8/100], loss:0.6032, MSE_loss:0.0005\n",
      "epoch [9/100], loss:0.5971, MSE_loss:0.0004\n",
      "epoch [10/100], loss:0.6071, MSE_loss:0.0003\n",
      "epoch [11/100], loss:0.6027, MSE_loss:0.0004\n",
      "epoch [12/100], loss:0.5956, MSE_loss:0.0003\n",
      "epoch [13/100], loss:0.6041, MSE_loss:0.0003\n",
      "epoch [14/100], loss:0.6037, MSE_loss:0.0009\n",
      "epoch [15/100], loss:0.5944, MSE_loss:0.0003\n",
      "epoch [16/100], loss:0.6046, MSE_loss:0.0003\n",
      "epoch [17/100], loss:0.6029, MSE_loss:0.0003\n",
      "epoch [18/100], loss:0.5983, MSE_loss:0.0003\n",
      "epoch [19/100], loss:0.5969, MSE_loss:0.0003\n",
      "epoch [20/100], loss:0.5948, MSE_loss:0.0003\n",
      "epoch [21/100], loss:0.6018, MSE_loss:0.0003\n",
      "epoch [22/100], loss:0.6071, MSE_loss:0.0003\n",
      "epoch [23/100], loss:0.6040, MSE_loss:0.0003\n",
      "epoch [24/100], loss:0.6011, MSE_loss:0.0003\n",
      "epoch [25/100], loss:0.6052, MSE_loss:0.0003\n",
      "epoch [26/100], loss:0.6009, MSE_loss:0.0003\n",
      "epoch [27/100], loss:0.6066, MSE_loss:0.0002\n",
      "epoch [28/100], loss:0.6040, MSE_loss:0.0003\n",
      "epoch [29/100], loss:0.5972, MSE_loss:0.0003\n",
      "epoch [30/100], loss:0.6018, MSE_loss:0.0002\n",
      "epoch [31/100], loss:0.6065, MSE_loss:0.0003\n",
      "epoch [32/100], loss:0.5990, MSE_loss:0.0002\n",
      "epoch [33/100], loss:0.6066, MSE_loss:0.0003\n",
      "epoch [34/100], loss:0.6029, MSE_loss:0.0003\n",
      "epoch [35/100], loss:0.6034, MSE_loss:0.0003\n",
      "epoch [36/100], loss:0.6103, MSE_loss:0.0003\n",
      "epoch [37/100], loss:0.6052, MSE_loss:0.0003\n",
      "epoch [38/100], loss:0.6010, MSE_loss:0.0004\n",
      "epoch [39/100], loss:0.6056, MSE_loss:0.0003\n",
      "epoch [40/100], loss:0.6072, MSE_loss:0.0003\n",
      "epoch [41/100], loss:0.6021, MSE_loss:0.0003\n",
      "epoch [42/100], loss:0.5958, MSE_loss:0.0003\n",
      "epoch [43/100], loss:0.6041, MSE_loss:0.0003\n",
      "epoch [44/100], loss:0.5972, MSE_loss:0.0003\n",
      "epoch [45/100], loss:0.6081, MSE_loss:0.0002\n",
      "epoch [46/100], loss:0.6037, MSE_loss:0.0002\n",
      "epoch [47/100], loss:0.5951, MSE_loss:0.0003\n",
      "epoch [48/100], loss:0.6178, MSE_loss:0.0002\n",
      "epoch [49/100], loss:0.6037, MSE_loss:0.0002\n",
      "epoch [50/100], loss:0.5939, MSE_loss:0.0003\n",
      "epoch [51/100], loss:0.5976, MSE_loss:0.0004\n",
      "epoch [52/100], loss:0.5905, MSE_loss:0.0001\n",
      "epoch [53/100], loss:0.6066, MSE_loss:0.0002\n",
      "epoch [54/100], loss:0.6115, MSE_loss:0.0002\n",
      "epoch [55/100], loss:0.6017, MSE_loss:0.0002\n",
      "epoch [56/100], loss:0.5888, MSE_loss:0.0003\n",
      "epoch [57/100], loss:0.6056, MSE_loss:0.0002\n",
      "epoch [58/100], loss:0.5965, MSE_loss:0.0002\n",
      "epoch [59/100], loss:0.6034, MSE_loss:0.0001\n",
      "epoch [60/100], loss:0.6074, MSE_loss:0.0002\n",
      "epoch [61/100], loss:0.5959, MSE_loss:0.0002\n",
      "epoch [62/100], loss:0.6032, MSE_loss:0.0002\n",
      "epoch [63/100], loss:0.5993, MSE_loss:0.0001\n",
      "epoch [64/100], loss:0.5968, MSE_loss:0.0002\n",
      "epoch [65/100], loss:0.6124, MSE_loss:0.0002\n",
      "epoch [66/100], loss:0.5897, MSE_loss:0.0001\n",
      "epoch [67/100], loss:0.5954, MSE_loss:0.0001\n",
      "epoch [68/100], loss:0.5950, MSE_loss:0.0001\n",
      "epoch [69/100], loss:0.5884, MSE_loss:0.0001\n",
      "epoch [70/100], loss:0.5961, MSE_loss:0.0001\n",
      "epoch [71/100], loss:0.6040, MSE_loss:0.0002\n",
      "epoch [72/100], loss:0.6057, MSE_loss:0.0002\n",
      "epoch [73/100], loss:0.6060, MSE_loss:0.0002\n",
      "epoch [74/100], loss:0.6094, MSE_loss:0.0002\n",
      "epoch [75/100], loss:0.6074, MSE_loss:0.0002\n",
      "epoch [76/100], loss:0.6028, MSE_loss:0.0002\n",
      "epoch [77/100], loss:0.6026, MSE_loss:0.0002\n",
      "epoch [78/100], loss:0.6042, MSE_loss:0.0001\n",
      "epoch [79/100], loss:0.6005, MSE_loss:0.0003\n",
      "epoch [80/100], loss:0.6073, MSE_loss:0.0003\n",
      "epoch [81/100], loss:0.5990, MSE_loss:0.0001\n",
      "epoch [82/100], loss:0.5945, MSE_loss:0.0002\n",
      "epoch [83/100], loss:0.5986, MSE_loss:0.0003\n",
      "epoch [84/100], loss:0.6005, MSE_loss:0.0002\n",
      "epoch [85/100], loss:0.5981, MSE_loss:0.0002\n",
      "epoch [86/100], loss:0.5942, MSE_loss:0.0001\n",
      "epoch [87/100], loss:0.5978, MSE_loss:0.0001\n",
      "epoch [88/100], loss:0.6052, MSE_loss:0.0001\n",
      "epoch [89/100], loss:0.5990, MSE_loss:0.0002\n",
      "epoch [90/100], loss:0.6077, MSE_loss:0.0002\n",
      "epoch [91/100], loss:0.5955, MSE_loss:0.0002\n",
      "epoch [92/100], loss:0.5930, MSE_loss:0.0001\n",
      "epoch [93/100], loss:0.5976, MSE_loss:0.0002\n",
      "epoch [94/100], loss:0.6022, MSE_loss:0.0002\n",
      "epoch [95/100], loss:0.6051, MSE_loss:0.0002\n",
      "epoch [96/100], loss:0.5966, MSE_loss:0.0002\n",
      "epoch [97/100], loss:0.5954, MSE_loss:0.0002\n",
      "epoch [98/100], loss:0.6066, MSE_loss:0.0001\n",
      "epoch [99/100], loss:0.5937, MSE_loss:0.0002\n",
      "epoch [100/100], loss:0.6006, MSE_loss:0.0002\n"
     ]
    }
   ],
   "source": [
    "for epoch in range(num_epochs):\n",
    "    for data in dataloader:\n",
    "        X, _ = data\n",
    "        X = X.cuda()\n",
    "        # ===================forward=====================\n",
    "        output = model(X)\n",
    "        loss = criterion(output, X)\n",
    "        MSE_loss = nn.MSELoss()(output, X)\n",
    "        # ===================backward====================\n",
    "        optimizer.zero_grad()\n",
    "        loss.backward()\n",
    "        optimizer.step()\n",
    "    # ===================log========================\n",
    "    print('epoch [{}/{}], loss:{:.4f}, MSE_loss:{:.4f}'\n",
    "        .format(epoch + 1, num_epochs, loss.item(), MSE_loss.item()))"
   ]
  },
  {
   "cell_type": "code",
   "execution_count": 89,
   "metadata": {},
   "outputs": [
    {
     "data": {
      "text/plain": [
       "(10000, 1)"
      ]
     },
     "execution_count": 89,
     "metadata": {},
     "output_type": "execute_result"
    }
   ],
   "source": [
    "with torch.no_grad():\n",
    "    reconMatrixAE = model(matrixtensor.cuda()).cpu().numpy()\n",
    "reconCostAE = np.sum(np.power(reconMatrixAE - matrix,2),axis = 1)\n",
    "reconCostAE = reconCostAE.reshape(-1, 1)\n",
    "reconCostAE.shape"
   ]
  },
  {
   "cell_type": "code",
   "execution_count": 90,
   "metadata": {},
   "outputs": [
    {
     "data": {
      "text/plain": [
       "(10000, 15)"
      ]
     },
     "execution_count": 90,
     "metadata": {},
     "output_type": "execute_result"
    }
   ],
   "source": [
    "with torch.no_grad():\n",
    "    reducedMatrixAE = model.representation(matrixtensor.cuda()).cpu().numpy()\n",
    "reducedMatrixAE.shape"
   ]
  },
  {
   "cell_type": "code",
   "execution_count": 91,
   "metadata": {},
   "outputs": [
    {
     "name": "stdout",
     "output_type": "stream",
     "text": [
      "(10000, 15)\n"
     ]
    }
   ],
   "source": [
    "from sklearn.decomposition import PCA\n",
    "pca = PCA(n_components=15)\n",
    "pca.fit(matrix)\n",
    "reducedMatrixPCA = pca.transform(matrix)\n",
    "print(reducedMatrixPCA.shape)"
   ]
  },
  {
   "cell_type": "code",
   "execution_count": 92,
   "metadata": {},
   "outputs": [
    {
     "data": {
      "text/plain": [
       "(10000, 1)"
      ]
     },
     "execution_count": 92,
     "metadata": {},
     "output_type": "execute_result"
    }
   ],
   "source": [
    "reconMatrixPCA = pca.inverse_transform(reducedMatrixPCA)\n",
    "reconCostPCA = np.sum(np.power(reconMatrixPCA - matrix,2),axis = 1)\n",
    "reconCostPCA = reconCostPCA.reshape(-1, 1)\n",
    "reconCostPCA.shape"
   ]
  },
  {
   "cell_type": "code",
   "execution_count": 93,
   "metadata": {},
   "outputs": [],
   "source": [
    "def getResults(reducedMatrix,threshHolds,iterN=5,n_com=1):\n",
    "    results = []\n",
    "    for th in threshHolds:\n",
    "        #th = thres/100\n",
    "        print(\"Threshhold: \",th)\n",
    "        outliers = anomalyDetection(reducedMatrix,th,iterN,n_com)\n",
    "\n",
    "        tpr = sum(outliers & indexBool)/sum(indexBool)\n",
    "        fpr = sum(outliers & ~indexBool)/sum(~indexBool)\n",
    "        precision = sum(outliers & indexBool)/sum(outliers)\n",
    "\n",
    "        F1 = 2 * (precision * tpr) / (precision + tpr)\n",
    "\n",
    "        res = {'Cat':'Global', 'th':th, 'TPR':tpr, 'FPR':fpr, 'F1':F1, 'Precision':precision}\n",
    "        results.append(res)\n",
    "\n",
    "    resDf = pd.DataFrame(results)    \n",
    "    return resDf"
   ]
  },
  {
   "cell_type": "code",
   "execution_count": 94,
   "metadata": {},
   "outputs": [
    {
     "name": "stdout",
     "output_type": "stream",
     "text": [
      "Threshhold:  0.01\n",
      "Iteration 1\n",
      "Iteration 2\n",
      "Iteration 3\n",
      "Iteration 4\n",
      "Iteration 5\n",
      "Convergence in 5 iterations\n",
      "Threshhold:  0.03\n",
      "Iteration 1\n",
      "Iteration 2\n",
      "Iteration 3\n",
      "Iteration 4\n",
      "Iteration 5\n",
      "Convergence in 5 iterations\n",
      "Threshhold:  0.04\n",
      "Iteration 1\n",
      "Iteration 2\n",
      "Iteration 3\n",
      "Iteration 4\n",
      "Iteration 5\n",
      "Threshhold:  0.05\n",
      "Iteration 1\n",
      "Iteration 2\n",
      "Iteration 3\n",
      "Iteration 4\n",
      "Convergence in 4 iterations\n",
      "Threshhold:  0.06\n",
      "Iteration 1\n",
      "Iteration 2\n",
      "Iteration 3\n",
      "Iteration 4\n",
      "Iteration 5\n",
      "Threshhold:  0.07\n",
      "Iteration 1\n",
      "Iteration 2\n",
      "Iteration 3\n",
      "Iteration 4\n",
      "Iteration 5\n",
      "Threshhold:  0.08\n",
      "Iteration 1\n",
      "Iteration 2\n",
      "Iteration 3\n",
      "Iteration 4\n",
      "Iteration 5\n",
      "Threshhold:  0.1\n",
      "Iteration 1\n",
      "Iteration 2\n",
      "Iteration 3\n",
      "Iteration 4\n",
      "Iteration 5\n",
      "Threshhold:  0.2\n",
      "Iteration 1\n",
      "Iteration 2\n",
      "Iteration 3\n",
      "Iteration 4\n",
      "Iteration 5\n",
      "Threshhold:  0.3\n",
      "Iteration 1\n",
      "Iteration 2\n",
      "Iteration 3\n",
      "Iteration 4\n",
      "Iteration 5\n",
      "Threshhold:  0.4\n",
      "Iteration 1\n",
      "Iteration 2\n",
      "Iteration 3\n",
      "Iteration 4\n",
      "Iteration 5\n",
      "Threshhold:  0.5\n",
      "Iteration 1\n",
      "Iteration 2\n",
      "Iteration 3\n",
      "Iteration 4\n",
      "Iteration 5\n",
      "Threshhold:  0.6\n",
      "Iteration 1\n",
      "Iteration 2\n",
      "Iteration 3\n",
      "Iteration 4\n",
      "Iteration 5\n",
      "Threshhold:  0.7\n",
      "Iteration 1\n",
      "Iteration 2\n",
      "Iteration 3\n",
      "Iteration 4\n",
      "Iteration 5\n",
      "Threshhold:  0.8\n",
      "Iteration 1\n",
      "Iteration 2\n",
      "Iteration 3\n",
      "Iteration 4\n",
      "Iteration 5\n",
      "Threshhold:  0.9\n",
      "Iteration 1\n",
      "Iteration 2\n",
      "Iteration 3\n",
      "Iteration 4\n",
      "Iteration 5\n"
     ]
    }
   ],
   "source": [
    "PCARep = getResults(reducedMatrixPCA,threshHolds,iterN=5,n_com=1)"
   ]
  },
  {
   "cell_type": "code",
   "execution_count": 95,
   "metadata": {},
   "outputs": [],
   "source": [
    "PCARep.to_csv(resultDir+AnomalyType+'_PipelinePCARep.csv', index=False)"
   ]
  },
  {
   "cell_type": "code",
   "execution_count": 96,
   "metadata": {},
   "outputs": [
    {
     "name": "stdout",
     "output_type": "stream",
     "text": [
      "Threshhold:  0.01\n",
      "Iteration 1\n",
      "Iteration 2\n",
      "Iteration 3\n",
      "Iteration 4\n",
      "Iteration 5\n",
      "Threshhold:  0.03\n",
      "Iteration 1\n",
      "Iteration 2\n",
      "Iteration 3\n",
      "Iteration 4\n",
      "Iteration 5\n",
      "Threshhold:  0.04\n",
      "Iteration 1\n",
      "Iteration 2\n",
      "Iteration 3\n",
      "Iteration 4\n",
      "Iteration 5\n",
      "Threshhold:  0.05\n",
      "Iteration 1\n",
      "Iteration 2\n",
      "Iteration 3\n",
      "Iteration 4\n",
      "Iteration 5\n",
      "Threshhold:  0.06\n",
      "Iteration 1\n",
      "Iteration 2\n",
      "Iteration 3\n",
      "Iteration 4\n",
      "Iteration 5\n",
      "Threshhold:  0.07\n",
      "Iteration 1\n",
      "Iteration 2\n",
      "Iteration 3\n",
      "Iteration 4\n",
      "Iteration 5\n",
      "Threshhold:  0.08\n",
      "Iteration 1\n",
      "Iteration 2\n",
      "Iteration 3\n",
      "Iteration 4\n",
      "Iteration 5\n",
      "Threshhold:  0.1\n",
      "Iteration 1\n",
      "Iteration 2\n",
      "Iteration 3\n",
      "Iteration 4\n",
      "Iteration 5\n",
      "Threshhold:  0.2\n",
      "Iteration 1\n",
      "Iteration 2\n",
      "Iteration 3\n",
      "Iteration 4\n",
      "Iteration 5\n",
      "Threshhold:  0.3\n",
      "Iteration 1\n",
      "Iteration 2\n",
      "Iteration 3\n",
      "Iteration 4\n",
      "Iteration 5\n",
      "Threshhold:  0.4\n",
      "Iteration 1\n",
      "Iteration 2\n",
      "Iteration 3\n",
      "Iteration 4\n",
      "Iteration 5\n",
      "Threshhold:  0.5\n",
      "Iteration 1\n",
      "Iteration 2\n",
      "Iteration 3\n",
      "Iteration 4\n",
      "Iteration 5\n",
      "Threshhold:  0.6\n",
      "Iteration 1\n",
      "Iteration 2\n",
      "Iteration 3\n",
      "Iteration 4\n",
      "Iteration 5\n",
      "Threshhold:  0.7\n",
      "Iteration 1\n",
      "Iteration 2\n",
      "Iteration 3\n",
      "Iteration 4\n",
      "Iteration 5\n",
      "Threshhold:  0.8\n",
      "Iteration 1\n",
      "Iteration 2\n",
      "Iteration 3\n",
      "Iteration 4\n",
      "Iteration 5\n",
      "Threshhold:  0.9\n",
      "Iteration 1\n",
      "Iteration 2\n",
      "Iteration 3\n",
      "Iteration 4\n",
      "Iteration 5\n"
     ]
    }
   ],
   "source": [
    "AERep = getResults(reducedMatrixAE,threshHolds,iterN=5,n_com=1)"
   ]
  },
  {
   "cell_type": "code",
   "execution_count": 97,
   "metadata": {},
   "outputs": [],
   "source": [
    "AERep.to_csv(resultDir+AnomalyType+'_PipelineAERep.csv', index=False)"
   ]
  },
  {
   "cell_type": "code",
   "execution_count": 98,
   "metadata": {
    "scrolled": true
   },
   "outputs": [
    {
     "name": "stdout",
     "output_type": "stream",
     "text": [
      "Threshhold:  0.01\n",
      "Iteration 1\n",
      "Iteration 2\n",
      "Convergence in 2 iterations\n",
      "Threshhold:  0.03\n",
      "Iteration 1\n",
      "Iteration 2\n",
      "Convergence in 2 iterations\n",
      "Threshhold:  0.04\n",
      "Iteration 1\n",
      "Iteration 2\n",
      "Convergence in 2 iterations\n",
      "Threshhold:  0.05\n",
      "Iteration 1\n",
      "Iteration 2\n",
      "Convergence in 2 iterations\n",
      "Threshhold:  0.06\n",
      "Iteration 1\n",
      "Iteration 2\n",
      "Convergence in 2 iterations\n",
      "Threshhold:  0.07\n",
      "Iteration 1\n",
      "Iteration 2\n",
      "Iteration 3\n",
      "Convergence in 3 iterations\n",
      "Threshhold:  0.08\n",
      "Iteration 1\n",
      "Iteration 2\n",
      "Iteration 3\n",
      "Convergence in 3 iterations\n",
      "Threshhold:  0.1\n",
      "Iteration 1\n",
      "Iteration 2\n",
      "Iteration 3\n",
      "Convergence in 3 iterations\n",
      "Threshhold:  0.2\n",
      "Iteration 1\n",
      "Iteration 2\n",
      "Iteration 3\n",
      "Iteration 4\n",
      "Iteration 5\n",
      "Threshhold:  0.3\n",
      "Iteration 1\n",
      "Iteration 2\n",
      "Iteration 3\n",
      "Iteration 4\n",
      "Iteration 5\n",
      "Threshhold:  0.4\n",
      "Iteration 1\n",
      "Iteration 2\n",
      "Iteration 3\n",
      "Iteration 4\n",
      "Iteration 5\n",
      "Threshhold:  0.5\n",
      "Iteration 1\n",
      "Iteration 2\n",
      "Iteration 3\n",
      "Iteration 4\n",
      "Iteration 5\n",
      "Threshhold:  0.6\n",
      "Iteration 1\n",
      "Iteration 2\n",
      "Iteration 3\n",
      "Iteration 4\n",
      "Iteration 5\n",
      "Threshhold:  0.7\n",
      "Iteration 1\n",
      "Iteration 2\n",
      "Iteration 3\n",
      "Iteration 4\n",
      "Iteration 5\n",
      "Threshhold:  0.8\n",
      "Iteration 1\n",
      "Iteration 2\n",
      "Iteration 3\n",
      "Iteration 4\n",
      "Iteration 5\n",
      "Threshhold:  0.9\n",
      "Iteration 1\n",
      "Iteration 2\n",
      "Iteration 3\n",
      "Iteration 4\n",
      "Iteration 5\n"
     ]
    }
   ],
   "source": [
    "PCARec = getResults(reconCostPCA,threshHolds,iterN=5,n_com=1)"
   ]
  },
  {
   "cell_type": "code",
   "execution_count": 99,
   "metadata": {},
   "outputs": [],
   "source": [
    "PCARec.to_csv(resultDir+AnomalyType+'_PipelinePCARec.csv', index=False)"
   ]
  },
  {
   "cell_type": "code",
   "execution_count": 100,
   "metadata": {},
   "outputs": [
    {
     "data": {
      "text/html": [
       "<div>\n",
       "<style scoped>\n",
       "    .dataframe tbody tr th:only-of-type {\n",
       "        vertical-align: middle;\n",
       "    }\n",
       "\n",
       "    .dataframe tbody tr th {\n",
       "        vertical-align: top;\n",
       "    }\n",
       "\n",
       "    .dataframe thead th {\n",
       "        text-align: right;\n",
       "    }\n",
       "</style>\n",
       "<table border=\"1\" class=\"dataframe\">\n",
       "  <thead>\n",
       "    <tr style=\"text-align: right;\">\n",
       "      <th></th>\n",
       "      <th>Cat</th>\n",
       "      <th>F1</th>\n",
       "      <th>FPR</th>\n",
       "      <th>Precision</th>\n",
       "      <th>TPR</th>\n",
       "      <th>th</th>\n",
       "    </tr>\n",
       "  </thead>\n",
       "  <tbody>\n",
       "    <tr>\n",
       "      <th>0</th>\n",
       "      <td>Global</td>\n",
       "      <td>0.030000</td>\n",
       "      <td>0.009579</td>\n",
       "      <td>0.090000</td>\n",
       "      <td>0.018</td>\n",
       "      <td>0.01</td>\n",
       "    </tr>\n",
       "    <tr>\n",
       "      <th>1</th>\n",
       "      <td>Global</td>\n",
       "      <td>0.057500</td>\n",
       "      <td>0.029158</td>\n",
       "      <td>0.076667</td>\n",
       "      <td>0.046</td>\n",
       "      <td>0.03</td>\n",
       "    </tr>\n",
       "    <tr>\n",
       "      <th>2</th>\n",
       "      <td>Global</td>\n",
       "      <td>0.073333</td>\n",
       "      <td>0.038632</td>\n",
       "      <td>0.082500</td>\n",
       "      <td>0.066</td>\n",
       "      <td>0.04</td>\n",
       "    </tr>\n",
       "    <tr>\n",
       "      <th>3</th>\n",
       "      <td>Global</td>\n",
       "      <td>0.084000</td>\n",
       "      <td>0.048211</td>\n",
       "      <td>0.084000</td>\n",
       "      <td>0.084</td>\n",
       "      <td>0.05</td>\n",
       "    </tr>\n",
       "    <tr>\n",
       "      <th>4</th>\n",
       "      <td>Global</td>\n",
       "      <td>0.089091</td>\n",
       "      <td>0.058000</td>\n",
       "      <td>0.081667</td>\n",
       "      <td>0.098</td>\n",
       "      <td>0.06</td>\n",
       "    </tr>\n",
       "    <tr>\n",
       "      <th>5</th>\n",
       "      <td>Global</td>\n",
       "      <td>0.096667</td>\n",
       "      <td>0.067579</td>\n",
       "      <td>0.082857</td>\n",
       "      <td>0.116</td>\n",
       "      <td>0.07</td>\n",
       "    </tr>\n",
       "    <tr>\n",
       "      <th>6</th>\n",
       "      <td>Global</td>\n",
       "      <td>0.095385</td>\n",
       "      <td>0.077684</td>\n",
       "      <td>0.077500</td>\n",
       "      <td>0.124</td>\n",
       "      <td>0.08</td>\n",
       "    </tr>\n",
       "    <tr>\n",
       "      <th>7</th>\n",
       "      <td>Global</td>\n",
       "      <td>0.113333</td>\n",
       "      <td>0.096316</td>\n",
       "      <td>0.085000</td>\n",
       "      <td>0.170</td>\n",
       "      <td>0.10</td>\n",
       "    </tr>\n",
       "    <tr>\n",
       "      <th>8</th>\n",
       "      <td>Global</td>\n",
       "      <td>0.141600</td>\n",
       "      <td>0.191895</td>\n",
       "      <td>0.088500</td>\n",
       "      <td>0.354</td>\n",
       "      <td>0.20</td>\n",
       "    </tr>\n",
       "    <tr>\n",
       "      <th>9</th>\n",
       "      <td>Global</td>\n",
       "      <td>0.141714</td>\n",
       "      <td>0.289684</td>\n",
       "      <td>0.082667</td>\n",
       "      <td>0.496</td>\n",
       "      <td>0.30</td>\n",
       "    </tr>\n",
       "    <tr>\n",
       "      <th>10</th>\n",
       "      <td>Global</td>\n",
       "      <td>0.127556</td>\n",
       "      <td>0.390842</td>\n",
       "      <td>0.071750</td>\n",
       "      <td>0.574</td>\n",
       "      <td>0.40</td>\n",
       "    </tr>\n",
       "    <tr>\n",
       "      <th>11</th>\n",
       "      <td>Global</td>\n",
       "      <td>0.115636</td>\n",
       "      <td>0.492842</td>\n",
       "      <td>0.063600</td>\n",
       "      <td>0.636</td>\n",
       "      <td>0.50</td>\n",
       "    </tr>\n",
       "    <tr>\n",
       "      <th>12</th>\n",
       "      <td>Global</td>\n",
       "      <td>0.105231</td>\n",
       "      <td>0.595579</td>\n",
       "      <td>0.057000</td>\n",
       "      <td>0.684</td>\n",
       "      <td>0.60</td>\n",
       "    </tr>\n",
       "    <tr>\n",
       "      <th>13</th>\n",
       "      <td>Global</td>\n",
       "      <td>0.096800</td>\n",
       "      <td>0.698632</td>\n",
       "      <td>0.051857</td>\n",
       "      <td>0.726</td>\n",
       "      <td>0.70</td>\n",
       "    </tr>\n",
       "    <tr>\n",
       "      <th>14</th>\n",
       "      <td>Global</td>\n",
       "      <td>0.093647</td>\n",
       "      <td>0.800211</td>\n",
       "      <td>0.049750</td>\n",
       "      <td>0.796</td>\n",
       "      <td>0.80</td>\n",
       "    </tr>\n",
       "  </tbody>\n",
       "</table>\n",
       "</div>"
      ],
      "text/plain": [
       "       Cat        F1       FPR  Precision    TPR    th\n",
       "0   Global  0.030000  0.009579   0.090000  0.018  0.01\n",
       "1   Global  0.057500  0.029158   0.076667  0.046  0.03\n",
       "2   Global  0.073333  0.038632   0.082500  0.066  0.04\n",
       "3   Global  0.084000  0.048211   0.084000  0.084  0.05\n",
       "4   Global  0.089091  0.058000   0.081667  0.098  0.06\n",
       "5   Global  0.096667  0.067579   0.082857  0.116  0.07\n",
       "6   Global  0.095385  0.077684   0.077500  0.124  0.08\n",
       "7   Global  0.113333  0.096316   0.085000  0.170  0.10\n",
       "8   Global  0.141600  0.191895   0.088500  0.354  0.20\n",
       "9   Global  0.141714  0.289684   0.082667  0.496  0.30\n",
       "10  Global  0.127556  0.390842   0.071750  0.574  0.40\n",
       "11  Global  0.115636  0.492842   0.063600  0.636  0.50\n",
       "12  Global  0.105231  0.595579   0.057000  0.684  0.60\n",
       "13  Global  0.096800  0.698632   0.051857  0.726  0.70\n",
       "14  Global  0.093647  0.800211   0.049750  0.796  0.80"
      ]
     },
     "execution_count": 100,
     "metadata": {},
     "output_type": "execute_result"
    }
   ],
   "source": [
    "PCARec.head(15)"
   ]
  },
  {
   "cell_type": "code",
   "execution_count": 101,
   "metadata": {},
   "outputs": [
    {
     "data": {
      "text/plain": [
       "Text(0.5,1,'Final ROC')"
      ]
     },
     "execution_count": 101,
     "metadata": {},
     "output_type": "execute_result"
    },
    {
     "data": {
      "image/png": "[encoded data removed]",
      "text/plain": [
       "<matplotlib.figure.Figure at 0x2b50751e7320>"
      ]
     },
     "metadata": {
      "needs_background": "light"
     },
     "output_type": "display_data"
    }
   ],
   "source": [
    "plt.figure(figsize=(7, 7))\n",
    "\n",
    "plt.plot(PCARec['FPR'],PCARec['TPR'], '-' ,marker = 'o' )\n",
    "    \n",
    "plt.plot(np.linspace(0,1,10),np.linspace(0,1,10), '-')\n",
    "plt.xlabel('False Positive Rate')\n",
    "plt.ylabel('True Positive Rate')\n",
    "plt.legend()\n",
    "plt.title(\"Final ROC\")\n",
    "#plt.savefig('/projects/cusp19_anomaly_detect/shared/Plots/'+city+\"FinalROC.png\")"
   ]
  },
  {
   "cell_type": "code",
   "execution_count": null,
   "metadata": {},
   "outputs": [],
   "source": []
  },
  {
   "cell_type": "code",
   "execution_count": 102,
   "metadata": {
    "scrolled": true
   },
   "outputs": [
    {
     "name": "stdout",
     "output_type": "stream",
     "text": [
      "Threshhold:  0.01\n",
      "Iteration 1\n",
      "Iteration 2\n",
      "Convergence in 2 iterations\n",
      "Threshhold:  0.03\n",
      "Iteration 1\n",
      "Iteration 2\n",
      "Convergence in 2 iterations\n",
      "Threshhold:  0.04\n",
      "Iteration 1\n",
      "Iteration 2\n",
      "Convergence in 2 iterations\n",
      "Threshhold:  0.05\n",
      "Iteration 1\n",
      "Iteration 2\n",
      "Convergence in 2 iterations\n",
      "Threshhold:  0.06\n",
      "Iteration 1\n",
      "Iteration 2\n",
      "Convergence in 2 iterations\n",
      "Threshhold:  0.07\n",
      "Iteration 1\n",
      "Iteration 2\n",
      "Iteration 3\n",
      "Convergence in 3 iterations\n",
      "Threshhold:  0.08\n",
      "Iteration 1\n",
      "Iteration 2\n",
      "Iteration 3\n",
      "Convergence in 3 iterations\n",
      "Threshhold:  0.1\n",
      "Iteration 1\n",
      "Iteration 2\n",
      "Iteration 3\n",
      "Convergence in 3 iterations\n",
      "Threshhold:  0.2\n",
      "Iteration 1\n",
      "Iteration 2\n",
      "Iteration 3\n",
      "Iteration 4\n",
      "Iteration 5\n",
      "Threshhold:  0.3\n",
      "Iteration 1\n",
      "Iteration 2\n",
      "Iteration 3\n",
      "Iteration 4\n",
      "Iteration 5\n",
      "Threshhold:  0.4\n",
      "Iteration 1\n",
      "Iteration 2\n",
      "Iteration 3\n",
      "Iteration 4\n",
      "Iteration 5\n",
      "Threshhold:  0.5\n",
      "Iteration 1\n",
      "Iteration 2\n",
      "Iteration 3\n",
      "Iteration 4\n",
      "Iteration 5\n",
      "Threshhold:  0.6\n",
      "Iteration 1\n",
      "Iteration 2\n",
      "Iteration 3\n",
      "Iteration 4\n",
      "Iteration 5\n",
      "Threshhold:  0.7\n",
      "Iteration 1\n",
      "Iteration 2\n",
      "Iteration 3\n",
      "Iteration 4\n",
      "Iteration 5\n",
      "Threshhold:  0.8\n",
      "Iteration 1\n",
      "Iteration 2\n",
      "Iteration 3\n",
      "Iteration 4\n",
      "Iteration 5\n",
      "Threshhold:  0.9\n",
      "Iteration 1\n",
      "Iteration 2\n",
      "Iteration 3\n",
      "Iteration 4\n",
      "Iteration 5\n"
     ]
    }
   ],
   "source": [
    "AERec = getResults(reconCostAE,threshHolds,iterN=5,n_com=1)"
   ]
  },
  {
   "cell_type": "code",
   "execution_count": 103,
   "metadata": {},
   "outputs": [],
   "source": [
    "AERec.to_csv(resultDir+AnomalyType+'_PipelineAERec.csv', index=False)"
   ]
  },
  {
   "cell_type": "code",
   "execution_count": 104,
   "metadata": {},
   "outputs": [
    {
     "data": {
      "text/plain": [
       "Text(0.5,1,'Final ROC')"
      ]
     },
     "execution_count": 104,
     "metadata": {},
     "output_type": "execute_result"
    },
    {
     "data": {
      "image/png": "[encoded data removed]",
      "text/plain": [
       "<matplotlib.figure.Figure at 0x2b50760ce390>"
      ]
     },
     "metadata": {
      "needs_background": "light"
     },
     "output_type": "display_data"
    }
   ],
   "source": [
    "plt.figure(figsize=(7, 7))\n",
    "\n",
    "plt.plot(AERec['FPR'],AERec['TPR'], '-' ,marker = 'o' )\n",
    "    \n",
    "plt.plot(np.linspace(0,1,10),np.linspace(0,1,10), '-')\n",
    "plt.xlabel('False Positive Rate')\n",
    "plt.ylabel('True Positive Rate')\n",
    "plt.legend()\n",
    "plt.title(\"Final ROC\")\n",
    "#plt.savefig('/projects/cusp19_anomaly_detect/shared/Plots/'+city+\"FinalROC.png\")"
   ]
  },
  {
   "cell_type": "code",
   "execution_count": null,
   "metadata": {},
   "outputs": [],
   "source": []
  },
  {
   "cell_type": "code",
   "execution_count": null,
   "metadata": {},
   "outputs": [],
   "source": []
  }
 ],
 "metadata": {
  "kernelspec": {
   "display_name": "Python 3",
   "language": "python",
   "name": "python3"
  },
  "language_info": {
   "codemirror_mode": {
    "name": "ipython",
    "version": 3
   },
   "file_extension": ".py",
   "mimetype": "text/x-python",
   "name": "python",
   "nbconvert_exporter": "python",
   "pygments_lexer": "ipython3",
   "version": "3.7.3"
  }
 },
 "nbformat": 4,
 "nbformat_minor": 2
}
