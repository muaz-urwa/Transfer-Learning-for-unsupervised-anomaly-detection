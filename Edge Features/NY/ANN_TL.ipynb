{
 "cells": [
  {
   "cell_type": "code",
   "execution_count": 1,
   "metadata": {},
   "outputs": [],
   "source": [
    "import pandas as pd\n",
    "import numpy as np\n",
    "import torch\n",
    "from torch_geometric.data import Data\n",
    "\n",
    "import torch\n",
    "import torch.nn.functional as F\n",
    "import torch.nn as nn\n",
    "from torch_geometric.nn import GCNConv\n",
    "import torch.utils.data\n",
    "\n",
    "from sklearn.mixture import GaussianMixture \n",
    "from scipy import signal\n",
    "\n",
    "import matplotlib.pyplot as plt\n",
    "%matplotlib inline"
   ]
  },
  {
   "cell_type": "code",
   "execution_count": 2,
   "metadata": {},
   "outputs": [],
   "source": [
    "def loadData(file):\n",
    "    data = pd.read_csv(file,infer_datetime_format=True, parse_dates=['Date'])\n",
    "    print('Raw shape: ',data.shape)\n",
    "    data['date'] = data.Date #pd.to_datetime(data.date)\n",
    "    data = data[ (data.Date < pd.to_datetime('2019')) & (data.Date > pd.to_datetime('2017-07')) ]\n",
    "    print('Days: ',len(set(data.date)))\n",
    "    return data"
   ]
  },
  {
   "cell_type": "code",
   "execution_count": 3,
   "metadata": {},
   "outputs": [],
   "source": [
    "def getTimeSeries(df):\n",
    "    table = pd.pivot_table(df, values='amount', index=['date'],\n",
    "                    columns=['start_id','end_id'], aggfunc=np.sum, fill_value=0)\n",
    "    return table,table.index.values"
   ]
  },
  {
   "cell_type": "code",
   "execution_count": 4,
   "metadata": {},
   "outputs": [],
   "source": [
    "def getMatrixData():\n",
    "    file = dataDir + dataFile\n",
    "    dataRaw = loadData(file)\n",
    "    dataTs,dates = getTimeSeries(dataRaw)\n",
    "    matrix = np.load('communityAggregatedMatrix.npy')\n",
    "    print('Matrix Shape: ',matrix.shape)\n",
    "    return matrix,dates"
   ]
  },
  {
   "cell_type": "code",
   "execution_count": 5,
   "metadata": {},
   "outputs": [],
   "source": [
    "dataDir = '/home/urwa/Documents/Projects/AnomalyDetection/Pipeline/data/'\n",
    "dataFile = 'NewYorkEdgeDatewiseAggregated.csv'\n",
    "#events_data =dataDir+'TaipeiEvents.csv'"
   ]
  },
  {
   "cell_type": "code",
   "execution_count": 6,
   "metadata": {},
   "outputs": [
    {
     "name": "stdout",
     "output_type": "stream",
     "text": [
      "Raw shape:  (21380943, 4)\n",
      "Days:  548\n",
      "Matrix Shape:  (548, 576)\n"
     ]
    },
    {
     "data": {
      "text/plain": [
       "(548, 576)"
      ]
     },
     "execution_count": 6,
     "metadata": {},
     "output_type": "execute_result"
    }
   ],
   "source": [
    "#matrix = np.stack((dataOut.values, dataIn.values),-1)\n",
    "matrix,dates = getMatrixData()\n",
    "matrix = matrix.astype(float)\n",
    "matrix.shape"
   ]
  },
  {
   "cell_type": "code",
   "execution_count": 7,
   "metadata": {},
   "outputs": [
    {
     "data": {
      "text/plain": [
       "(numpy.datetime64('2017-07-02T00:00:00.000000000'),\n",
       " numpy.datetime64('2018-12-31T00:00:00.000000000'))"
      ]
     },
     "execution_count": 7,
     "metadata": {},
     "output_type": "execute_result"
    }
   ],
   "source": [
    "min(dates), max(dates)"
   ]
  },
  {
   "cell_type": "code",
   "execution_count": 110,
   "metadata": {},
   "outputs": [],
   "source": [
    "# matrix = signal.detrend(matrix, axis =1)"
   ]
  },
  {
   "cell_type": "code",
   "execution_count": 111,
   "metadata": {},
   "outputs": [],
   "source": [
    "# for i in range(matrix.shape[1]):\n",
    "#         matrix[:, i] = (matrix[:, i] - np.mean(matrix[:, i])) / (np.std(matrix[:, i]))"
   ]
  },
  {
   "cell_type": "code",
   "execution_count": 112,
   "metadata": {},
   "outputs": [],
   "source": [
    "for i in range(matrix.shape[0]):\n",
    "        matrix[i,:] = (matrix[i,:] - np.mean(matrix[i,:])) / (np.std(matrix[i,:]))"
   ]
  },
  {
   "cell_type": "code",
   "execution_count": 113,
   "metadata": {},
   "outputs": [],
   "source": [
    "# stations = list(set(dataRaw.start_id))\n",
    "# n= len(stations)\n",
    "# edge_index = [[a//n,a%n] for a in range(n*n)]\n",
    "# edge_index = torch.tensor(edge_index, dtype=torch.long)"
   ]
  },
  {
   "cell_type": "code",
   "execution_count": 114,
   "metadata": {},
   "outputs": [
    {
     "data": {
      "text/plain": [
       "array([1, 0, 0, 0, 0, 0, 1, 1, 0, 0])"
      ]
     },
     "execution_count": 114,
     "metadata": {},
     "output_type": "execute_result"
    }
   ],
   "source": [
    "#dates = list(dataOut.index)\n",
    "DOW = list(pd.to_datetime(dates).dayofweek)\n",
    "DOW = ((np.array(DOW) == 5) | (np.array(DOW) == 6)).astype(int)\n",
    "DOW[:10]"
   ]
  },
  {
   "cell_type": "code",
   "execution_count": 115,
   "metadata": {},
   "outputs": [],
   "source": [
    "class Net(torch.nn.Module):\n",
    "    def __init__(self):\n",
    "        super(Net, self).__init__()\n",
    "        self.linear1 = nn.Linear(input_dim, hiddenDim[0])\n",
    "        self.linear2 = nn.Linear(hiddenDim[0], hiddenDim[1])\n",
    "        self.linear3 = nn.Linear(hiddenDim[1], hiddenDim[2])\n",
    "        self.linear4 = nn.Linear(hiddenDim[2], n_classes)\n",
    "\n",
    "        self.init_weights(self.linear1)\n",
    "        self.init_weights(self.linear2)\n",
    "        self.init_weights(self.linear3)\n",
    "        self.init_weights(self.linear4)\n",
    "        \n",
    "    def forward(self, x):\n",
    "        #x, edge_index = data.x, data.edge_index\n",
    "        x = self.linear1(x)\n",
    "        x = F.relu(x)\n",
    "        x = F.dropout(x, training=self.training)\n",
    "        x = self.linear2(x)\n",
    "        x = F.relu(x)\n",
    "        x = self.linear3(x)\n",
    "        x = F.relu(x)\n",
    "        x = F.dropout(x, training=self.training)\n",
    "        x = self.linear4(x)\n",
    "        return F.log_softmax(x, dim=1)\n",
    "        \n",
    "    def init_weights(self,m):\n",
    "        if type(m) == nn.Linear:\n",
    "            nn.init.xavier_uniform_(m.weight)\n",
    "            m.bias.data.fill_(0.01)\n",
    "    \n",
    "    def representation(self, x):\n",
    "        x = self.linear1(x)\n",
    "        x = F.relu(x)\n",
    "        x = F.dropout(x, training=self.training)\n",
    "        x = self.linear2(x)\n",
    "        x = F.relu(x)\n",
    "        x = self.linear3(x)\n",
    "        return x\n",
    "            "
   ]
  },
  {
   "cell_type": "code",
   "execution_count": 116,
   "metadata": {},
   "outputs": [],
   "source": [
    "matrixtensor = torch.tensor(matrix).float()"
   ]
  },
  {
   "cell_type": "code",
   "execution_count": 117,
   "metadata": {},
   "outputs": [],
   "source": [
    "input_dim = matrix.shape[1]"
   ]
  },
  {
   "cell_type": "code",
   "execution_count": 118,
   "metadata": {},
   "outputs": [],
   "source": [
    "hiddenDim = [500,100,20]\n",
    "n_classes = 2\n",
    "\n",
    "learning_rate=0.001\n",
    "batch_size = 50\n",
    "num_epochs = 200"
   ]
  },
  {
   "cell_type": "code",
   "execution_count": 119,
   "metadata": {},
   "outputs": [],
   "source": [
    "Y = torch.tensor(np.array(DOW), dtype=torch.long)"
   ]
  },
  {
   "cell_type": "code",
   "execution_count": 120,
   "metadata": {},
   "outputs": [
    {
     "data": {
      "text/plain": [
       "torch.Size([548, 576])"
      ]
     },
     "execution_count": 120,
     "metadata": {},
     "output_type": "execute_result"
    }
   ],
   "source": [
    "matrixtensor.shape"
   ]
  },
  {
   "cell_type": "code",
   "execution_count": 121,
   "metadata": {},
   "outputs": [],
   "source": [
    "data_tensor = torch.utils.data.TensorDataset(matrixtensor, Y) \n",
    "dataloader = torch.utils.data.DataLoader(dataset = data_tensor, batch_size = batch_size, shuffle = True)"
   ]
  },
  {
   "cell_type": "code",
   "execution_count": 122,
   "metadata": {},
   "outputs": [],
   "source": [
    "device = torch.device('cuda' if torch.cuda.is_available() else 'cpu')\n",
    "#device = torch.device('cpu')\n",
    "model = Net().to(device)\n",
    "#data = dataset[0].to(device)\n",
    "optimizer = torch.optim.Adam(model.parameters(), lr=0.0001, weight_decay=5e-4)\n",
    "criterion = nn.CrossEntropyLoss()"
   ]
  },
  {
   "cell_type": "code",
   "execution_count": 123,
   "metadata": {
    "scrolled": true
   },
   "outputs": [
    {
     "name": "stdout",
     "output_type": "stream",
     "text": [
      "epoch [1/200], loss:0.7595\n",
      "epoch [2/200], loss:0.6322\n",
      "epoch [3/200], loss:0.6193\n",
      "epoch [4/200], loss:0.4831\n",
      "epoch [5/200], loss:0.5302\n",
      "epoch [6/200], loss:0.4459\n",
      "epoch [7/200], loss:0.4605\n",
      "epoch [8/200], loss:0.5711\n",
      "epoch [9/200], loss:0.4906\n",
      "epoch [10/200], loss:0.3328\n",
      "epoch [11/200], loss:0.2923\n",
      "epoch [12/200], loss:0.3878\n",
      "epoch [13/200], loss:0.2618\n",
      "epoch [14/200], loss:0.1971\n",
      "epoch [15/200], loss:0.2940\n",
      "epoch [16/200], loss:0.2959\n",
      "epoch [17/200], loss:0.2709\n",
      "epoch [18/200], loss:0.2436\n",
      "epoch [19/200], loss:0.2154\n",
      "epoch [20/200], loss:0.2034\n",
      "epoch [21/200], loss:0.2511\n",
      "epoch [22/200], loss:0.2609\n",
      "epoch [23/200], loss:0.2260\n",
      "epoch [24/200], loss:0.2310\n",
      "epoch [25/200], loss:0.2219\n",
      "epoch [26/200], loss:0.1502\n",
      "epoch [27/200], loss:0.1853\n",
      "epoch [28/200], loss:0.1432\n",
      "epoch [29/200], loss:0.0934\n",
      "epoch [30/200], loss:0.1392\n",
      "epoch [31/200], loss:0.1720\n",
      "epoch [32/200], loss:0.1710\n",
      "epoch [33/200], loss:0.0642\n",
      "epoch [34/200], loss:0.2385\n",
      "epoch [35/200], loss:0.1486\n",
      "epoch [36/200], loss:0.1661\n",
      "epoch [37/200], loss:0.1049\n",
      "epoch [38/200], loss:0.2525\n",
      "epoch [39/200], loss:0.2875\n",
      "epoch [40/200], loss:0.1344\n",
      "epoch [41/200], loss:0.1100\n",
      "epoch [42/200], loss:0.1399\n",
      "epoch [43/200], loss:0.2232\n",
      "epoch [44/200], loss:0.1392\n",
      "epoch [45/200], loss:0.1513\n",
      "epoch [46/200], loss:0.1498\n",
      "epoch [47/200], loss:0.1630\n",
      "epoch [48/200], loss:0.0876\n",
      "epoch [49/200], loss:0.1354\n",
      "epoch [50/200], loss:0.1247\n",
      "epoch [51/200], loss:0.1376\n",
      "epoch [52/200], loss:0.1152\n",
      "epoch [53/200], loss:0.1728\n",
      "epoch [54/200], loss:0.0849\n",
      "epoch [55/200], loss:0.1346\n",
      "epoch [56/200], loss:0.1422\n",
      "epoch [57/200], loss:0.0963\n",
      "epoch [58/200], loss:0.2041\n",
      "epoch [59/200], loss:0.2054\n",
      "epoch [60/200], loss:0.1110\n",
      "epoch [61/200], loss:0.1309\n",
      "epoch [62/200], loss:0.0541\n",
      "epoch [63/200], loss:0.2362\n",
      "epoch [64/200], loss:0.1878\n",
      "epoch [65/200], loss:0.1634\n",
      "epoch [66/200], loss:0.1174\n",
      "epoch [67/200], loss:0.0932\n",
      "epoch [68/200], loss:0.1039\n",
      "epoch [69/200], loss:0.0538\n",
      "epoch [70/200], loss:0.1396\n",
      "epoch [71/200], loss:0.0821\n",
      "epoch [72/200], loss:0.1344\n",
      "epoch [73/200], loss:0.0876\n",
      "epoch [74/200], loss:0.0865\n",
      "epoch [75/200], loss:0.1657\n",
      "epoch [76/200], loss:0.0674\n",
      "epoch [77/200], loss:0.2095\n",
      "epoch [78/200], loss:0.0422\n",
      "epoch [79/200], loss:0.0901\n",
      "epoch [80/200], loss:0.1608\n",
      "epoch [81/200], loss:0.2344\n",
      "epoch [82/200], loss:0.0771\n",
      "epoch [83/200], loss:0.1122\n",
      "epoch [84/200], loss:0.1028\n",
      "epoch [85/200], loss:0.2969\n",
      "epoch [86/200], loss:0.1432\n",
      "epoch [87/200], loss:0.1370\n",
      "epoch [88/200], loss:0.1403\n",
      "epoch [89/200], loss:0.1414\n",
      "epoch [90/200], loss:0.0368\n",
      "epoch [91/200], loss:0.0912\n",
      "epoch [92/200], loss:0.0787\n",
      "epoch [93/200], loss:0.0977\n",
      "epoch [94/200], loss:0.1986\n",
      "epoch [95/200], loss:0.1922\n",
      "epoch [96/200], loss:0.0972\n",
      "epoch [97/200], loss:0.1215\n",
      "epoch [98/200], loss:0.0555\n",
      "epoch [99/200], loss:0.0817\n",
      "epoch [100/200], loss:0.1003\n",
      "epoch [101/200], loss:0.2056\n",
      "epoch [102/200], loss:0.0901\n",
      "epoch [103/200], loss:0.1769\n",
      "epoch [104/200], loss:0.1902\n",
      "epoch [105/200], loss:0.0821\n",
      "epoch [106/200], loss:0.0992\n",
      "epoch [107/200], loss:0.1177\n",
      "epoch [108/200], loss:0.0698\n",
      "epoch [109/200], loss:0.1356\n",
      "epoch [110/200], loss:0.0838\n",
      "epoch [111/200], loss:0.0854\n",
      "epoch [112/200], loss:0.2736\n",
      "epoch [113/200], loss:0.0499\n",
      "epoch [114/200], loss:0.0622\n",
      "epoch [115/200], loss:0.1753\n",
      "epoch [116/200], loss:0.0730\n",
      "epoch [117/200], loss:0.1427\n",
      "epoch [118/200], loss:0.1132\n",
      "epoch [119/200], loss:0.0786\n",
      "epoch [120/200], loss:0.0813\n",
      "epoch [121/200], loss:0.1065\n",
      "epoch [122/200], loss:0.1347\n",
      "epoch [123/200], loss:0.1975\n",
      "epoch [124/200], loss:0.0697\n",
      "epoch [125/200], loss:0.1163\n",
      "epoch [126/200], loss:0.1866\n",
      "epoch [127/200], loss:0.0865\n",
      "epoch [128/200], loss:0.0476\n",
      "epoch [129/200], loss:0.1587\n",
      "epoch [130/200], loss:0.1197\n",
      "epoch [131/200], loss:0.2724\n",
      "epoch [132/200], loss:0.1221\n",
      "epoch [133/200], loss:0.0433\n",
      "epoch [134/200], loss:0.1028\n",
      "epoch [135/200], loss:0.1024\n",
      "epoch [136/200], loss:0.1426\n",
      "epoch [137/200], loss:0.0964\n",
      "epoch [138/200], loss:0.1064\n",
      "epoch [139/200], loss:0.0738\n",
      "epoch [140/200], loss:0.0689\n",
      "epoch [141/200], loss:0.0643\n",
      "epoch [142/200], loss:0.0835\n",
      "epoch [143/200], loss:0.1497\n",
      "epoch [144/200], loss:0.0768\n",
      "epoch [145/200], loss:0.1293\n",
      "epoch [146/200], loss:0.0613\n",
      "epoch [147/200], loss:0.0925\n",
      "epoch [148/200], loss:0.0783\n",
      "epoch [149/200], loss:0.2386\n",
      "epoch [150/200], loss:0.0701\n",
      "epoch [151/200], loss:0.0966\n",
      "epoch [152/200], loss:0.0764\n",
      "epoch [153/200], loss:0.0978\n",
      "epoch [154/200], loss:0.0855\n",
      "epoch [155/200], loss:0.1109\n",
      "epoch [156/200], loss:0.1408\n",
      "epoch [157/200], loss:0.2034\n",
      "epoch [158/200], loss:0.0816\n",
      "epoch [159/200], loss:0.0543\n",
      "epoch [160/200], loss:0.1262\n",
      "epoch [161/200], loss:0.0943\n",
      "epoch [162/200], loss:0.0547\n",
      "epoch [163/200], loss:0.0918\n",
      "epoch [164/200], loss:0.0625\n",
      "epoch [165/200], loss:0.0640\n",
      "epoch [166/200], loss:0.1342\n",
      "epoch [167/200], loss:0.0771\n",
      "epoch [168/200], loss:0.0598\n",
      "epoch [169/200], loss:0.0592\n",
      "epoch [170/200], loss:0.0580\n",
      "epoch [171/200], loss:0.1293\n",
      "epoch [172/200], loss:0.1246\n",
      "epoch [173/200], loss:0.0841\n",
      "epoch [174/200], loss:0.1093\n",
      "epoch [175/200], loss:0.0673\n",
      "epoch [176/200], loss:0.0562\n",
      "epoch [177/200], loss:0.0768\n",
      "epoch [178/200], loss:0.0432\n",
      "epoch [179/200], loss:0.0777\n",
      "epoch [180/200], loss:0.1027\n",
      "epoch [181/200], loss:0.0956\n",
      "epoch [182/200], loss:0.1356\n",
      "epoch [183/200], loss:0.0820\n",
      "epoch [184/200], loss:0.0315\n",
      "epoch [185/200], loss:0.0287\n",
      "epoch [186/200], loss:0.0324\n",
      "epoch [187/200], loss:0.0534\n",
      "epoch [188/200], loss:0.0740\n",
      "epoch [189/200], loss:0.0965\n",
      "epoch [190/200], loss:0.0604\n",
      "epoch [191/200], loss:0.1287\n",
      "epoch [192/200], loss:0.0476\n",
      "epoch [193/200], loss:0.0776\n",
      "epoch [194/200], loss:0.1296\n",
      "epoch [195/200], loss:0.0088\n",
      "epoch [196/200], loss:0.0394\n",
      "epoch [197/200], loss:0.0977\n",
      "epoch [198/200], loss:0.1043\n",
      "epoch [199/200], loss:0.0811\n",
      "epoch [200/200], loss:0.1109\n"
     ]
    }
   ],
   "source": [
    "for epoch in range(num_epochs):\n",
    "    for data in dataloader:\n",
    "        X, y = data\n",
    "        X = X.cuda()\n",
    "        y = y.cuda()\n",
    "#         print(X.shape)\n",
    "#         print(y.shape)\n",
    "        # ===================forward=====================\n",
    "        output = model(X)\n",
    "        #print(output.shape)\n",
    "        loss = criterion(output, y)\n",
    "        #MSE_loss = nn.MSELoss()(output, y)\n",
    "        # ===================backward====================\n",
    "        optimizer.zero_grad()\n",
    "        loss.backward()\n",
    "        optimizer.step()\n",
    "    # ===================log========================\n",
    "    print('epoch [{}/{}], loss:{:.4f}'\n",
    "        .format(epoch + 1, num_epochs, loss.item()))"
   ]
  },
  {
   "cell_type": "code",
   "execution_count": 124,
   "metadata": {},
   "outputs": [
    {
     "name": "stdout",
     "output_type": "stream",
     "text": [
      "Accuracy: 0.9982\n"
     ]
    }
   ],
   "source": [
    "model.eval()\n",
    "with torch.no_grad():\n",
    "    y = np.array(DOW)\n",
    "    predList = model(matrixtensor.cuda()).cpu().numpy()\n",
    "    pred = np.argmax(predList,axis=1)    \n",
    "    print('Accuracy: {:.4f}'.format( np.sum(pred == y) / pred.shape[0] ))"
   ]
  },
  {
   "cell_type": "code",
   "execution_count": 125,
   "metadata": {},
   "outputs": [
    {
     "data": {
      "text/plain": [
       "(548, 20)"
      ]
     },
     "execution_count": 125,
     "metadata": {},
     "output_type": "execute_result"
    }
   ],
   "source": [
    "with torch.no_grad():\n",
    "    representation = model.representation(matrixtensor.cuda()).cpu().numpy()\n",
    "representation.shape"
   ]
  },
  {
   "cell_type": "code",
   "execution_count": 8,
   "metadata": {},
   "outputs": [],
   "source": [
    "# import events data\n",
    "events_data =dataDir+'NewYorkEvents.csv'\n",
    "df_events = pd.read_csv(events_data, encoding = \"ISO-8859-1\", parse_dates=['Date'], infer_datetime_format=True)\n"
   ]
  },
  {
   "cell_type": "code",
   "execution_count": 9,
   "metadata": {},
   "outputs": [
    {
     "data": {
      "text/html": [
       "<div>\n",
       "<style scoped>\n",
       "    .dataframe tbody tr th:only-of-type {\n",
       "        vertical-align: middle;\n",
       "    }\n",
       "\n",
       "    .dataframe tbody tr th {\n",
       "        vertical-align: top;\n",
       "    }\n",
       "\n",
       "    .dataframe thead th {\n",
       "        text-align: right;\n",
       "    }\n",
       "</style>\n",
       "<table border=\"1\" class=\"dataframe\">\n",
       "  <thead>\n",
       "    <tr style=\"text-align: right;\">\n",
       "      <th></th>\n",
       "      <th>Type</th>\n",
       "      <th>Name</th>\n",
       "      <th>Date</th>\n",
       "    </tr>\n",
       "  </thead>\n",
       "  <tbody>\n",
       "    <tr>\n",
       "      <th>0</th>\n",
       "      <td>National Holiday</td>\n",
       "      <td>New Year's Day</td>\n",
       "      <td>2016-01-01</td>\n",
       "    </tr>\n",
       "    <tr>\n",
       "      <th>1</th>\n",
       "      <td>National Holiday</td>\n",
       "      <td>Martin Luther King, Jr. Day</td>\n",
       "      <td>2016-01-18</td>\n",
       "    </tr>\n",
       "    <tr>\n",
       "      <th>2</th>\n",
       "      <td>National Holiday</td>\n",
       "      <td>Presidents' Day</td>\n",
       "      <td>2016-02-15</td>\n",
       "    </tr>\n",
       "    <tr>\n",
       "      <th>3</th>\n",
       "      <td>National Holiday</td>\n",
       "      <td>Memorial Day</td>\n",
       "      <td>2016-05-30</td>\n",
       "    </tr>\n",
       "    <tr>\n",
       "      <th>4</th>\n",
       "      <td>National Holiday</td>\n",
       "      <td>Independence Day</td>\n",
       "      <td>2016-07-04</td>\n",
       "    </tr>\n",
       "  </tbody>\n",
       "</table>\n",
       "</div>"
      ],
      "text/plain": [
       "               Type                         Name       Date\n",
       "0  National Holiday               New Year's Day 2016-01-01\n",
       "1  National Holiday  Martin Luther King, Jr. Day 2016-01-18\n",
       "2  National Holiday              Presidents' Day 2016-02-15\n",
       "3  National Holiday                 Memorial Day 2016-05-30\n",
       "4  National Holiday             Independence Day 2016-07-04"
      ]
     },
     "execution_count": 9,
     "metadata": {},
     "output_type": "execute_result"
    }
   ],
   "source": [
    "df_events.head()"
   ]
  },
  {
   "cell_type": "code",
   "execution_count": 10,
   "metadata": {},
   "outputs": [
    {
     "data": {
      "text/plain": [
       "41"
      ]
     },
     "execution_count": 10,
     "metadata": {},
     "output_type": "execute_result"
    }
   ],
   "source": [
    "holidayDates = df_events[df_events.Type == 'National Holiday'].Date\n",
    "len(holidayDates)"
   ]
  },
  {
   "cell_type": "code",
   "execution_count": 12,
   "metadata": {},
   "outputs": [],
   "source": [
    "holidayDates = [str(d.date()) for d in holidayDates]\n",
    "dates = pd.to_datetime(dates)\n",
    "dates = [str(d.date()) for d in dates]"
   ]
  },
  {
   "cell_type": "code",
   "execution_count": 13,
   "metadata": {},
   "outputs": [],
   "source": [
    "anomalyIndex = [i for i,d in enumerate(dates) if d in holidayDates]\n",
    "len(anomalyIndex)\n",
    "indexBool = np.array([i in anomalyIndex for i in list(range(matrix.shape[0]))])"
   ]
  },
  {
   "cell_type": "code",
   "execution_count": 15,
   "metadata": {},
   "outputs": [
    {
     "data": {
      "text/plain": [
       "(16, 16)"
      ]
     },
     "execution_count": 15,
     "metadata": {},
     "output_type": "execute_result"
    }
   ],
   "source": [
    "sum(indexBool), len(anomalyIndex)"
   ]
  },
  {
   "cell_type": "code",
   "execution_count": 131,
   "metadata": {},
   "outputs": [],
   "source": [
    "def anomalyDetection(y,pval = 0.2,iterN=5,n_com=1):\n",
    "    #index of regular (non-outlier points)\n",
    "    #rind=y[:,0]>-10 \n",
    "    rind = np.array(range(y.shape[0]))\n",
    "    \n",
    "    #clustering model\n",
    "    gm=GaussianMixture(n_components=n_com, n_init=100, max_iter=1000,random_state=0) \n",
    "    for i in range(iterN): #iterate\n",
    "        print('Iteration {}'.format(i+1))  \n",
    "        clustering=gm.fit(y[rind,:]) #fit EM clustering model excluding outliers\n",
    "        l=clustering.score_samples(y) #estimate likelihood for each point\n",
    "        Lthres=sorted(l)[int(len(l)*pval)] #anomaly threshold\n",
    "        rind0=0+rind\n",
    "        rind=l>Lthres #non-anomalous points\n",
    "        if(sum(rind)==0):\n",
    "            print('All anomalies in {} iterations'.format(i+1))\n",
    "            break\n",
    "        if all(rind==rind0):\n",
    "            print('Convergence in {} iterations'.format(i+1))\n",
    "            break\n",
    "    return l < Lthres"
   ]
  },
  {
   "cell_type": "code",
   "execution_count": 132,
   "metadata": {},
   "outputs": [],
   "source": [
    "def getResults(reducedMatrix,threshHolds,iterN=5,n_com=1):\n",
    "    results = []\n",
    "    for th in threshHolds:\n",
    "        #th = thres/100\n",
    "        print(\"Threshhold: \",th)\n",
    "        outliers = anomalyDetection(reducedMatrix,th,iterN,n_com)\n",
    "\n",
    "        tpr = sum(outliers & indexBool)/sum(indexBool)\n",
    "        fpr = sum(outliers & ~indexBool)/sum(~indexBool)\n",
    "        precision = sum(outliers & indexBool)/sum(outliers)\n",
    "\n",
    "        F1 = 2 * (precision * tpr) / (precision + tpr)\n",
    "\n",
    "        res = {'Cat':'Global', 'th':th, 'TPR':tpr, 'FPR':fpr, 'F1':F1, 'Precision':precision}\n",
    "        results.append(res)\n",
    "\n",
    "    resDf = pd.DataFrame(results)    \n",
    "    return resDf"
   ]
  },
  {
   "cell_type": "code",
   "execution_count": 133,
   "metadata": {
    "scrolled": true
   },
   "outputs": [],
   "source": [
    "# f,ax = plt.subplots(representation.shape[1],1,figsize=(20, 60))\n",
    "# for i in range(representation.shape[1]):\n",
    "#     ax[i].plot(pd.to_datetime(dates), representation[:,i])\n",
    "#     ax[i].plot(pd.to_datetime(dates), signal.detrend(representation[:,i]))"
   ]
  },
  {
   "cell_type": "code",
   "execution_count": null,
   "metadata": {},
   "outputs": [],
   "source": []
  },
  {
   "cell_type": "code",
   "execution_count": 134,
   "metadata": {},
   "outputs": [],
   "source": [
    "threshHolds = [0.01, 0.03, 0.04, 0.05, 0.06, 0.07, 0.08, 0.1, 0.2, 0.3, 0.4, 0.5, 0.6, 0.7, 0.8, 0.9]"
   ]
  },
  {
   "cell_type": "code",
   "execution_count": 135,
   "metadata": {
    "scrolled": true
   },
   "outputs": [
    {
     "name": "stdout",
     "output_type": "stream",
     "text": [
      "Threshhold:  0.01\n",
      "Iteration 1\n",
      "Iteration 2\n",
      "Convergence in 2 iterations\n",
      "Threshhold:  0.03\n",
      "Iteration 1\n",
      "Iteration 2\n",
      "Iteration 3\n",
      "Convergence in 3 iterations\n",
      "Threshhold:  0.04\n",
      "Iteration 1\n",
      "Iteration 2\n",
      "Iteration 3\n",
      "Convergence in 3 iterations\n",
      "Threshhold:  0.05\n",
      "Iteration 1\n",
      "Iteration 2\n",
      "Iteration 3\n",
      "Iteration 4\n",
      "Convergence in 4 iterations\n",
      "Threshhold:  0.06\n",
      "Iteration 1\n",
      "Iteration 2\n",
      "Iteration 3\n",
      "Convergence in 3 iterations\n",
      "Threshhold:  0.07\n",
      "Iteration 1\n",
      "Iteration 2\n",
      "Iteration 3\n",
      "Iteration 4\n",
      "Convergence in 4 iterations\n",
      "Threshhold:  0.08\n",
      "Iteration 1\n",
      "Iteration 2\n",
      "Iteration 3\n",
      "Convergence in 3 iterations\n",
      "Threshhold:  0.1\n",
      "Iteration 1\n",
      "Iteration 2\n",
      "Iteration 3\n",
      "Convergence in 3 iterations\n",
      "Threshhold:  0.2\n",
      "Iteration 1\n",
      "Iteration 2\n",
      "Iteration 3\n",
      "Iteration 4\n",
      "Iteration 5\n",
      "Threshhold:  0.3\n",
      "Iteration 1\n",
      "Iteration 2\n",
      "Iteration 3\n",
      "Iteration 4\n",
      "Iteration 5\n",
      "Threshhold:  0.4\n",
      "Iteration 1\n",
      "Iteration 2\n",
      "Iteration 3\n",
      "Iteration 4\n",
      "Iteration 5\n",
      "Threshhold:  0.5\n",
      "Iteration 1\n",
      "Iteration 2\n",
      "Iteration 3\n",
      "Iteration 4\n",
      "Iteration 5\n",
      "Threshhold:  0.6\n",
      "Iteration 1\n",
      "Iteration 2\n",
      "Iteration 3\n",
      "Iteration 4\n",
      "Iteration 5\n",
      "Threshhold:  0.7\n",
      "Iteration 1\n",
      "Iteration 2\n",
      "Iteration 3\n",
      "Iteration 4\n",
      "Iteration 5\n",
      "Threshhold:  0.8\n",
      "Iteration 1\n",
      "Iteration 2\n",
      "Iteration 3\n",
      "Iteration 4\n",
      "Iteration 5\n",
      "Threshhold:  0.9\n",
      "Iteration 1\n",
      "Iteration 2\n",
      "Iteration 3\n",
      "Iteration 4\n",
      "Iteration 5\n",
      "Convergence in 5 iterations\n"
     ]
    }
   ],
   "source": [
    "Res1 = getResults(representation,threshHolds,iterN=5,n_com=1)"
   ]
  },
  {
   "cell_type": "code",
   "execution_count": 136,
   "metadata": {},
   "outputs": [
    {
     "data": {
      "text/html": [
       "<div>\n",
       "<style scoped>\n",
       "    .dataframe tbody tr th:only-of-type {\n",
       "        vertical-align: middle;\n",
       "    }\n",
       "\n",
       "    .dataframe tbody tr th {\n",
       "        vertical-align: top;\n",
       "    }\n",
       "\n",
       "    .dataframe thead th {\n",
       "        text-align: right;\n",
       "    }\n",
       "</style>\n",
       "<table border=\"1\" class=\"dataframe\">\n",
       "  <thead>\n",
       "    <tr style=\"text-align: right;\">\n",
       "      <th></th>\n",
       "      <th>Cat</th>\n",
       "      <th>F1</th>\n",
       "      <th>FPR</th>\n",
       "      <th>Precision</th>\n",
       "      <th>TPR</th>\n",
       "      <th>th</th>\n",
       "    </tr>\n",
       "  </thead>\n",
       "  <tbody>\n",
       "    <tr>\n",
       "      <th>0</th>\n",
       "      <td>Global</td>\n",
       "      <td>0.380952</td>\n",
       "      <td>0.001880</td>\n",
       "      <td>0.800000</td>\n",
       "      <td>0.2500</td>\n",
       "      <td>0.01</td>\n",
       "    </tr>\n",
       "    <tr>\n",
       "      <th>1</th>\n",
       "      <td>Global</td>\n",
       "      <td>0.562500</td>\n",
       "      <td>0.013158</td>\n",
       "      <td>0.562500</td>\n",
       "      <td>0.5625</td>\n",
       "      <td>0.03</td>\n",
       "    </tr>\n",
       "    <tr>\n",
       "      <th>2</th>\n",
       "      <td>Global</td>\n",
       "      <td>0.486486</td>\n",
       "      <td>0.022556</td>\n",
       "      <td>0.428571</td>\n",
       "      <td>0.5625</td>\n",
       "      <td>0.04</td>\n",
       "    </tr>\n",
       "    <tr>\n",
       "      <th>3</th>\n",
       "      <td>Global</td>\n",
       "      <td>0.511628</td>\n",
       "      <td>0.030075</td>\n",
       "      <td>0.407407</td>\n",
       "      <td>0.6875</td>\n",
       "      <td>0.05</td>\n",
       "    </tr>\n",
       "    <tr>\n",
       "      <th>4</th>\n",
       "      <td>Global</td>\n",
       "      <td>0.458333</td>\n",
       "      <td>0.039474</td>\n",
       "      <td>0.343750</td>\n",
       "      <td>0.6875</td>\n",
       "      <td>0.06</td>\n",
       "    </tr>\n",
       "    <tr>\n",
       "      <th>5</th>\n",
       "      <td>Global</td>\n",
       "      <td>0.407407</td>\n",
       "      <td>0.050752</td>\n",
       "      <td>0.289474</td>\n",
       "      <td>0.6875</td>\n",
       "      <td>0.07</td>\n",
       "    </tr>\n",
       "    <tr>\n",
       "      <th>6</th>\n",
       "      <td>Global</td>\n",
       "      <td>0.372881</td>\n",
       "      <td>0.060150</td>\n",
       "      <td>0.255814</td>\n",
       "      <td>0.6875</td>\n",
       "      <td>0.08</td>\n",
       "    </tr>\n",
       "    <tr>\n",
       "      <th>7</th>\n",
       "      <td>Global</td>\n",
       "      <td>0.314286</td>\n",
       "      <td>0.080827</td>\n",
       "      <td>0.203704</td>\n",
       "      <td>0.6875</td>\n",
       "      <td>0.10</td>\n",
       "    </tr>\n",
       "    <tr>\n",
       "      <th>8</th>\n",
       "      <td>Global</td>\n",
       "      <td>0.192000</td>\n",
       "      <td>0.182331</td>\n",
       "      <td>0.110092</td>\n",
       "      <td>0.7500</td>\n",
       "      <td>0.20</td>\n",
       "    </tr>\n",
       "    <tr>\n",
       "      <th>9</th>\n",
       "      <td>Global</td>\n",
       "      <td>0.133333</td>\n",
       "      <td>0.285714</td>\n",
       "      <td>0.073171</td>\n",
       "      <td>0.7500</td>\n",
       "      <td>0.30</td>\n",
       "    </tr>\n",
       "    <tr>\n",
       "      <th>10</th>\n",
       "      <td>Global</td>\n",
       "      <td>0.102128</td>\n",
       "      <td>0.389098</td>\n",
       "      <td>0.054795</td>\n",
       "      <td>0.7500</td>\n",
       "      <td>0.40</td>\n",
       "    </tr>\n",
       "    <tr>\n",
       "      <th>11</th>\n",
       "      <td>Global</td>\n",
       "      <td>0.089655</td>\n",
       "      <td>0.490602</td>\n",
       "      <td>0.047445</td>\n",
       "      <td>0.8125</td>\n",
       "      <td>0.50</td>\n",
       "    </tr>\n",
       "    <tr>\n",
       "      <th>12</th>\n",
       "      <td>Global</td>\n",
       "      <td>0.087209</td>\n",
       "      <td>0.588346</td>\n",
       "      <td>0.045732</td>\n",
       "      <td>0.9375</td>\n",
       "      <td>0.60</td>\n",
       "    </tr>\n",
       "    <tr>\n",
       "      <th>13</th>\n",
       "      <td>Global</td>\n",
       "      <td>0.075188</td>\n",
       "      <td>0.691729</td>\n",
       "      <td>0.039164</td>\n",
       "      <td>0.9375</td>\n",
       "      <td>0.70</td>\n",
       "    </tr>\n",
       "    <tr>\n",
       "      <th>14</th>\n",
       "      <td>Global</td>\n",
       "      <td>0.070485</td>\n",
       "      <td>0.793233</td>\n",
       "      <td>0.036530</td>\n",
       "      <td>1.0000</td>\n",
       "      <td>0.80</td>\n",
       "    </tr>\n",
       "    <tr>\n",
       "      <th>15</th>\n",
       "      <td>Global</td>\n",
       "      <td>0.062868</td>\n",
       "      <td>0.896617</td>\n",
       "      <td>0.032454</td>\n",
       "      <td>1.0000</td>\n",
       "      <td>0.90</td>\n",
       "    </tr>\n",
       "  </tbody>\n",
       "</table>\n",
       "</div>"
      ],
      "text/plain": [
       "       Cat        F1       FPR  Precision     TPR    th\n",
       "0   Global  0.380952  0.001880   0.800000  0.2500  0.01\n",
       "1   Global  0.562500  0.013158   0.562500  0.5625  0.03\n",
       "2   Global  0.486486  0.022556   0.428571  0.5625  0.04\n",
       "3   Global  0.511628  0.030075   0.407407  0.6875  0.05\n",
       "4   Global  0.458333  0.039474   0.343750  0.6875  0.06\n",
       "5   Global  0.407407  0.050752   0.289474  0.6875  0.07\n",
       "6   Global  0.372881  0.060150   0.255814  0.6875  0.08\n",
       "7   Global  0.314286  0.080827   0.203704  0.6875  0.10\n",
       "8   Global  0.192000  0.182331   0.110092  0.7500  0.20\n",
       "9   Global  0.133333  0.285714   0.073171  0.7500  0.30\n",
       "10  Global  0.102128  0.389098   0.054795  0.7500  0.40\n",
       "11  Global  0.089655  0.490602   0.047445  0.8125  0.50\n",
       "12  Global  0.087209  0.588346   0.045732  0.9375  0.60\n",
       "13  Global  0.075188  0.691729   0.039164  0.9375  0.70\n",
       "14  Global  0.070485  0.793233   0.036530  1.0000  0.80\n",
       "15  Global  0.062868  0.896617   0.032454  1.0000  0.90"
      ]
     },
     "execution_count": 136,
     "metadata": {},
     "output_type": "execute_result"
    }
   ],
   "source": [
    "Res1"
   ]
  },
  {
   "cell_type": "code",
   "execution_count": 137,
   "metadata": {},
   "outputs": [
    {
     "data": {
      "text/plain": [
       "PCA(copy=True, iterated_power='auto', n_components=20, random_state=None,\n",
       "    svd_solver='auto', tol=0.0, whiten=False)"
      ]
     },
     "execution_count": 137,
     "metadata": {},
     "output_type": "execute_result"
    }
   ],
   "source": [
    "from sklearn.decomposition import PCA\n",
    "pca = PCA(n_components=20)\n",
    "pca.fit(matrix)"
   ]
  },
  {
   "cell_type": "code",
   "execution_count": 138,
   "metadata": {},
   "outputs": [
    {
     "name": "stdout",
     "output_type": "stream",
     "text": [
      "(548, 20)\n"
     ]
    }
   ],
   "source": [
    "reducedMatrixPCA = pca.transform(matrix)\n",
    "print(reducedMatrixPCA.shape)"
   ]
  },
  {
   "cell_type": "code",
   "execution_count": 139,
   "metadata": {
    "scrolled": true
   },
   "outputs": [],
   "source": [
    "# f,ax = plt.subplots(reducedMatrixPCA.shape[1],1,figsize=(20, 60))\n",
    "# for i in range(reducedMatrixPCA.shape[1]):\n",
    "#     ax[i].plot(pd.to_datetime(dates), reducedMatrixPCA[:,i])\n",
    "#     ax[i].plot(pd.to_datetime(dates), signal.detrend(reducedMatrixPCA[:,i]))"
   ]
  },
  {
   "cell_type": "code",
   "execution_count": 140,
   "metadata": {
    "scrolled": true
   },
   "outputs": [
    {
     "name": "stdout",
     "output_type": "stream",
     "text": [
      "Threshhold:  0.01\n",
      "Iteration 1\n",
      "Iteration 2\n",
      "Convergence in 2 iterations\n",
      "Threshhold:  0.03\n",
      "Iteration 1\n",
      "Iteration 2\n",
      "Iteration 3\n",
      "Convergence in 3 iterations\n",
      "Threshhold:  0.04\n",
      "Iteration 1\n",
      "Iteration 2\n",
      "Iteration 3\n",
      "Convergence in 3 iterations\n",
      "Threshhold:  0.05\n",
      "Iteration 1\n",
      "Iteration 2\n",
      "Iteration 3\n",
      "Convergence in 3 iterations\n",
      "Threshhold:  0.06\n",
      "Iteration 1\n",
      "Iteration 2\n",
      "Iteration 3\n",
      "Iteration 4\n",
      "Convergence in 4 iterations\n",
      "Threshhold:  0.07\n",
      "Iteration 1\n",
      "Iteration 2\n",
      "Iteration 3\n",
      "Iteration 4\n",
      "Convergence in 4 iterations\n",
      "Threshhold:  0.08\n",
      "Iteration 1\n",
      "Iteration 2\n",
      "Iteration 3\n",
      "Iteration 4\n",
      "Iteration 5\n",
      "Convergence in 5 iterations\n",
      "Threshhold:  0.1\n",
      "Iteration 1\n",
      "Iteration 2\n",
      "Iteration 3\n",
      "Iteration 4\n",
      "Convergence in 4 iterations\n",
      "Threshhold:  0.2\n",
      "Iteration 1\n",
      "Iteration 2\n",
      "Iteration 3\n",
      "Iteration 4\n",
      "Iteration 5\n",
      "Convergence in 5 iterations\n",
      "Threshhold:  0.3\n",
      "Iteration 1\n",
      "Iteration 2\n",
      "Iteration 3\n",
      "Iteration 4\n",
      "Iteration 5\n",
      "Threshhold:  0.4\n",
      "Iteration 1\n",
      "Iteration 2\n",
      "Iteration 3\n",
      "Iteration 4\n",
      "Iteration 5\n",
      "Threshhold:  0.5\n",
      "Iteration 1\n",
      "Iteration 2\n",
      "Iteration 3\n",
      "Iteration 4\n",
      "Iteration 5\n",
      "Convergence in 5 iterations\n",
      "Threshhold:  0.6\n",
      "Iteration 1\n",
      "Iteration 2\n",
      "Iteration 3\n",
      "Iteration 4\n",
      "Iteration 5\n",
      "Threshhold:  0.7\n",
      "Iteration 1\n",
      "Iteration 2\n",
      "Iteration 3\n",
      "Iteration 4\n",
      "Iteration 5\n",
      "Threshhold:  0.8\n",
      "Iteration 1\n",
      "Iteration 2\n",
      "Iteration 3\n",
      "Iteration 4\n",
      "Iteration 5\n",
      "Threshhold:  0.9\n",
      "Iteration 1\n",
      "Iteration 2\n",
      "Iteration 3\n",
      "Convergence in 3 iterations\n"
     ]
    }
   ],
   "source": [
    "Res1 = getResults(reducedMatrixPCA,threshHolds,iterN=5,n_com=1)"
   ]
  },
  {
   "cell_type": "code",
   "execution_count": 141,
   "metadata": {},
   "outputs": [
    {
     "data": {
      "text/html": [
       "<div>\n",
       "<style scoped>\n",
       "    .dataframe tbody tr th:only-of-type {\n",
       "        vertical-align: middle;\n",
       "    }\n",
       "\n",
       "    .dataframe tbody tr th {\n",
       "        vertical-align: top;\n",
       "    }\n",
       "\n",
       "    .dataframe thead th {\n",
       "        text-align: right;\n",
       "    }\n",
       "</style>\n",
       "<table border=\"1\" class=\"dataframe\">\n",
       "  <thead>\n",
       "    <tr style=\"text-align: right;\">\n",
       "      <th></th>\n",
       "      <th>Cat</th>\n",
       "      <th>F1</th>\n",
       "      <th>FPR</th>\n",
       "      <th>Precision</th>\n",
       "      <th>TPR</th>\n",
       "      <th>th</th>\n",
       "    </tr>\n",
       "  </thead>\n",
       "  <tbody>\n",
       "    <tr>\n",
       "      <th>0</th>\n",
       "      <td>Global</td>\n",
       "      <td>0.285714</td>\n",
       "      <td>0.003759</td>\n",
       "      <td>0.600000</td>\n",
       "      <td>0.1875</td>\n",
       "      <td>0.01</td>\n",
       "    </tr>\n",
       "    <tr>\n",
       "      <th>1</th>\n",
       "      <td>Global</td>\n",
       "      <td>0.562500</td>\n",
       "      <td>0.013158</td>\n",
       "      <td>0.562500</td>\n",
       "      <td>0.5625</td>\n",
       "      <td>0.03</td>\n",
       "    </tr>\n",
       "    <tr>\n",
       "      <th>2</th>\n",
       "      <td>Global</td>\n",
       "      <td>0.540541</td>\n",
       "      <td>0.020677</td>\n",
       "      <td>0.476190</td>\n",
       "      <td>0.6250</td>\n",
       "      <td>0.04</td>\n",
       "    </tr>\n",
       "    <tr>\n",
       "      <th>3</th>\n",
       "      <td>Global</td>\n",
       "      <td>0.511628</td>\n",
       "      <td>0.030075</td>\n",
       "      <td>0.407407</td>\n",
       "      <td>0.6875</td>\n",
       "      <td>0.05</td>\n",
       "    </tr>\n",
       "    <tr>\n",
       "      <th>4</th>\n",
       "      <td>Global</td>\n",
       "      <td>0.458333</td>\n",
       "      <td>0.039474</td>\n",
       "      <td>0.343750</td>\n",
       "      <td>0.6875</td>\n",
       "      <td>0.06</td>\n",
       "    </tr>\n",
       "    <tr>\n",
       "      <th>5</th>\n",
       "      <td>Global</td>\n",
       "      <td>0.407407</td>\n",
       "      <td>0.050752</td>\n",
       "      <td>0.289474</td>\n",
       "      <td>0.6875</td>\n",
       "      <td>0.07</td>\n",
       "    </tr>\n",
       "    <tr>\n",
       "      <th>6</th>\n",
       "      <td>Global</td>\n",
       "      <td>0.372881</td>\n",
       "      <td>0.060150</td>\n",
       "      <td>0.255814</td>\n",
       "      <td>0.6875</td>\n",
       "      <td>0.08</td>\n",
       "    </tr>\n",
       "    <tr>\n",
       "      <th>7</th>\n",
       "      <td>Global</td>\n",
       "      <td>0.342857</td>\n",
       "      <td>0.078947</td>\n",
       "      <td>0.222222</td>\n",
       "      <td>0.7500</td>\n",
       "      <td>0.10</td>\n",
       "    </tr>\n",
       "    <tr>\n",
       "      <th>8</th>\n",
       "      <td>Global</td>\n",
       "      <td>0.192000</td>\n",
       "      <td>0.182331</td>\n",
       "      <td>0.110092</td>\n",
       "      <td>0.7500</td>\n",
       "      <td>0.20</td>\n",
       "    </tr>\n",
       "    <tr>\n",
       "      <th>9</th>\n",
       "      <td>Global</td>\n",
       "      <td>0.133333</td>\n",
       "      <td>0.285714</td>\n",
       "      <td>0.073171</td>\n",
       "      <td>0.7500</td>\n",
       "      <td>0.30</td>\n",
       "    </tr>\n",
       "    <tr>\n",
       "      <th>10</th>\n",
       "      <td>Global</td>\n",
       "      <td>0.119149</td>\n",
       "      <td>0.385338</td>\n",
       "      <td>0.063927</td>\n",
       "      <td>0.8750</td>\n",
       "      <td>0.40</td>\n",
       "    </tr>\n",
       "    <tr>\n",
       "      <th>11</th>\n",
       "      <td>Global</td>\n",
       "      <td>0.103448</td>\n",
       "      <td>0.486842</td>\n",
       "      <td>0.054745</td>\n",
       "      <td>0.9375</td>\n",
       "      <td>0.50</td>\n",
       "    </tr>\n",
       "    <tr>\n",
       "      <th>12</th>\n",
       "      <td>Global</td>\n",
       "      <td>0.087209</td>\n",
       "      <td>0.588346</td>\n",
       "      <td>0.045732</td>\n",
       "      <td>0.9375</td>\n",
       "      <td>0.60</td>\n",
       "    </tr>\n",
       "    <tr>\n",
       "      <th>13</th>\n",
       "      <td>Global</td>\n",
       "      <td>0.075188</td>\n",
       "      <td>0.691729</td>\n",
       "      <td>0.039164</td>\n",
       "      <td>0.9375</td>\n",
       "      <td>0.70</td>\n",
       "    </tr>\n",
       "    <tr>\n",
       "      <th>14</th>\n",
       "      <td>Global</td>\n",
       "      <td>0.070485</td>\n",
       "      <td>0.793233</td>\n",
       "      <td>0.036530</td>\n",
       "      <td>1.0000</td>\n",
       "      <td>0.80</td>\n",
       "    </tr>\n",
       "    <tr>\n",
       "      <th>15</th>\n",
       "      <td>Global</td>\n",
       "      <td>0.062868</td>\n",
       "      <td>0.896617</td>\n",
       "      <td>0.032454</td>\n",
       "      <td>1.0000</td>\n",
       "      <td>0.90</td>\n",
       "    </tr>\n",
       "  </tbody>\n",
       "</table>\n",
       "</div>"
      ],
      "text/plain": [
       "       Cat        F1       FPR  Precision     TPR    th\n",
       "0   Global  0.285714  0.003759   0.600000  0.1875  0.01\n",
       "1   Global  0.562500  0.013158   0.562500  0.5625  0.03\n",
       "2   Global  0.540541  0.020677   0.476190  0.6250  0.04\n",
       "3   Global  0.511628  0.030075   0.407407  0.6875  0.05\n",
       "4   Global  0.458333  0.039474   0.343750  0.6875  0.06\n",
       "5   Global  0.407407  0.050752   0.289474  0.6875  0.07\n",
       "6   Global  0.372881  0.060150   0.255814  0.6875  0.08\n",
       "7   Global  0.342857  0.078947   0.222222  0.7500  0.10\n",
       "8   Global  0.192000  0.182331   0.110092  0.7500  0.20\n",
       "9   Global  0.133333  0.285714   0.073171  0.7500  0.30\n",
       "10  Global  0.119149  0.385338   0.063927  0.8750  0.40\n",
       "11  Global  0.103448  0.486842   0.054745  0.9375  0.50\n",
       "12  Global  0.087209  0.588346   0.045732  0.9375  0.60\n",
       "13  Global  0.075188  0.691729   0.039164  0.9375  0.70\n",
       "14  Global  0.070485  0.793233   0.036530  1.0000  0.80\n",
       "15  Global  0.062868  0.896617   0.032454  1.0000  0.90"
      ]
     },
     "execution_count": 141,
     "metadata": {},
     "output_type": "execute_result"
    }
   ],
   "source": [
    "Res1"
   ]
  },
  {
   "cell_type": "code",
   "execution_count": null,
   "metadata": {},
   "outputs": [],
   "source": []
  },
  {
   "cell_type": "code",
   "execution_count": null,
   "metadata": {},
   "outputs": [],
   "source": []
  }
 ],
 "metadata": {
  "kernelspec": {
   "display_name": "Python 3",
   "language": "python",
   "name": "python3"
  },
  "language_info": {
   "codemirror_mode": {
    "name": "ipython",
    "version": 3
   },
   "file_extension": ".py",
   "mimetype": "text/x-python",
   "name": "python",
   "nbconvert_exporter": "python",
   "pygments_lexer": "ipython3",
   "version": "3.7.3"
  }
 },
 "nbformat": 4,
 "nbformat_minor": 2
}
