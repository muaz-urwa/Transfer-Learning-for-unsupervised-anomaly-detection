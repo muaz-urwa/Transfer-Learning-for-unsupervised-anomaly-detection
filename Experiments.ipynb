{
 "cells": [
  {
   "cell_type": "code",
   "execution_count": 51,
   "metadata": {},
   "outputs": [],
   "source": [
    "import pandas as pd\n",
    "import numpy as np\n",
    "import torch\n",
    "from torch_geometric.data import Data\n",
    "\n",
    "import torch\n",
    "import torch.nn.functional as F\n",
    "import torch.nn as nn\n",
    "from torch_geometric.nn import GCNConv\n",
    "\n",
    "import matplotlib.pyplot as plt\n",
    "%matplotlib inline"
   ]
  },
  {
   "cell_type": "code",
   "execution_count": 2,
   "metadata": {},
   "outputs": [],
   "source": [
    "def loadData(file):\n",
    "    data = pd.read_csv(file)\n",
    "    print('Raw shape: ',data.shape)\n",
    "    data['date'] = pd.to_datetime(data.date)\n",
    "    print('Days: ',len(set(data.date)))\n",
    "    return data"
   ]
  },
  {
   "cell_type": "code",
   "execution_count": 3,
   "metadata": {},
   "outputs": [],
   "source": [
    "def getTimeSeries(df):\n",
    "    table = pd.pivot_table(df, values='amount', index=['date'],\n",
    "                    columns=['start_id','end_id'], aggfunc=np.sum, fill_value=0)\n",
    "    return table"
   ]
  },
  {
   "cell_type": "code",
   "execution_count": 4,
   "metadata": {},
   "outputs": [],
   "source": [
    "dataDir = '/home/urwa/Documents/Projects/AnomalyDetection/Pipeline/data/'\n",
    "dataFile = '20190402_TaipeiEdgesDatewise.csv'\n",
    "events_data =dataDir+'TaipeiEvents.csv'"
   ]
  },
  {
   "cell_type": "code",
   "execution_count": 5,
   "metadata": {},
   "outputs": [
    {
     "name": "stdout",
     "output_type": "stream",
     "text": [
      "Raw shape:  (7374816, 5)\n",
      "Days:  638\n"
     ]
    }
   ],
   "source": [
    "file = dataDir + dataFile\n",
    "dataRaw = loadData(file)"
   ]
  },
  {
   "cell_type": "code",
   "execution_count": 6,
   "metadata": {},
   "outputs": [
    {
     "data": {
      "text/html": [
       "<div>\n",
       "<style scoped>\n",
       "    .dataframe tbody tr th:only-of-type {\n",
       "        vertical-align: middle;\n",
       "    }\n",
       "\n",
       "    .dataframe tbody tr th {\n",
       "        vertical-align: top;\n",
       "    }\n",
       "\n",
       "    .dataframe thead th {\n",
       "        text-align: right;\n",
       "    }\n",
       "</style>\n",
       "<table border=\"1\" class=\"dataframe\">\n",
       "  <thead>\n",
       "    <tr style=\"text-align: right;\">\n",
       "      <th>end_id</th>\n",
       "      <th>BL01</th>\n",
       "      <th>BL02</th>\n",
       "      <th>BL03</th>\n",
       "      <th>BL04</th>\n",
       "      <th>BL05</th>\n",
       "      <th>BL06</th>\n",
       "      <th>BL07</th>\n",
       "      <th>BL08</th>\n",
       "      <th>BL09</th>\n",
       "      <th>BL10</th>\n",
       "      <th>...</th>\n",
       "      <th>R20</th>\n",
       "      <th>R21</th>\n",
       "      <th>R22</th>\n",
       "      <th>R22A</th>\n",
       "      <th>R23</th>\n",
       "      <th>R24</th>\n",
       "      <th>R25</th>\n",
       "      <th>R26</th>\n",
       "      <th>R27</th>\n",
       "      <th>R28</th>\n",
       "    </tr>\n",
       "    <tr>\n",
       "      <th>date</th>\n",
       "      <th></th>\n",
       "      <th></th>\n",
       "      <th></th>\n",
       "      <th></th>\n",
       "      <th></th>\n",
       "      <th></th>\n",
       "      <th></th>\n",
       "      <th></th>\n",
       "      <th></th>\n",
       "      <th></th>\n",
       "      <th></th>\n",
       "      <th></th>\n",
       "      <th></th>\n",
       "      <th></th>\n",
       "      <th></th>\n",
       "      <th></th>\n",
       "      <th></th>\n",
       "      <th></th>\n",
       "      <th></th>\n",
       "      <th></th>\n",
       "      <th></th>\n",
       "    </tr>\n",
       "  </thead>\n",
       "  <tbody>\n",
       "    <tr>\n",
       "      <th>2017-01-01</th>\n",
       "      <td>6326</td>\n",
       "      <td>11444</td>\n",
       "      <td>5696</td>\n",
       "      <td>16834</td>\n",
       "      <td>12256</td>\n",
       "      <td>25559</td>\n",
       "      <td>45609</td>\n",
       "      <td>27781</td>\n",
       "      <td>18745</td>\n",
       "      <td>33240</td>\n",
       "      <td>...</td>\n",
       "      <td>5597</td>\n",
       "      <td>5937</td>\n",
       "      <td>15733</td>\n",
       "      <td>12194</td>\n",
       "      <td>2972</td>\n",
       "      <td>2067</td>\n",
       "      <td>9518</td>\n",
       "      <td>8439</td>\n",
       "      <td>6473</td>\n",
       "      <td>73538</td>\n",
       "    </tr>\n",
       "  </tbody>\n",
       "</table>\n",
       "<p>1 rows × 108 columns</p>\n",
       "</div>"
      ],
      "text/plain": [
       "end_id      BL01   BL02  BL03   BL04   BL05   BL06   BL07   BL08   BL09  \\\n",
       "date                                                                      \n",
       "2017-01-01  6326  11444  5696  16834  12256  25559  45609  27781  18745   \n",
       "\n",
       "end_id       BL10  ...   R20   R21    R22   R22A   R23   R24   R25   R26  \\\n",
       "date               ...                                                     \n",
       "2017-01-01  33240  ...  5597  5937  15733  12194  2972  2067  9518  8439   \n",
       "\n",
       "end_id       R27    R28  \n",
       "date                     \n",
       "2017-01-01  6473  73538  \n",
       "\n",
       "[1 rows x 108 columns]"
      ]
     },
     "execution_count": 6,
     "metadata": {},
     "output_type": "execute_result"
    }
   ],
   "source": [
    "dataIn =  pd.pivot_table(dataRaw, values='amount', index=['date'],\n",
    "                    columns=['end_id'], aggfunc=np.sum, fill_value=0)\n",
    "dataIn.head(1)"
   ]
  },
  {
   "cell_type": "code",
   "execution_count": 7,
   "metadata": {},
   "outputs": [
    {
     "data": {
      "text/html": [
       "<div>\n",
       "<style scoped>\n",
       "    .dataframe tbody tr th:only-of-type {\n",
       "        vertical-align: middle;\n",
       "    }\n",
       "\n",
       "    .dataframe tbody tr th {\n",
       "        vertical-align: top;\n",
       "    }\n",
       "\n",
       "    .dataframe thead th {\n",
       "        text-align: right;\n",
       "    }\n",
       "</style>\n",
       "<table border=\"1\" class=\"dataframe\">\n",
       "  <thead>\n",
       "    <tr style=\"text-align: right;\">\n",
       "      <th>start_id</th>\n",
       "      <th>BL01</th>\n",
       "      <th>BL02</th>\n",
       "      <th>BL03</th>\n",
       "      <th>BL04</th>\n",
       "      <th>BL05</th>\n",
       "      <th>BL06</th>\n",
       "      <th>BL07</th>\n",
       "      <th>BL08</th>\n",
       "      <th>BL09</th>\n",
       "      <th>BL10</th>\n",
       "      <th>...</th>\n",
       "      <th>R20</th>\n",
       "      <th>R21</th>\n",
       "      <th>R22</th>\n",
       "      <th>R22A</th>\n",
       "      <th>R23</th>\n",
       "      <th>R24</th>\n",
       "      <th>R25</th>\n",
       "      <th>R26</th>\n",
       "      <th>R27</th>\n",
       "      <th>R28</th>\n",
       "    </tr>\n",
       "    <tr>\n",
       "      <th>date</th>\n",
       "      <th></th>\n",
       "      <th></th>\n",
       "      <th></th>\n",
       "      <th></th>\n",
       "      <th></th>\n",
       "      <th></th>\n",
       "      <th></th>\n",
       "      <th></th>\n",
       "      <th></th>\n",
       "      <th></th>\n",
       "      <th></th>\n",
       "      <th></th>\n",
       "      <th></th>\n",
       "      <th></th>\n",
       "      <th></th>\n",
       "      <th></th>\n",
       "      <th></th>\n",
       "      <th></th>\n",
       "      <th></th>\n",
       "      <th></th>\n",
       "      <th></th>\n",
       "    </tr>\n",
       "  </thead>\n",
       "  <tbody>\n",
       "    <tr>\n",
       "      <th>2017-01-01</th>\n",
       "      <td>6292</td>\n",
       "      <td>10268</td>\n",
       "      <td>5591</td>\n",
       "      <td>15834</td>\n",
       "      <td>12955</td>\n",
       "      <td>26456</td>\n",
       "      <td>42135</td>\n",
       "      <td>29606</td>\n",
       "      <td>18572</td>\n",
       "      <td>34387</td>\n",
       "      <td>...</td>\n",
       "      <td>5734</td>\n",
       "      <td>6801</td>\n",
       "      <td>14919</td>\n",
       "      <td>12373</td>\n",
       "      <td>2943</td>\n",
       "      <td>1957</td>\n",
       "      <td>8887</td>\n",
       "      <td>8603</td>\n",
       "      <td>6870</td>\n",
       "      <td>76751</td>\n",
       "    </tr>\n",
       "  </tbody>\n",
       "</table>\n",
       "<p>1 rows × 108 columns</p>\n",
       "</div>"
      ],
      "text/plain": [
       "start_id    BL01   BL02  BL03   BL04   BL05   BL06   BL07   BL08   BL09  \\\n",
       "date                                                                      \n",
       "2017-01-01  6292  10268  5591  15834  12955  26456  42135  29606  18572   \n",
       "\n",
       "start_id     BL10  ...   R20   R21    R22   R22A   R23   R24   R25   R26  \\\n",
       "date               ...                                                     \n",
       "2017-01-01  34387  ...  5734  6801  14919  12373  2943  1957  8887  8603   \n",
       "\n",
       "start_id     R27    R28  \n",
       "date                     \n",
       "2017-01-01  6870  76751  \n",
       "\n",
       "[1 rows x 108 columns]"
      ]
     },
     "execution_count": 7,
     "metadata": {},
     "output_type": "execute_result"
    }
   ],
   "source": [
    "dataOut =  pd.pivot_table(dataRaw, values='amount', index=['date'],\n",
    "                    columns=['start_id'], aggfunc=np.sum, fill_value=0)\n",
    "dataOut.head(1)"
   ]
  },
  {
   "cell_type": "code",
   "execution_count": 8,
   "metadata": {},
   "outputs": [
    {
     "data": {
      "text/plain": [
       "(638, 108, 2)"
      ]
     },
     "execution_count": 8,
     "metadata": {},
     "output_type": "execute_result"
    }
   ],
   "source": [
    "matrix = np.stack((dataOut.values, dataIn.values),-1)\n",
    "matrix.shape"
   ]
  },
  {
   "cell_type": "code",
   "execution_count": 69,
   "metadata": {},
   "outputs": [],
   "source": [
    "for i in range(matrix.shape[1]):\n",
    "    for j in range(matrix.shape[2]):\n",
    "        matrix[:, i,j] = (matrix[:, i,j] - np.mean(matrix[:, i,j])) / (np.std(matrix[:, i,j]))"
   ]
  },
  {
   "cell_type": "code",
   "execution_count": 71,
   "metadata": {},
   "outputs": [
    {
     "data": {
      "image/png": "[encoded data removed]",
      "text/plain": [
       "<Figure size 432x288 with 1 Axes>"
      ]
     },
     "metadata": {
      "needs_background": "light"
     },
     "output_type": "display_data"
    }
   ],
   "source": [
    "_ = plt.hist(matrix[:,10,1])"
   ]
  },
  {
   "cell_type": "code",
   "execution_count": 73,
   "metadata": {},
   "outputs": [],
   "source": [
    "stations = list(set(dataRaw.start_id))\n",
    "n= len(stations)\n",
    "edge_index = [[a//n,a%n] for a in range(n*n)]\n",
    "edge_index = torch.tensor(edge_index, dtype=torch.long)"
   ]
  },
  {
   "cell_type": "code",
   "execution_count": 100,
   "metadata": {},
   "outputs": [
    {
     "data": {
      "text/plain": [
       "array([1, 0, 0, 0, 0, 0, 1, 1, 0, 0])"
      ]
     },
     "execution_count": 100,
     "metadata": {},
     "output_type": "execute_result"
    }
   ],
   "source": [
    "dates = list(set(dataOut.index))\n",
    "DOW = list(pd.to_datetime(dataOut.index.values).dayofweek)\n",
    "DOW = ((np.array(DOW) == 5) | (np.array(DOW) == 6)).astype(int)\n",
    "DOW[:10]"
   ]
  },
  {
   "cell_type": "code",
   "execution_count": 101,
   "metadata": {},
   "outputs": [
    {
     "data": {
      "text/plain": [
       "Data(edge_index=[2, 11664], x=[108, 2], y=[1])"
      ]
     },
     "execution_count": 101,
     "metadata": {},
     "output_type": "execute_result"
    }
   ],
   "source": [
    "dataList = []\n",
    "\n",
    "for i in range(len(DOW)):\n",
    "    x = torch.tensor(matrix[i], dtype=torch.float)\n",
    "    y = torch.tensor(np.array([DOW[i]]), dtype=torch.long)\n",
    "    data = Data(x=x, edge_index=edge_index.t().contiguous(),y=y)\n",
    "    dataList.append(data)\n",
    "\n",
    "dataList[0]"
   ]
  },
  {
   "cell_type": "code",
   "execution_count": 102,
   "metadata": {},
   "outputs": [],
   "source": [
    "n_classes = 2\n",
    "featureDim = 2\n",
    "hiddenDim = [16,4]"
   ]
  },
  {
   "cell_type": "code",
   "execution_count": 103,
   "metadata": {},
   "outputs": [],
   "source": [
    "class Net(torch.nn.Module):\n",
    "    def __init__(self):\n",
    "        super(Net, self).__init__()\n",
    "        self.conv1 = GCNConv(featureDim, hiddenDim[0])\n",
    "        self.conv2 = GCNConv(hiddenDim[0], hiddenDim[1])\n",
    "        self.linear1 = nn.Linear(n*hiddenDim[1], n_classes)\n",
    "\n",
    "    def forward(self, data):\n",
    "        x, edge_index = data.x, data.edge_index\n",
    "        x = self.conv1(x, edge_index)\n",
    "        x = F.relu(x)\n",
    "        x = F.dropout(x, training=self.training)\n",
    "        x = self.conv2(x, edge_index)\n",
    "        x = x.view(-1,n*hiddenDim[1])\n",
    "        x = self.linear1(x)\n",
    "        return F.log_softmax(x, dim=1)"
   ]
  },
  {
   "cell_type": "code",
   "execution_count": 104,
   "metadata": {},
   "outputs": [],
   "source": [
    "device = torch.device('cuda' if torch.cuda.is_available() else 'cpu')\n",
    "#device = torch.device('cpu')\n",
    "model = Net().to(device)\n",
    "#data = dataset[0].to(device)\n",
    "optimizer = torch.optim.Adam(model.parameters(), lr=0.01, weight_decay=5e-4)\n",
    "criterion = nn.CrossEntropyLoss()"
   ]
  },
  {
   "cell_type": "code",
   "execution_count": 105,
   "metadata": {},
   "outputs": [
    {
     "data": {
      "text/plain": [
       "device(type='cuda')"
      ]
     },
     "execution_count": 105,
     "metadata": {},
     "output_type": "execute_result"
    }
   ],
   "source": [
    "device"
   ]
  },
  {
   "cell_type": "code",
   "execution_count": 106,
   "metadata": {},
   "outputs": [],
   "source": [
    "num_epochs = 50"
   ]
  },
  {
   "cell_type": "code",
   "execution_count": 107,
   "metadata": {
    "scrolled": true
   },
   "outputs": [
    {
     "name": "stdout",
     "output_type": "stream",
     "text": [
      "epoch [1/50], loss:0.0564\n",
      "epoch [2/50], loss:0.0554\n",
      "epoch [3/50], loss:0.0726\n",
      "epoch [4/50], loss:0.1043\n",
      "epoch [5/50], loss:0.1216\n",
      "epoch [6/50], loss:0.1029\n",
      "epoch [7/50], loss:0.1127\n",
      "epoch [8/50], loss:0.1552\n",
      "epoch [9/50], loss:0.1290\n",
      "epoch [10/50], loss:0.1053\n",
      "epoch [11/50], loss:0.1004\n",
      "epoch [12/50], loss:0.1266\n",
      "epoch [13/50], loss:0.1239\n",
      "epoch [14/50], loss:0.1690\n",
      "epoch [15/50], loss:0.1471\n",
      "epoch [16/50], loss:0.1335\n",
      "epoch [17/50], loss:0.1158\n",
      "epoch [18/50], loss:0.1049\n",
      "epoch [19/50], loss:0.1176\n",
      "epoch [20/50], loss:0.1228\n",
      "epoch [21/50], loss:0.1163\n",
      "epoch [22/50], loss:0.1090\n",
      "epoch [23/50], loss:0.0985\n",
      "epoch [24/50], loss:0.0522\n",
      "epoch [25/50], loss:0.0568\n",
      "epoch [26/50], loss:0.1474\n",
      "epoch [27/50], loss:0.0792\n",
      "epoch [28/50], loss:0.1085\n",
      "epoch [29/50], loss:0.1305\n",
      "epoch [30/50], loss:0.0967\n",
      "epoch [31/50], loss:0.1455\n",
      "epoch [32/50], loss:0.0567\n",
      "epoch [33/50], loss:0.0555\n",
      "epoch [34/50], loss:0.1292\n",
      "epoch [35/50], loss:0.1020\n",
      "epoch [36/50], loss:0.0864\n",
      "epoch [37/50], loss:0.0955\n",
      "epoch [38/50], loss:0.1580\n",
      "epoch [39/50], loss:0.1450\n",
      "epoch [40/50], loss:0.1019\n",
      "epoch [41/50], loss:0.0634\n",
      "epoch [42/50], loss:0.1272\n",
      "epoch [43/50], loss:0.0974\n",
      "epoch [44/50], loss:0.1503\n",
      "epoch [45/50], loss:0.1656\n",
      "epoch [46/50], loss:0.1057\n",
      "epoch [47/50], loss:0.1046\n",
      "epoch [48/50], loss:0.1162\n",
      "epoch [49/50], loss:0.1169\n",
      "epoch [50/50], loss:0.0763\n"
     ]
    }
   ],
   "source": [
    "model.train()\n",
    "\n",
    "for epoch in range(num_epochs):\n",
    "    epochLoss = 0\n",
    "    for data in dataList:\n",
    "        #data.view(1,-1,-1)\n",
    "        data = data.to(device)\n",
    "        optimizer.zero_grad()\n",
    "        out = model(data)\n",
    "#         print(out.shape)\n",
    "#         print(data.y.shape)\n",
    "        loss = criterion(out, data.y)\n",
    "        loss.backward()\n",
    "        optimizer.step()\n",
    "        \n",
    "        epochLoss += loss.item()\n",
    "        \n",
    "    print('epoch [{}/{}], loss:{:.4f}'\n",
    "    .format(epoch + 1, num_epochs, loss.item()))"
   ]
  },
  {
   "cell_type": "code",
   "execution_count": 108,
   "metadata": {},
   "outputs": [
    {
     "name": "stdout",
     "output_type": "stream",
     "text": [
      "Accuracy: 0.8715\n"
     ]
    }
   ],
   "source": [
    "model.eval()\n",
    "with torch.no_grad():\n",
    "    y = DOW\n",
    "    predList = []\n",
    "    for data in dataList:\n",
    "        data = data.to(device)\n",
    "        pred = model(data).cpu().numpy()\n",
    "        predList.append(np.argmax(pred))\n",
    "    \n",
    "    print('Accuracy: {:.4f}'.format( np.sum(np.array(predList) == np.array(y)) / len(predList) ))"
   ]
  },
  {
   "cell_type": "code",
   "execution_count": null,
   "metadata": {},
   "outputs": [],
   "source": []
  },
  {
   "cell_type": "code",
   "execution_count": 135,
   "metadata": {},
   "outputs": [
    {
     "data": {
      "text/plain": [
       "[6, 0, 1, 2, 3, 4, 5, 6, 0, 1]"
      ]
     },
     "execution_count": 135,
     "metadata": {},
     "output_type": "execute_result"
    }
   ],
   "source": [
    "dates = list(set(dataOut.index))\n",
    "DOW = list(pd.to_datetime(dataOut.index.values).dayofweek)\n",
    "#DOW = ((np.array(DOW) == 5) | (np.array(DOW) == 6)).astype(int)\n",
    "DOW[:10]"
   ]
  },
  {
   "cell_type": "code",
   "execution_count": 136,
   "metadata": {},
   "outputs": [],
   "source": [
    "n_classes = 7\n",
    "featureDim = matrix.shape[1] * matrix.shape[2]\n",
    "hiddenDim = [500,100]"
   ]
  },
  {
   "cell_type": "code",
   "execution_count": 137,
   "metadata": {},
   "outputs": [],
   "source": [
    "class LinNet(torch.nn.Module):\n",
    "    def __init__(self):\n",
    "        super(LinNet, self).__init__()\n",
    "        self.linear1 = nn.Linear(featureDim, hiddenDim[0])\n",
    "        self.linear2 = nn.Linear(hiddenDim[0], hiddenDim[1])\n",
    "        self.linear3 = nn.Linear(hiddenDim[1], n_classes)\n",
    "\n",
    "    def forward(self, x):\n",
    "        #x, edge_index = data.x, data.edge_index\n",
    "        x = self.linear1(x)\n",
    "        x = F.relu(x)\n",
    "        x = F.dropout(x, training=self.training)\n",
    "        x = self.linear2(x)\n",
    "        #x = x.view(-1,n*hiddenDim[1])\n",
    "        x = self.linear3(x)\n",
    "        return F.log_softmax(x, dim=1)"
   ]
  },
  {
   "cell_type": "code",
   "execution_count": 138,
   "metadata": {},
   "outputs": [],
   "source": [
    "device = torch.device('cuda' if torch.cuda.is_available() else 'cpu')\n",
    "#device = torch.device('cpu')\n",
    "model = LinNet().to(device)\n",
    "#data = dataset[0].to(device)\n",
    "optimizer = torch.optim.Adam(model.parameters(), lr=0.01, weight_decay=5e-4)\n",
    "criterion = nn.CrossEntropyLoss()"
   ]
  },
  {
   "cell_type": "code",
   "execution_count": 139,
   "metadata": {},
   "outputs": [],
   "source": [
    "num_epochs = 20"
   ]
  },
  {
   "cell_type": "code",
   "execution_count": 140,
   "metadata": {},
   "outputs": [],
   "source": [
    "Y = torch.tensor(np.array(DOW), dtype=torch.long)"
   ]
  },
  {
   "cell_type": "code",
   "execution_count": 141,
   "metadata": {},
   "outputs": [
    {
     "name": "stdout",
     "output_type": "stream",
     "text": [
      "epoch [1/20], loss:319.2292\n",
      "epoch [2/20], loss:0.0000\n",
      "epoch [3/20], loss:146.9484\n",
      "epoch [4/20], loss:35.2669\n",
      "epoch [5/20], loss:199.2574\n",
      "epoch [6/20], loss:0.0000\n",
      "epoch [7/20], loss:339.3034\n",
      "epoch [8/20], loss:0.0004\n",
      "epoch [9/20], loss:0.0000\n",
      "epoch [10/20], loss:0.0000\n",
      "epoch [11/20], loss:0.0000\n",
      "epoch [12/20], loss:904.2885\n",
      "epoch [13/20], loss:0.0000\n",
      "epoch [14/20], loss:0.0000\n",
      "epoch [15/20], loss:0.0000\n",
      "epoch [16/20], loss:0.0000\n",
      "epoch [17/20], loss:0.0000\n",
      "epoch [18/20], loss:0.0000\n",
      "epoch [19/20], loss:0.0000\n",
      "epoch [20/20], loss:0.0000\n"
     ]
    }
   ],
   "source": [
    "model.train()\n",
    "\n",
    "for epoch in range(num_epochs):\n",
    "    epochLoss = 0\n",
    "    for i in range(matrix.shape[0]):\n",
    "        data = torch.tensor(matrix[i,:,:], dtype=torch.float).view(1,-1)\n",
    "        data = data.to(device)\n",
    "        optimizer.zero_grad()\n",
    "        out = model(data)\n",
    "#         print(out.shape)\n",
    "#         print(data.y.shape)\n",
    "        y = Y[i].to(device).view(1)\n",
    "        loss = criterion(out, y)\n",
    "        loss.backward()\n",
    "        optimizer.step()\n",
    "        \n",
    "        epochLoss += loss.item()\n",
    "        \n",
    "    print('epoch [{}/{}], loss:{:.4f}'\n",
    "    .format(epoch + 1, num_epochs, loss.item()))"
   ]
  },
  {
   "cell_type": "code",
   "execution_count": 142,
   "metadata": {},
   "outputs": [
    {
     "name": "stdout",
     "output_type": "stream",
     "text": [
      "Accuracy: 0.6708\n"
     ]
    }
   ],
   "source": [
    "model.eval()\n",
    "with torch.no_grad():\n",
    "    y = DOW\n",
    "    predList = []\n",
    "    for i in range(matrix.shape[0]):\n",
    "        data = torch.tensor(matrix[i,:,:], dtype=torch.float).view(1,-1)\n",
    "        data = data.to(device)\n",
    "        pred = model(data).cpu().numpy()\n",
    "        predList.append(np.argmax(pred))\n",
    "    \n",
    "    print('Accuracy: {:.4f}'.format( np.sum(np.array(predList) == np.array(y)) / len(predList) ))"
   ]
  },
  {
   "cell_type": "code",
   "execution_count": 143,
   "metadata": {},
   "outputs": [
    {
     "data": {
      "text/plain": [
       "[6, 0, 1, 2, 3, 4, 5, 6, 0, 1, 2, 3, 4, 5, 6, 0, 1, 2, 3, 4]"
      ]
     },
     "execution_count": 143,
     "metadata": {},
     "output_type": "execute_result"
    }
   ],
   "source": [
    "DOW[:20]"
   ]
  },
  {
   "cell_type": "code",
   "execution_count": 144,
   "metadata": {},
   "outputs": [
    {
     "data": {
      "text/plain": [
       "[6, 0, 2, 2, 2, 4, 5, 0, 2, 3, 2, 2, 4, 5, 6, 0, 1, 1, 3, 4]"
      ]
     },
     "execution_count": 144,
     "metadata": {},
     "output_type": "execute_result"
    }
   ],
   "source": [
    "predList[:20]"
   ]
  },
  {
   "cell_type": "code",
   "execution_count": null,
   "metadata": {},
   "outputs": [],
   "source": []
  }
 ],
 "metadata": {
  "kernelspec": {
   "display_name": "Python 3",
   "language": "python",
   "name": "python3"
  },
  "language_info": {
   "codemirror_mode": {
    "name": "ipython",
    "version": 3
   },
   "file_extension": ".py",
   "mimetype": "text/x-python",
   "name": "python",
   "nbconvert_exporter": "python",
   "pygments_lexer": "ipython3",
   "version": "3.7.3"
  }
 },
 "nbformat": 4,
 "nbformat_minor": 2
}
